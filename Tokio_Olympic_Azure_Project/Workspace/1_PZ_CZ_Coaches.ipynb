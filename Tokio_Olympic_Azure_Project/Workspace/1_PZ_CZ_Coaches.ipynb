{
 "cells": [
  {
   "cell_type": "code",
   "execution_count": 0,
   "metadata": {
    "application/vnd.databricks.v1+cell": {
     "cellMetadata": {
      "byteLimit": 2048000,
      "rowLimit": 10000
     },
     "inputWidgets": {},
     "nuid": "44b94bc2-8d2c-49e1-b332-de32d53f6269",
     "showTitle": true,
     "title": "Imports"
    }
   },
   "outputs": [],
   "source": [
    "from pyspark.sql.functions import col, lit\n",
    "from datetime import datetime, timedelta, datetime"
   ]
  },
  {
   "cell_type": "code",
   "execution_count": 0,
   "metadata": {
    "application/vnd.databricks.v1+cell": {
     "cellMetadata": {
      "byteLimit": 2048000,
      "rowLimit": 10000
     },
     "inputWidgets": {},
     "nuid": "d2c9ad58-33ee-44f2-b4d0-1aa6567447fa",
     "showTitle": true,
     "title": "Parâmetros de Controle"
    }
   },
   "outputs": [],
   "source": [
    "current_time = (datetime.now() - timedelta(hours=3)).strftime(\"%Y-%m-%d %H:%M\")\n",
    "current_date = (datetime.now() - timedelta(hours=3)).strftime(\"%Y-%m-%d\")"
   ]
  },
  {
   "cell_type": "code",
   "execution_count": 0,
   "metadata": {
    "application/vnd.databricks.v1+cell": {
     "cellMetadata": {
      "byteLimit": 2048000,
      "rowLimit": 10000
     },
     "inputWidgets": {},
     "nuid": "8f0b27a1-832c-41b4-b0f1-66839faecbb3",
     "showTitle": false,
     "title": ""
    }
   },
   "outputs": [
    {
     "output_type": "display_data",
     "data": {
      "text/html": [
       "<style scoped>\n",
       "  .table-result-container {\n",
       "    max-height: 300px;\n",
       "    overflow: auto;\n",
       "  }\n",
       "  table, th, td {\n",
       "    border: 1px solid black;\n",
       "    border-collapse: collapse;\n",
       "  }\n",
       "  th, td {\n",
       "    padding: 5px;\n",
       "  }\n",
       "  th {\n",
       "    text-align: left;\n",
       "  }\n",
       "</style><div class='table-result-container'><table class='table-result'><thead style='background-color: white'><tr><th>path</th><th>name</th><th>size</th><th>modificationTime</th></tr></thead><tbody><tr><td>dbfs:/mnt/tokyoolymic/raw-data/athletes.csv</td><td>athletes.csv</td><td>407406</td><td>1697918485000</td></tr><tr><td>dbfs:/mnt/tokyoolymic/raw-data/coaches.csv</td><td>coaches.csv</td><td>16494</td><td>1697918486000</td></tr><tr><td>dbfs:/mnt/tokyoolymic/raw-data/entries_gender.csv</td><td>entries_gender.csv</td><td>1076</td><td>1697918486000</td></tr><tr><td>dbfs:/mnt/tokyoolymic/raw-data/medals.csv</td><td>medals.csv</td><td>2320</td><td>1697918486000</td></tr><tr><td>dbfs:/mnt/tokyoolymic/raw-data/teams.csv</td><td>teams.csv</td><td>34526</td><td>1697918485000</td></tr></tbody></table></div>"
      ]
     },
     "metadata": {
      "application/vnd.databricks.v1+output": {
       "addedWidgets": {},
       "aggData": [],
       "aggError": "",
       "aggOverflow": false,
       "aggSchema": [],
       "aggSeriesLimitReached": false,
       "aggType": "",
       "arguments": {},
       "columnCustomDisplayInfos": {},
       "data": [
        [
         "dbfs:/mnt/tokyoolymic/raw-data/athletes.csv",
         "athletes.csv",
         407406,
         1697918485000
        ],
        [
         "dbfs:/mnt/tokyoolymic/raw-data/coaches.csv",
         "coaches.csv",
         16494,
         1697918486000
        ],
        [
         "dbfs:/mnt/tokyoolymic/raw-data/entries_gender.csv",
         "entries_gender.csv",
         1076,
         1697918486000
        ],
        [
         "dbfs:/mnt/tokyoolymic/raw-data/medals.csv",
         "medals.csv",
         2320,
         1697918486000
        ],
        [
         "dbfs:/mnt/tokyoolymic/raw-data/teams.csv",
         "teams.csv",
         34526,
         1697918485000
        ]
       ],
       "datasetInfos": [],
       "dbfsResultPath": null,
       "isJsonSchema": true,
       "metadata": {
        "isDbfsCommandResult": false
       },
       "overflow": false,
       "plotOptions": {
        "customPlotOptions": {},
        "displayType": "table",
        "pivotAggregation": null,
        "pivotColumns": null,
        "xColumns": null,
        "yColumns": null
       },
       "removedWidgets": [],
       "schema": [
        {
         "metadata": "{}",
         "name": "path",
         "type": "\"string\""
        },
        {
         "metadata": "{}",
         "name": "name",
         "type": "\"string\""
        },
        {
         "metadata": "{}",
         "name": "size",
         "type": "\"long\""
        },
        {
         "metadata": "{}",
         "name": "modificationTime",
         "type": "\"long\""
        }
       ],
       "type": "table"
      }
     },
     "output_type": "display_data"
    }
   ],
   "source": [
    "%fs ls '/mnt/tokyoolymic/raw-data/'"
   ]
  },
  {
   "cell_type": "code",
   "execution_count": 0,
   "metadata": {
    "application/vnd.databricks.v1+cell": {
     "cellMetadata": {
      "byteLimit": 2048000,
      "rowLimit": 10000
     },
     "inputWidgets": {},
     "nuid": "dbc5d22d-3072-49d5-8656-f0da59a62e7a",
     "showTitle": true,
     "title": "Read DF Coaches"
    }
   },
   "outputs": [],
   "source": [
    "df_coaches = spark.read.format('csv').option('header', 'true').load('/mnt/tokyoolymic/raw-data/coaches.csv')"
   ]
  },
  {
   "cell_type": "code",
   "execution_count": 0,
   "metadata": {
    "application/vnd.databricks.v1+cell": {
     "cellMetadata": {
      "byteLimit": 2048000,
      "rowLimit": 10000
     },
     "inputWidgets": {},
     "nuid": "0ba3865d-4812-4376-8e4c-13ce2a01360b",
     "showTitle": false,
     "title": ""
    }
   },
   "outputs": [],
   "source": [
    "df_final = df_coaches\\\n",
    "    .select(\n",
    "        col('Name').alias('name'),\n",
    "        col('Country').alias('country'),\n",
    "        col('Discipline').alias('discipline'),\n",
    "        col('Event').alias('event'),\n",
    "        lit(current_time).alias('etl_date')\n",
    "    )"
   ]
  },
  {
   "cell_type": "code",
   "execution_count": 0,
   "metadata": {
    "application/vnd.databricks.v1+cell": {
     "cellMetadata": {
      "byteLimit": 2048000,
      "rowLimit": 10000
     },
     "inputWidgets": {},
     "nuid": "109a4aed-9394-4306-9544-e88af37f9cbd",
     "showTitle": false,
     "title": ""
    }
   },
   "outputs": [],
   "source": [
    "df_final.write.format('parquet').mode('overwrite').save('/mnt/tokyoolymic/transformed-data/coaches')"
   ]
  }
 ],
 "metadata": {
  "application/vnd.databricks.v1+notebook": {
   "dashboards": [],
   "language": "python",
   "notebookMetadata": {
    "mostRecentlyExecutedCommandWithImplicitDF": {
     "commandId": 97374714683829,
     "dataframes": [
      "_sqldf"
     ]
    },
    "pythonIndentUnit": 4
   },
   "notebookName": "1_PZ_CZ_Coaches",
   "widgets": {}
  }
 },
 "nbformat": 4,
 "nbformat_minor": 0
}
