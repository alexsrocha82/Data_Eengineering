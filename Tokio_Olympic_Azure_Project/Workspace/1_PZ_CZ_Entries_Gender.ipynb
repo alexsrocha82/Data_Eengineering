{
 "cells": [
  {
   "cell_type": "code",
   "execution_count": 0,
   "metadata": {
    "application/vnd.databricks.v1+cell": {
     "cellMetadata": {
      "byteLimit": 2048000,
      "rowLimit": 10000
     },
     "inputWidgets": {},
     "nuid": "44b94bc2-8d2c-49e1-b332-de32d53f6269",
     "showTitle": true,
     "title": "Imports"
    }
   },
   "outputs": [],
   "source": [
    "from pyspark.sql.functions import col, lit\n",
    "from datetime import datetime, timedelta, datetime"
   ]
  },
  {
   "cell_type": "code",
   "execution_count": 0,
   "metadata": {
    "application/vnd.databricks.v1+cell": {
     "cellMetadata": {
      "byteLimit": 2048000,
      "rowLimit": 10000
     },
     "inputWidgets": {},
     "nuid": "d2c9ad58-33ee-44f2-b4d0-1aa6567447fa",
     "showTitle": true,
     "title": "Parâmetros de Controle"
    }
   },
   "outputs": [],
   "source": [
    "current_time = (datetime.now() - timedelta(hours=3)).strftime(\"%Y-%m-%d %H:%M\")\n",
    "current_date = (datetime.now() - timedelta(hours=3)).strftime(\"%Y-%m-%d\")"
   ]
  },
  {
   "cell_type": "code",
   "execution_count": 0,
   "metadata": {
    "application/vnd.databricks.v1+cell": {
     "cellMetadata": {
      "byteLimit": 2048000,
      "rowLimit": 10000
     },
     "inputWidgets": {},
     "nuid": "8f0b27a1-832c-41b4-b0f1-66839faecbb3",
     "showTitle": false,
     "title": ""
    }
   },
   "outputs": [
    {
     "output_type": "display_data",
     "data": {
      "text/html": [
       "<style scoped>\n",
       "  .table-result-container {\n",
       "    max-height: 300px;\n",
       "    overflow: auto;\n",
       "  }\n",
       "  table, th, td {\n",
       "    border: 1px solid black;\n",
       "    border-collapse: collapse;\n",
       "  }\n",
       "  th, td {\n",
       "    padding: 5px;\n",
       "  }\n",
       "  th {\n",
       "    text-align: left;\n",
       "  }\n",
       "</style><div class='table-result-container'><table class='table-result'><thead style='background-color: white'><tr><th>path</th><th>name</th><th>size</th><th>modificationTime</th></tr></thead><tbody><tr><td>dbfs:/mnt/tokyoolymic/raw-data/athletes.csv</td><td>athletes.csv</td><td>407406</td><td>1697918485000</td></tr><tr><td>dbfs:/mnt/tokyoolymic/raw-data/coaches.csv</td><td>coaches.csv</td><td>16494</td><td>1697918486000</td></tr><tr><td>dbfs:/mnt/tokyoolymic/raw-data/entries_gender.csv</td><td>entries_gender.csv</td><td>1076</td><td>1697918486000</td></tr><tr><td>dbfs:/mnt/tokyoolymic/raw-data/medals.csv</td><td>medals.csv</td><td>2320</td><td>1697918486000</td></tr><tr><td>dbfs:/mnt/tokyoolymic/raw-data/teams.csv</td><td>teams.csv</td><td>34526</td><td>1697918485000</td></tr></tbody></table></div>"
      ]
     },
     "metadata": {
      "application/vnd.databricks.v1+output": {
       "addedWidgets": {},
       "aggData": [],
       "aggError": "",
       "aggOverflow": false,
       "aggSchema": [],
       "aggSeriesLimitReached": false,
       "aggType": "",
       "arguments": {},
       "columnCustomDisplayInfos": {},
       "data": [
        [
         "dbfs:/mnt/tokyoolymic/raw-data/athletes.csv",
         "athletes.csv",
         407406,
         1697918485000
        ],
        [
         "dbfs:/mnt/tokyoolymic/raw-data/coaches.csv",
         "coaches.csv",
         16494,
         1697918486000
        ],
        [
         "dbfs:/mnt/tokyoolymic/raw-data/entries_gender.csv",
         "entries_gender.csv",
         1076,
         1697918486000
        ],
        [
         "dbfs:/mnt/tokyoolymic/raw-data/medals.csv",
         "medals.csv",
         2320,
         1697918486000
        ],
        [
         "dbfs:/mnt/tokyoolymic/raw-data/teams.csv",
         "teams.csv",
         34526,
         1697918485000
        ]
       ],
       "datasetInfos": [],
       "dbfsResultPath": null,
       "isJsonSchema": true,
       "metadata": {
        "isDbfsCommandResult": false
       },
       "overflow": false,
       "plotOptions": {
        "customPlotOptions": {},
        "displayType": "table",
        "pivotAggregation": null,
        "pivotColumns": null,
        "xColumns": null,
        "yColumns": null
       },
       "removedWidgets": [],
       "schema": [
        {
         "metadata": "{}",
         "name": "path",
         "type": "\"string\""
        },
        {
         "metadata": "{}",
         "name": "name",
         "type": "\"string\""
        },
        {
         "metadata": "{}",
         "name": "size",
         "type": "\"long\""
        },
        {
         "metadata": "{}",
         "name": "modificationTime",
         "type": "\"long\""
        }
       ],
       "type": "table"
      }
     },
     "output_type": "display_data"
    }
   ],
   "source": [
    "%fs ls '/mnt/tokyoolymic/raw-data/'"
   ]
  },
  {
   "cell_type": "code",
   "execution_count": 0,
   "metadata": {
    "application/vnd.databricks.v1+cell": {
     "cellMetadata": {
      "byteLimit": 2048000,
      "rowLimit": 10000
     },
     "inputWidgets": {},
     "nuid": "dbc5d22d-3072-49d5-8656-f0da59a62e7a",
     "showTitle": true,
     "title": "Read DF Coaches"
    }
   },
   "outputs": [],
   "source": [
    "df_entries_gender = spark.read.format('csv').option('header', 'true').load('/mnt/tokyoolymic/raw-data/entries_gender.csv')"
   ]
  },
  {
   "cell_type": "code",
   "execution_count": 0,
   "metadata": {
    "application/vnd.databricks.v1+cell": {
     "cellMetadata": {
      "byteLimit": 2048000,
      "rowLimit": 10000
     },
     "inputWidgets": {},
     "nuid": "0ba3865d-4812-4376-8e4c-13ce2a01360b",
     "showTitle": false,
     "title": ""
    }
   },
   "outputs": [],
   "source": [
    "df_final = df_entries_gender\\\n",
    "    .select(\n",
    "        col('Discipline').alias('discipline'),\n",
    "        col('Female').cast('int').alias('female'),\n",
    "        col('Male').cast('int').alias('male'),\n",
    "        col('Total').cast('int').alias('total'),\n",
    "        lit(current_time).alias('etl_date')\n",
    "    )"
   ]
  },
  {
   "cell_type": "code",
   "execution_count": 0,
   "metadata": {
    "application/vnd.databricks.v1+cell": {
     "cellMetadata": {
      "byteLimit": 2048000,
      "rowLimit": 10000
     },
     "inputWidgets": {},
     "nuid": "dd2cda64-a8bc-4724-9510-b15c2511f117",
     "showTitle": false,
     "title": ""
    }
   },
   "outputs": [
    {
     "output_type": "display_data",
     "data": {
      "text/html": [
       "<style scoped>\n",
       "  .table-result-container {\n",
       "    max-height: 300px;\n",
       "    overflow: auto;\n",
       "  }\n",
       "  table, th, td {\n",
       "    border: 1px solid black;\n",
       "    border-collapse: collapse;\n",
       "  }\n",
       "  th, td {\n",
       "    padding: 5px;\n",
       "  }\n",
       "  th {\n",
       "    text-align: left;\n",
       "  }\n",
       "</style><div class='table-result-container'><table class='table-result'><thead style='background-color: white'><tr><th>discipline</th><th>female</th><th>male</th><th>total</th><th>etl_date</th></tr></thead><tbody><tr><td>3x3 Basketball</td><td>32</td><td>32</td><td>64</td><td>2023-10-27 14:19</td></tr><tr><td>Archery</td><td>64</td><td>64</td><td>128</td><td>2023-10-27 14:19</td></tr><tr><td>Artistic Gymnastics</td><td>98</td><td>98</td><td>196</td><td>2023-10-27 14:19</td></tr><tr><td>Artistic Swimming</td><td>105</td><td>0</td><td>105</td><td>2023-10-27 14:19</td></tr><tr><td>Athletics</td><td>969</td><td>1072</td><td>2041</td><td>2023-10-27 14:19</td></tr><tr><td>Badminton</td><td>86</td><td>87</td><td>173</td><td>2023-10-27 14:19</td></tr><tr><td>Baseball/Softball</td><td>90</td><td>144</td><td>234</td><td>2023-10-27 14:19</td></tr><tr><td>Basketball</td><td>144</td><td>144</td><td>288</td><td>2023-10-27 14:19</td></tr><tr><td>Beach Volleyball</td><td>48</td><td>48</td><td>96</td><td>2023-10-27 14:19</td></tr><tr><td>Boxing</td><td>102</td><td>187</td><td>289</td><td>2023-10-27 14:19</td></tr><tr><td>Canoe Slalom</td><td>41</td><td>41</td><td>82</td><td>2023-10-27 14:19</td></tr><tr><td>Canoe Sprint</td><td>123</td><td>126</td><td>249</td><td>2023-10-27 14:19</td></tr><tr><td>Cycling BMX Freestyle</td><td>10</td><td>9</td><td>19</td><td>2023-10-27 14:19</td></tr><tr><td>Cycling BMX Racing</td><td>24</td><td>24</td><td>48</td><td>2023-10-27 14:19</td></tr><tr><td>Cycling Mountain Bike</td><td>38</td><td>38</td><td>76</td><td>2023-10-27 14:19</td></tr><tr><td>Cycling Road</td><td>70</td><td>131</td><td>201</td><td>2023-10-27 14:19</td></tr><tr><td>Cycling Track</td><td>90</td><td>99</td><td>189</td><td>2023-10-27 14:19</td></tr><tr><td>Diving</td><td>72</td><td>71</td><td>143</td><td>2023-10-27 14:19</td></tr><tr><td>Equestrian</td><td>73</td><td>125</td><td>198</td><td>2023-10-27 14:19</td></tr><tr><td>Fencing</td><td>107</td><td>108</td><td>215</td><td>2023-10-27 14:19</td></tr><tr><td>Football</td><td>264</td><td>344</td><td>608</td><td>2023-10-27 14:19</td></tr><tr><td>Golf</td><td>60</td><td>60</td><td>120</td><td>2023-10-27 14:19</td></tr><tr><td>Handball</td><td>168</td><td>168</td><td>336</td><td>2023-10-27 14:19</td></tr><tr><td>Hockey</td><td>192</td><td>192</td><td>384</td><td>2023-10-27 14:19</td></tr><tr><td>Judo</td><td>192</td><td>201</td><td>393</td><td>2023-10-27 14:19</td></tr><tr><td>Karate</td><td>40</td><td>42</td><td>82</td><td>2023-10-27 14:19</td></tr><tr><td>Marathon Swimming</td><td>25</td><td>25</td><td>50</td><td>2023-10-27 14:19</td></tr><tr><td>Modern Pentathlon</td><td>36</td><td>36</td><td>72</td><td>2023-10-27 14:19</td></tr><tr><td>Rhythmic Gymnastics</td><td>96</td><td>0</td><td>96</td><td>2023-10-27 14:19</td></tr><tr><td>Rowing</td><td>257</td><td>265</td><td>522</td><td>2023-10-27 14:19</td></tr><tr><td>Rugby Sevens</td><td>146</td><td>151</td><td>297</td><td>2023-10-27 14:19</td></tr><tr><td>Sailing</td><td>175</td><td>175</td><td>350</td><td>2023-10-27 14:19</td></tr><tr><td>Shooting</td><td>178</td><td>178</td><td>356</td><td>2023-10-27 14:19</td></tr><tr><td>Skateboarding</td><td>40</td><td>40</td><td>80</td><td>2023-10-27 14:19</td></tr><tr><td>Sport Climbing</td><td>20</td><td>20</td><td>40</td><td>2023-10-27 14:19</td></tr><tr><td>Surfing</td><td>20</td><td>20</td><td>40</td><td>2023-10-27 14:19</td></tr><tr><td>Swimming</td><td>361</td><td>418</td><td>779</td><td>2023-10-27 14:19</td></tr><tr><td>Table Tennis</td><td>86</td><td>86</td><td>172</td><td>2023-10-27 14:19</td></tr><tr><td>Taekwondo</td><td>65</td><td>65</td><td>130</td><td>2023-10-27 14:19</td></tr><tr><td>Tennis</td><td>94</td><td>97</td><td>191</td><td>2023-10-27 14:19</td></tr><tr><td>Trampoline Gymnastics</td><td>16</td><td>16</td><td>32</td><td>2023-10-27 14:19</td></tr><tr><td>Triathlon</td><td>55</td><td>55</td><td>110</td><td>2023-10-27 14:19</td></tr><tr><td>Volleyball</td><td>144</td><td>144</td><td>288</td><td>2023-10-27 14:19</td></tr><tr><td>Water Polo</td><td>122</td><td>146</td><td>268</td><td>2023-10-27 14:19</td></tr><tr><td>Weightlifting</td><td>98</td><td>99</td><td>197</td><td>2023-10-27 14:19</td></tr><tr><td>Wrestling</td><td>96</td><td>193</td><td>289</td><td>2023-10-27 14:19</td></tr></tbody></table></div>"
      ]
     },
     "metadata": {
      "application/vnd.databricks.v1+output": {
       "addedWidgets": {},
       "aggData": [],
       "aggError": "",
       "aggOverflow": false,
       "aggSchema": [],
       "aggSeriesLimitReached": false,
       "aggType": "",
       "arguments": {},
       "columnCustomDisplayInfos": {},
       "data": [
        [
         "3x3 Basketball",
         32,
         32,
         64,
         "2023-10-27 14:19"
        ],
        [
         "Archery",
         64,
         64,
         128,
         "2023-10-27 14:19"
        ],
        [
         "Artistic Gymnastics",
         98,
         98,
         196,
         "2023-10-27 14:19"
        ],
        [
         "Artistic Swimming",
         105,
         0,
         105,
         "2023-10-27 14:19"
        ],
        [
         "Athletics",
         969,
         1072,
         2041,
         "2023-10-27 14:19"
        ],
        [
         "Badminton",
         86,
         87,
         173,
         "2023-10-27 14:19"
        ],
        [
         "Baseball/Softball",
         90,
         144,
         234,
         "2023-10-27 14:19"
        ],
        [
         "Basketball",
         144,
         144,
         288,
         "2023-10-27 14:19"
        ],
        [
         "Beach Volleyball",
         48,
         48,
         96,
         "2023-10-27 14:19"
        ],
        [
         "Boxing",
         102,
         187,
         289,
         "2023-10-27 14:19"
        ],
        [
         "Canoe Slalom",
         41,
         41,
         82,
         "2023-10-27 14:19"
        ],
        [
         "Canoe Sprint",
         123,
         126,
         249,
         "2023-10-27 14:19"
        ],
        [
         "Cycling BMX Freestyle",
         10,
         9,
         19,
         "2023-10-27 14:19"
        ],
        [
         "Cycling BMX Racing",
         24,
         24,
         48,
         "2023-10-27 14:19"
        ],
        [
         "Cycling Mountain Bike",
         38,
         38,
         76,
         "2023-10-27 14:19"
        ],
        [
         "Cycling Road",
         70,
         131,
         201,
         "2023-10-27 14:19"
        ],
        [
         "Cycling Track",
         90,
         99,
         189,
         "2023-10-27 14:19"
        ],
        [
         "Diving",
         72,
         71,
         143,
         "2023-10-27 14:19"
        ],
        [
         "Equestrian",
         73,
         125,
         198,
         "2023-10-27 14:19"
        ],
        [
         "Fencing",
         107,
         108,
         215,
         "2023-10-27 14:19"
        ],
        [
         "Football",
         264,
         344,
         608,
         "2023-10-27 14:19"
        ],
        [
         "Golf",
         60,
         60,
         120,
         "2023-10-27 14:19"
        ],
        [
         "Handball",
         168,
         168,
         336,
         "2023-10-27 14:19"
        ],
        [
         "Hockey",
         192,
         192,
         384,
         "2023-10-27 14:19"
        ],
        [
         "Judo",
         192,
         201,
         393,
         "2023-10-27 14:19"
        ],
        [
         "Karate",
         40,
         42,
         82,
         "2023-10-27 14:19"
        ],
        [
         "Marathon Swimming",
         25,
         25,
         50,
         "2023-10-27 14:19"
        ],
        [
         "Modern Pentathlon",
         36,
         36,
         72,
         "2023-10-27 14:19"
        ],
        [
         "Rhythmic Gymnastics",
         96,
         0,
         96,
         "2023-10-27 14:19"
        ],
        [
         "Rowing",
         257,
         265,
         522,
         "2023-10-27 14:19"
        ],
        [
         "Rugby Sevens",
         146,
         151,
         297,
         "2023-10-27 14:19"
        ],
        [
         "Sailing",
         175,
         175,
         350,
         "2023-10-27 14:19"
        ],
        [
         "Shooting",
         178,
         178,
         356,
         "2023-10-27 14:19"
        ],
        [
         "Skateboarding",
         40,
         40,
         80,
         "2023-10-27 14:19"
        ],
        [
         "Sport Climbing",
         20,
         20,
         40,
         "2023-10-27 14:19"
        ],
        [
         "Surfing",
         20,
         20,
         40,
         "2023-10-27 14:19"
        ],
        [
         "Swimming",
         361,
         418,
         779,
         "2023-10-27 14:19"
        ],
        [
         "Table Tennis",
         86,
         86,
         172,
         "2023-10-27 14:19"
        ],
        [
         "Taekwondo",
         65,
         65,
         130,
         "2023-10-27 14:19"
        ],
        [
         "Tennis",
         94,
         97,
         191,
         "2023-10-27 14:19"
        ],
        [
         "Trampoline Gymnastics",
         16,
         16,
         32,
         "2023-10-27 14:19"
        ],
        [
         "Triathlon",
         55,
         55,
         110,
         "2023-10-27 14:19"
        ],
        [
         "Volleyball",
         144,
         144,
         288,
         "2023-10-27 14:19"
        ],
        [
         "Water Polo",
         122,
         146,
         268,
         "2023-10-27 14:19"
        ],
        [
         "Weightlifting",
         98,
         99,
         197,
         "2023-10-27 14:19"
        ],
        [
         "Wrestling",
         96,
         193,
         289,
         "2023-10-27 14:19"
        ]
       ],
       "datasetInfos": [],
       "dbfsResultPath": null,
       "isJsonSchema": true,
       "metadata": {},
       "overflow": false,
       "plotOptions": {
        "customPlotOptions": {},
        "displayType": "table",
        "pivotAggregation": null,
        "pivotColumns": null,
        "xColumns": null,
        "yColumns": null
       },
       "removedWidgets": [],
       "schema": [
        {
         "metadata": "{}",
         "name": "discipline",
         "type": "\"string\""
        },
        {
         "metadata": "{}",
         "name": "female",
         "type": "\"integer\""
        },
        {
         "metadata": "{}",
         "name": "male",
         "type": "\"integer\""
        },
        {
         "metadata": "{}",
         "name": "total",
         "type": "\"integer\""
        },
        {
         "metadata": "{}",
         "name": "etl_date",
         "type": "\"string\""
        }
       ],
       "type": "table"
      }
     },
     "output_type": "display_data"
    }
   ],
   "source": [
    "df_final.display()"
   ]
  },
  {
   "cell_type": "code",
   "execution_count": 0,
   "metadata": {
    "application/vnd.databricks.v1+cell": {
     "cellMetadata": {
      "byteLimit": 2048000,
      "rowLimit": 10000
     },
     "inputWidgets": {},
     "nuid": "109a4aed-9394-4306-9544-e88af37f9cbd",
     "showTitle": false,
     "title": ""
    }
   },
   "outputs": [],
   "source": [
    "df_final.write.format('parquet').mode('overwrite').save('/mnt/tokyoolymic/transformed-data/entries_gender')"
   ]
  }
 ],
 "metadata": {
  "application/vnd.databricks.v1+notebook": {
   "dashboards": [],
   "language": "python",
   "notebookMetadata": {
    "mostRecentlyExecutedCommandWithImplicitDF": {
     "commandId": 97374714683838,
     "dataframes": [
      "_sqldf"
     ]
    },
    "pythonIndentUnit": 4
   },
   "notebookName": "1_PZ_CZ_Entries_Gender",
   "widgets": {}
  }
 },
 "nbformat": 4,
 "nbformat_minor": 0
}
