{
 "cells": [
  {
   "cell_type": "code",
   "execution_count": 0,
   "metadata": {
    "application/vnd.databricks.v1+cell": {
     "cellMetadata": {
      "byteLimit": 2048000,
      "rowLimit": 10000
     },
     "inputWidgets": {},
     "nuid": "44b94bc2-8d2c-49e1-b332-de32d53f6269",
     "showTitle": true,
     "title": "Imports"
    }
   },
   "outputs": [],
   "source": [
    "from pyspark.sql.functions import col, lit\n",
    "from datetime import datetime, timedelta, datetime"
   ]
  },
  {
   "cell_type": "code",
   "execution_count": 0,
   "metadata": {
    "application/vnd.databricks.v1+cell": {
     "cellMetadata": {
      "byteLimit": 2048000,
      "rowLimit": 10000
     },
     "inputWidgets": {},
     "nuid": "d2c9ad58-33ee-44f2-b4d0-1aa6567447fa",
     "showTitle": true,
     "title": "Parâmetros de Controle"
    }
   },
   "outputs": [],
   "source": [
    "current_time = (datetime.now() - timedelta(hours=3)).strftime(\"%Y-%m-%d %H:%M\")\n",
    "current_date = (datetime.now() - timedelta(hours=3)).strftime(\"%Y-%m-%d\")"
   ]
  },
  {
   "cell_type": "code",
   "execution_count": 0,
   "metadata": {
    "application/vnd.databricks.v1+cell": {
     "cellMetadata": {
      "byteLimit": 2048000,
      "rowLimit": 10000
     },
     "inputWidgets": {},
     "nuid": "dbc5d22d-3072-49d5-8656-f0da59a62e7a",
     "showTitle": true,
     "title": "Read DF Atletas"
    }
   },
   "outputs": [],
   "source": [
    "df_medals = spark.read.format('csv').option('header', 'true').load('/mnt/tokyoolymic/raw-data/medals.csv')"
   ]
  },
  {
   "cell_type": "code",
   "execution_count": 0,
   "metadata": {
    "application/vnd.databricks.v1+cell": {
     "cellMetadata": {
      "byteLimit": 2048000,
      "rowLimit": 10000
     },
     "inputWidgets": {},
     "nuid": "0ba3865d-4812-4376-8e4c-13ce2a01360b",
     "showTitle": true,
     "title": "Transformations"
    }
   },
   "outputs": [],
   "source": [
    "df_final = df_medals\\\n",
    "    .select(       \n",
    "        col('Rank').cast('int').alias('rank'),\n",
    "        col('Team_Country').alias('team_country'),\n",
    "        col('Gold').cast('int').alias('gold'),\n",
    "        col('Silver').cast('int').alias('silver'),\n",
    "        col('Bronze').cast('int').alias('bronze'),\n",
    "        col('Total').cast('int').alias('total'),\n",
    "        col('Rank by Total').cast('int').alias('rank_by_total'),\n",
    "        lit(current_time).alias('etl_date')\n",
    "    )"
   ]
  },
  {
   "cell_type": "code",
   "execution_count": 0,
   "metadata": {
    "application/vnd.databricks.v1+cell": {
     "cellMetadata": {
      "byteLimit": 2048000,
      "rowLimit": 10000
     },
     "inputWidgets": {},
     "nuid": "dd2cda64-a8bc-4724-9510-b15c2511f117",
     "showTitle": false,
     "title": ""
    }
   },
   "outputs": [
    {
     "output_type": "display_data",
     "data": {
      "text/html": [
       "<style scoped>\n",
       "  .table-result-container {\n",
       "    max-height: 300px;\n",
       "    overflow: auto;\n",
       "  }\n",
       "  table, th, td {\n",
       "    border: 1px solid black;\n",
       "    border-collapse: collapse;\n",
       "  }\n",
       "  th, td {\n",
       "    padding: 5px;\n",
       "  }\n",
       "  th {\n",
       "    text-align: left;\n",
       "  }\n",
       "</style><div class='table-result-container'><table class='table-result'><thead style='background-color: white'><tr><th>rank</th><th>team_country</th><th>gold</th><th>silver</th><th>bronze</th><th>total</th><th>rank_by_total</th><th>etl_date</th></tr></thead><tbody><tr><td>1</td><td>United States of America</td><td>39</td><td>41</td><td>33</td><td>113</td><td>1</td><td>2023-10-27 14:57</td></tr><tr><td>2</td><td>People's Republic of China</td><td>38</td><td>32</td><td>18</td><td>88</td><td>2</td><td>2023-10-27 14:57</td></tr><tr><td>3</td><td>Japan</td><td>27</td><td>14</td><td>17</td><td>58</td><td>5</td><td>2023-10-27 14:57</td></tr><tr><td>4</td><td>Great Britain</td><td>22</td><td>21</td><td>22</td><td>65</td><td>4</td><td>2023-10-27 14:57</td></tr><tr><td>5</td><td>ROC</td><td>20</td><td>28</td><td>23</td><td>71</td><td>3</td><td>2023-10-27 14:57</td></tr><tr><td>6</td><td>Australia</td><td>17</td><td>7</td><td>22</td><td>46</td><td>6</td><td>2023-10-27 14:57</td></tr><tr><td>7</td><td>Netherlands</td><td>10</td><td>12</td><td>14</td><td>36</td><td>9</td><td>2023-10-27 14:57</td></tr><tr><td>8</td><td>France</td><td>10</td><td>12</td><td>11</td><td>33</td><td>10</td><td>2023-10-27 14:57</td></tr><tr><td>9</td><td>Germany</td><td>10</td><td>11</td><td>16</td><td>37</td><td>8</td><td>2023-10-27 14:57</td></tr><tr><td>10</td><td>Italy</td><td>10</td><td>10</td><td>20</td><td>40</td><td>7</td><td>2023-10-27 14:57</td></tr><tr><td>11</td><td>Canada</td><td>7</td><td>6</td><td>11</td><td>24</td><td>11</td><td>2023-10-27 14:57</td></tr><tr><td>12</td><td>Brazil</td><td>7</td><td>6</td><td>8</td><td>21</td><td>12</td><td>2023-10-27 14:57</td></tr><tr><td>13</td><td>New Zealand</td><td>7</td><td>6</td><td>7</td><td>20</td><td>13</td><td>2023-10-27 14:57</td></tr><tr><td>14</td><td>Cuba</td><td>7</td><td>3</td><td>5</td><td>15</td><td>18</td><td>2023-10-27 14:57</td></tr><tr><td>15</td><td>Hungary</td><td>6</td><td>7</td><td>7</td><td>20</td><td>13</td><td>2023-10-27 14:57</td></tr><tr><td>16</td><td>Republic of Korea</td><td>6</td><td>4</td><td>10</td><td>20</td><td>13</td><td>2023-10-27 14:57</td></tr><tr><td>17</td><td>Poland</td><td>4</td><td>5</td><td>5</td><td>14</td><td>19</td><td>2023-10-27 14:57</td></tr><tr><td>18</td><td>Czech Republic</td><td>4</td><td>4</td><td>3</td><td>11</td><td>23</td><td>2023-10-27 14:57</td></tr><tr><td>19</td><td>Kenya</td><td>4</td><td>4</td><td>2</td><td>10</td><td>25</td><td>2023-10-27 14:57</td></tr><tr><td>20</td><td>Norway</td><td>4</td><td>2</td><td>2</td><td>8</td><td>29</td><td>2023-10-27 14:57</td></tr><tr><td>21</td><td>Jamaica</td><td>4</td><td>1</td><td>4</td><td>9</td><td>26</td><td>2023-10-27 14:57</td></tr><tr><td>22</td><td>Spain</td><td>3</td><td>8</td><td>6</td><td>17</td><td>17</td><td>2023-10-27 14:57</td></tr><tr><td>23</td><td>Sweden</td><td>3</td><td>6</td><td>0</td><td>9</td><td>26</td><td>2023-10-27 14:57</td></tr><tr><td>24</td><td>Switzerland</td><td>3</td><td>4</td><td>6</td><td>13</td><td>20</td><td>2023-10-27 14:57</td></tr><tr><td>25</td><td>Denmark</td><td>3</td><td>4</td><td>4</td><td>11</td><td>23</td><td>2023-10-27 14:57</td></tr><tr><td>26</td><td>Croatia</td><td>3</td><td>3</td><td>2</td><td>8</td><td>29</td><td>2023-10-27 14:57</td></tr><tr><td>27</td><td>Islamic Republic of Iran</td><td>3</td><td>2</td><td>2</td><td>7</td><td>33</td><td>2023-10-27 14:57</td></tr><tr><td>28</td><td>Serbia</td><td>3</td><td>1</td><td>5</td><td>9</td><td>26</td><td>2023-10-27 14:57</td></tr><tr><td>29</td><td>Belgium</td><td>3</td><td>1</td><td>3</td><td>7</td><td>33</td><td>2023-10-27 14:57</td></tr><tr><td>30</td><td>Bulgaria</td><td>3</td><td>1</td><td>2</td><td>6</td><td>39</td><td>2023-10-27 14:57</td></tr><tr><td>31</td><td>Slovenia</td><td>3</td><td>1</td><td>1</td><td>5</td><td>42</td><td>2023-10-27 14:57</td></tr><tr><td>32</td><td>Uzbekistan</td><td>3</td><td>0</td><td>2</td><td>5</td><td>42</td><td>2023-10-27 14:57</td></tr><tr><td>33</td><td>Georgia</td><td>2</td><td>5</td><td>1</td><td>8</td><td>29</td><td>2023-10-27 14:57</td></tr><tr><td>34</td><td>Chinese Taipei</td><td>2</td><td>4</td><td>6</td><td>12</td><td>22</td><td>2023-10-27 14:57</td></tr><tr><td>35</td><td>Turkey</td><td>2</td><td>2</td><td>9</td><td>13</td><td>20</td><td>2023-10-27 14:57</td></tr><tr><td>36</td><td>Greece</td><td>2</td><td>1</td><td>1</td><td>4</td><td>47</td><td>2023-10-27 14:57</td></tr><tr><td>36</td><td>Uganda</td><td>2</td><td>1</td><td>1</td><td>4</td><td>47</td><td>2023-10-27 14:57</td></tr><tr><td>38</td><td>Ecuador</td><td>2</td><td>1</td><td>0</td><td>3</td><td>60</td><td>2023-10-27 14:57</td></tr><tr><td>39</td><td>Ireland</td><td>2</td><td>0</td><td>2</td><td>4</td><td>47</td><td>2023-10-27 14:57</td></tr><tr><td>39</td><td>Israel</td><td>2</td><td>0</td><td>2</td><td>4</td><td>47</td><td>2023-10-27 14:57</td></tr><tr><td>41</td><td>Qatar</td><td>2</td><td>0</td><td>1</td><td>3</td><td>60</td><td>2023-10-27 14:57</td></tr><tr><td>42</td><td>Bahamas</td><td>2</td><td>0</td><td>0</td><td>2</td><td>66</td><td>2023-10-27 14:57</td></tr><tr><td>42</td><td>Kosovo</td><td>2</td><td>0</td><td>0</td><td>2</td><td>66</td><td>2023-10-27 14:57</td></tr><tr><td>44</td><td>Ukraine</td><td>1</td><td>6</td><td>12</td><td>19</td><td>16</td><td>2023-10-27 14:57</td></tr><tr><td>45</td><td>Belarus</td><td>1</td><td>3</td><td>3</td><td>7</td><td>33</td><td>2023-10-27 14:57</td></tr><tr><td>46</td><td>Romania</td><td>1</td><td>3</td><td>0</td><td>4</td><td>47</td><td>2023-10-27 14:57</td></tr><tr><td>46</td><td>Venezuela</td><td>1</td><td>3</td><td>0</td><td>4</td><td>47</td><td>2023-10-27 14:57</td></tr><tr><td>48</td><td>India</td><td>1</td><td>2</td><td>4</td><td>7</td><td>33</td><td>2023-10-27 14:57</td></tr><tr><td>49</td><td>Hong Kong, China</td><td>1</td><td>2</td><td>3</td><td>6</td><td>39</td><td>2023-10-27 14:57</td></tr><tr><td>50</td><td>Philippines</td><td>1</td><td>2</td><td>1</td><td>4</td><td>47</td><td>2023-10-27 14:57</td></tr><tr><td>50</td><td>Slovakia</td><td>1</td><td>2</td><td>1</td><td>4</td><td>47</td><td>2023-10-27 14:57</td></tr><tr><td>52</td><td>South Africa</td><td>1</td><td>2</td><td>0</td><td>3</td><td>60</td><td>2023-10-27 14:57</td></tr><tr><td>53</td><td>Austria</td><td>1</td><td>1</td><td>5</td><td>7</td><td>33</td><td>2023-10-27 14:57</td></tr><tr><td>54</td><td>Egypt</td><td>1</td><td>1</td><td>4</td><td>6</td><td>39</td><td>2023-10-27 14:57</td></tr><tr><td>55</td><td>Indonesia</td><td>1</td><td>1</td><td>3</td><td>5</td><td>42</td><td>2023-10-27 14:57</td></tr><tr><td>56</td><td>Ethiopia</td><td>1</td><td>1</td><td>2</td><td>4</td><td>47</td><td>2023-10-27 14:57</td></tr><tr><td>56</td><td>Portugal</td><td>1</td><td>1</td><td>2</td><td>4</td><td>47</td><td>2023-10-27 14:57</td></tr><tr><td>58</td><td>Tunisia</td><td>1</td><td>1</td><td>0</td><td>2</td><td>66</td><td>2023-10-27 14:57</td></tr><tr><td>59</td><td>Estonia</td><td>1</td><td>0</td><td>1</td><td>2</td><td>66</td><td>2023-10-27 14:57</td></tr><tr><td>59</td><td>Fiji</td><td>1</td><td>0</td><td>1</td><td>2</td><td>66</td><td>2023-10-27 14:57</td></tr><tr><td>59</td><td>Latvia</td><td>1</td><td>0</td><td>1</td><td>2</td><td>66</td><td>2023-10-27 14:57</td></tr><tr><td>59</td><td>Thailand</td><td>1</td><td>0</td><td>1</td><td>2</td><td>66</td><td>2023-10-27 14:57</td></tr><tr><td>63</td><td>Bermuda</td><td>1</td><td>0</td><td>0</td><td>1</td><td>77</td><td>2023-10-27 14:57</td></tr><tr><td>63</td><td>Morocco</td><td>1</td><td>0</td><td>0</td><td>1</td><td>77</td><td>2023-10-27 14:57</td></tr><tr><td>63</td><td>Puerto Rico</td><td>1</td><td>0</td><td>0</td><td>1</td><td>77</td><td>2023-10-27 14:57</td></tr><tr><td>66</td><td>Colombia</td><td>0</td><td>4</td><td>1</td><td>5</td><td>42</td><td>2023-10-27 14:57</td></tr><tr><td>67</td><td>Azerbaijan</td><td>0</td><td>3</td><td>4</td><td>7</td><td>33</td><td>2023-10-27 14:57</td></tr><tr><td>68</td><td>Dominican Republic</td><td>0</td><td>3</td><td>2</td><td>5</td><td>42</td><td>2023-10-27 14:57</td></tr><tr><td>69</td><td>Armenia</td><td>0</td><td>2</td><td>2</td><td>4</td><td>47</td><td>2023-10-27 14:57</td></tr><tr><td>70</td><td>Kyrgyzstan</td><td>0</td><td>2</td><td>1</td><td>3</td><td>60</td><td>2023-10-27 14:57</td></tr><tr><td>71</td><td>Mongolia</td><td>0</td><td>1</td><td>3</td><td>4</td><td>47</td><td>2023-10-27 14:57</td></tr><tr><td>72</td><td>Argentina</td><td>0</td><td>1</td><td>2</td><td>3</td><td>60</td><td>2023-10-27 14:57</td></tr><tr><td>72</td><td>San Marino</td><td>0</td><td>1</td><td>2</td><td>3</td><td>60</td><td>2023-10-27 14:57</td></tr><tr><td>74</td><td>Jordan</td><td>0</td><td>1</td><td>1</td><td>2</td><td>66</td><td>2023-10-27 14:57</td></tr><tr><td>74</td><td>Malaysia</td><td>0</td><td>1</td><td>1</td><td>2</td><td>66</td><td>2023-10-27 14:57</td></tr><tr><td>74</td><td>Nigeria</td><td>0</td><td>1</td><td>1</td><td>2</td><td>66</td><td>2023-10-27 14:57</td></tr><tr><td>77</td><td>Bahrain</td><td>0</td><td>1</td><td>0</td><td>1</td><td>77</td><td>2023-10-27 14:57</td></tr><tr><td>77</td><td>Saudi Arabia</td><td>0</td><td>1</td><td>0</td><td>1</td><td>77</td><td>2023-10-27 14:57</td></tr><tr><td>77</td><td>Lithuania</td><td>0</td><td>1</td><td>0</td><td>1</td><td>77</td><td>2023-10-27 14:57</td></tr><tr><td>77</td><td>North Macedonia</td><td>0</td><td>1</td><td>0</td><td>1</td><td>77</td><td>2023-10-27 14:57</td></tr><tr><td>77</td><td>Namibia</td><td>0</td><td>1</td><td>0</td><td>1</td><td>77</td><td>2023-10-27 14:57</td></tr><tr><td>77</td><td>Turkmenistan</td><td>0</td><td>1</td><td>0</td><td>1</td><td>77</td><td>2023-10-27 14:57</td></tr><tr><td>83</td><td>Kazakhstan</td><td>0</td><td>0</td><td>8</td><td>8</td><td>29</td><td>2023-10-27 14:57</td></tr><tr><td>84</td><td>Mexico</td><td>0</td><td>0</td><td>4</td><td>4</td><td>47</td><td>2023-10-27 14:57</td></tr><tr><td>85</td><td>Finland</td><td>0</td><td>0</td><td>2</td><td>2</td><td>66</td><td>2023-10-27 14:57</td></tr><tr><td>86</td><td>Botswana</td><td>0</td><td>0</td><td>1</td><td>1</td><td>77</td><td>2023-10-27 14:57</td></tr><tr><td>86</td><td>Burkina Faso</td><td>0</td><td>0</td><td>1</td><td>1</td><td>77</td><td>2023-10-27 14:57</td></tr><tr><td>86</td><td>C�te d'Ivoire</td><td>0</td><td>0</td><td>1</td><td>1</td><td>77</td><td>2023-10-27 14:57</td></tr><tr><td>86</td><td>Ghana</td><td>0</td><td>0</td><td>1</td><td>1</td><td>77</td><td>2023-10-27 14:57</td></tr><tr><td>86</td><td>Grenada</td><td>0</td><td>0</td><td>1</td><td>1</td><td>77</td><td>2023-10-27 14:57</td></tr><tr><td>86</td><td>Kuwait</td><td>0</td><td>0</td><td>1</td><td>1</td><td>77</td><td>2023-10-27 14:57</td></tr><tr><td>86</td><td>Republic of Moldova</td><td>0</td><td>0</td><td>1</td><td>1</td><td>77</td><td>2023-10-27 14:57</td></tr><tr><td>86</td><td>Syrian Arab Republic</td><td>0</td><td>0</td><td>1</td><td>1</td><td>77</td><td>2023-10-27 14:57</td></tr></tbody></table></div>"
      ]
     },
     "metadata": {
      "application/vnd.databricks.v1+output": {
       "addedWidgets": {},
       "aggData": [],
       "aggError": "",
       "aggOverflow": false,
       "aggSchema": [],
       "aggSeriesLimitReached": false,
       "aggType": "",
       "arguments": {},
       "columnCustomDisplayInfos": {},
       "data": [
        [
         1,
         "United States of America",
         39,
         41,
         33,
         113,
         1,
         "2023-10-27 14:57"
        ],
        [
         2,
         "People's Republic of China",
         38,
         32,
         18,
         88,
         2,
         "2023-10-27 14:57"
        ],
        [
         3,
         "Japan",
         27,
         14,
         17,
         58,
         5,
         "2023-10-27 14:57"
        ],
        [
         4,
         "Great Britain",
         22,
         21,
         22,
         65,
         4,
         "2023-10-27 14:57"
        ],
        [
         5,
         "ROC",
         20,
         28,
         23,
         71,
         3,
         "2023-10-27 14:57"
        ],
        [
         6,
         "Australia",
         17,
         7,
         22,
         46,
         6,
         "2023-10-27 14:57"
        ],
        [
         7,
         "Netherlands",
         10,
         12,
         14,
         36,
         9,
         "2023-10-27 14:57"
        ],
        [
         8,
         "France",
         10,
         12,
         11,
         33,
         10,
         "2023-10-27 14:57"
        ],
        [
         9,
         "Germany",
         10,
         11,
         16,
         37,
         8,
         "2023-10-27 14:57"
        ],
        [
         10,
         "Italy",
         10,
         10,
         20,
         40,
         7,
         "2023-10-27 14:57"
        ],
        [
         11,
         "Canada",
         7,
         6,
         11,
         24,
         11,
         "2023-10-27 14:57"
        ],
        [
         12,
         "Brazil",
         7,
         6,
         8,
         21,
         12,
         "2023-10-27 14:57"
        ],
        [
         13,
         "New Zealand",
         7,
         6,
         7,
         20,
         13,
         "2023-10-27 14:57"
        ],
        [
         14,
         "Cuba",
         7,
         3,
         5,
         15,
         18,
         "2023-10-27 14:57"
        ],
        [
         15,
         "Hungary",
         6,
         7,
         7,
         20,
         13,
         "2023-10-27 14:57"
        ],
        [
         16,
         "Republic of Korea",
         6,
         4,
         10,
         20,
         13,
         "2023-10-27 14:57"
        ],
        [
         17,
         "Poland",
         4,
         5,
         5,
         14,
         19,
         "2023-10-27 14:57"
        ],
        [
         18,
         "Czech Republic",
         4,
         4,
         3,
         11,
         23,
         "2023-10-27 14:57"
        ],
        [
         19,
         "Kenya",
         4,
         4,
         2,
         10,
         25,
         "2023-10-27 14:57"
        ],
        [
         20,
         "Norway",
         4,
         2,
         2,
         8,
         29,
         "2023-10-27 14:57"
        ],
        [
         21,
         "Jamaica",
         4,
         1,
         4,
         9,
         26,
         "2023-10-27 14:57"
        ],
        [
         22,
         "Spain",
         3,
         8,
         6,
         17,
         17,
         "2023-10-27 14:57"
        ],
        [
         23,
         "Sweden",
         3,
         6,
         0,
         9,
         26,
         "2023-10-27 14:57"
        ],
        [
         24,
         "Switzerland",
         3,
         4,
         6,
         13,
         20,
         "2023-10-27 14:57"
        ],
        [
         25,
         "Denmark",
         3,
         4,
         4,
         11,
         23,
         "2023-10-27 14:57"
        ],
        [
         26,
         "Croatia",
         3,
         3,
         2,
         8,
         29,
         "2023-10-27 14:57"
        ],
        [
         27,
         "Islamic Republic of Iran",
         3,
         2,
         2,
         7,
         33,
         "2023-10-27 14:57"
        ],
        [
         28,
         "Serbia",
         3,
         1,
         5,
         9,
         26,
         "2023-10-27 14:57"
        ],
        [
         29,
         "Belgium",
         3,
         1,
         3,
         7,
         33,
         "2023-10-27 14:57"
        ],
        [
         30,
         "Bulgaria",
         3,
         1,
         2,
         6,
         39,
         "2023-10-27 14:57"
        ],
        [
         31,
         "Slovenia",
         3,
         1,
         1,
         5,
         42,
         "2023-10-27 14:57"
        ],
        [
         32,
         "Uzbekistan",
         3,
         0,
         2,
         5,
         42,
         "2023-10-27 14:57"
        ],
        [
         33,
         "Georgia",
         2,
         5,
         1,
         8,
         29,
         "2023-10-27 14:57"
        ],
        [
         34,
         "Chinese Taipei",
         2,
         4,
         6,
         12,
         22,
         "2023-10-27 14:57"
        ],
        [
         35,
         "Turkey",
         2,
         2,
         9,
         13,
         20,
         "2023-10-27 14:57"
        ],
        [
         36,
         "Greece",
         2,
         1,
         1,
         4,
         47,
         "2023-10-27 14:57"
        ],
        [
         36,
         "Uganda",
         2,
         1,
         1,
         4,
         47,
         "2023-10-27 14:57"
        ],
        [
         38,
         "Ecuador",
         2,
         1,
         0,
         3,
         60,
         "2023-10-27 14:57"
        ],
        [
         39,
         "Ireland",
         2,
         0,
         2,
         4,
         47,
         "2023-10-27 14:57"
        ],
        [
         39,
         "Israel",
         2,
         0,
         2,
         4,
         47,
         "2023-10-27 14:57"
        ],
        [
         41,
         "Qatar",
         2,
         0,
         1,
         3,
         60,
         "2023-10-27 14:57"
        ],
        [
         42,
         "Bahamas",
         2,
         0,
         0,
         2,
         66,
         "2023-10-27 14:57"
        ],
        [
         42,
         "Kosovo",
         2,
         0,
         0,
         2,
         66,
         "2023-10-27 14:57"
        ],
        [
         44,
         "Ukraine",
         1,
         6,
         12,
         19,
         16,
         "2023-10-27 14:57"
        ],
        [
         45,
         "Belarus",
         1,
         3,
         3,
         7,
         33,
         "2023-10-27 14:57"
        ],
        [
         46,
         "Romania",
         1,
         3,
         0,
         4,
         47,
         "2023-10-27 14:57"
        ],
        [
         46,
         "Venezuela",
         1,
         3,
         0,
         4,
         47,
         "2023-10-27 14:57"
        ],
        [
         48,
         "India",
         1,
         2,
         4,
         7,
         33,
         "2023-10-27 14:57"
        ],
        [
         49,
         "Hong Kong, China",
         1,
         2,
         3,
         6,
         39,
         "2023-10-27 14:57"
        ],
        [
         50,
         "Philippines",
         1,
         2,
         1,
         4,
         47,
         "2023-10-27 14:57"
        ],
        [
         50,
         "Slovakia",
         1,
         2,
         1,
         4,
         47,
         "2023-10-27 14:57"
        ],
        [
         52,
         "South Africa",
         1,
         2,
         0,
         3,
         60,
         "2023-10-27 14:57"
        ],
        [
         53,
         "Austria",
         1,
         1,
         5,
         7,
         33,
         "2023-10-27 14:57"
        ],
        [
         54,
         "Egypt",
         1,
         1,
         4,
         6,
         39,
         "2023-10-27 14:57"
        ],
        [
         55,
         "Indonesia",
         1,
         1,
         3,
         5,
         42,
         "2023-10-27 14:57"
        ],
        [
         56,
         "Ethiopia",
         1,
         1,
         2,
         4,
         47,
         "2023-10-27 14:57"
        ],
        [
         56,
         "Portugal",
         1,
         1,
         2,
         4,
         47,
         "2023-10-27 14:57"
        ],
        [
         58,
         "Tunisia",
         1,
         1,
         0,
         2,
         66,
         "2023-10-27 14:57"
        ],
        [
         59,
         "Estonia",
         1,
         0,
         1,
         2,
         66,
         "2023-10-27 14:57"
        ],
        [
         59,
         "Fiji",
         1,
         0,
         1,
         2,
         66,
         "2023-10-27 14:57"
        ],
        [
         59,
         "Latvia",
         1,
         0,
         1,
         2,
         66,
         "2023-10-27 14:57"
        ],
        [
         59,
         "Thailand",
         1,
         0,
         1,
         2,
         66,
         "2023-10-27 14:57"
        ],
        [
         63,
         "Bermuda",
         1,
         0,
         0,
         1,
         77,
         "2023-10-27 14:57"
        ],
        [
         63,
         "Morocco",
         1,
         0,
         0,
         1,
         77,
         "2023-10-27 14:57"
        ],
        [
         63,
         "Puerto Rico",
         1,
         0,
         0,
         1,
         77,
         "2023-10-27 14:57"
        ],
        [
         66,
         "Colombia",
         0,
         4,
         1,
         5,
         42,
         "2023-10-27 14:57"
        ],
        [
         67,
         "Azerbaijan",
         0,
         3,
         4,
         7,
         33,
         "2023-10-27 14:57"
        ],
        [
         68,
         "Dominican Republic",
         0,
         3,
         2,
         5,
         42,
         "2023-10-27 14:57"
        ],
        [
         69,
         "Armenia",
         0,
         2,
         2,
         4,
         47,
         "2023-10-27 14:57"
        ],
        [
         70,
         "Kyrgyzstan",
         0,
         2,
         1,
         3,
         60,
         "2023-10-27 14:57"
        ],
        [
         71,
         "Mongolia",
         0,
         1,
         3,
         4,
         47,
         "2023-10-27 14:57"
        ],
        [
         72,
         "Argentina",
         0,
         1,
         2,
         3,
         60,
         "2023-10-27 14:57"
        ],
        [
         72,
         "San Marino",
         0,
         1,
         2,
         3,
         60,
         "2023-10-27 14:57"
        ],
        [
         74,
         "Jordan",
         0,
         1,
         1,
         2,
         66,
         "2023-10-27 14:57"
        ],
        [
         74,
         "Malaysia",
         0,
         1,
         1,
         2,
         66,
         "2023-10-27 14:57"
        ],
        [
         74,
         "Nigeria",
         0,
         1,
         1,
         2,
         66,
         "2023-10-27 14:57"
        ],
        [
         77,
         "Bahrain",
         0,
         1,
         0,
         1,
         77,
         "2023-10-27 14:57"
        ],
        [
         77,
         "Saudi Arabia",
         0,
         1,
         0,
         1,
         77,
         "2023-10-27 14:57"
        ],
        [
         77,
         "Lithuania",
         0,
         1,
         0,
         1,
         77,
         "2023-10-27 14:57"
        ],
        [
         77,
         "North Macedonia",
         0,
         1,
         0,
         1,
         77,
         "2023-10-27 14:57"
        ],
        [
         77,
         "Namibia",
         0,
         1,
         0,
         1,
         77,
         "2023-10-27 14:57"
        ],
        [
         77,
         "Turkmenistan",
         0,
         1,
         0,
         1,
         77,
         "2023-10-27 14:57"
        ],
        [
         83,
         "Kazakhstan",
         0,
         0,
         8,
         8,
         29,
         "2023-10-27 14:57"
        ],
        [
         84,
         "Mexico",
         0,
         0,
         4,
         4,
         47,
         "2023-10-27 14:57"
        ],
        [
         85,
         "Finland",
         0,
         0,
         2,
         2,
         66,
         "2023-10-27 14:57"
        ],
        [
         86,
         "Botswana",
         0,
         0,
         1,
         1,
         77,
         "2023-10-27 14:57"
        ],
        [
         86,
         "Burkina Faso",
         0,
         0,
         1,
         1,
         77,
         "2023-10-27 14:57"
        ],
        [
         86,
         "C�te d'Ivoire",
         0,
         0,
         1,
         1,
         77,
         "2023-10-27 14:57"
        ],
        [
         86,
         "Ghana",
         0,
         0,
         1,
         1,
         77,
         "2023-10-27 14:57"
        ],
        [
         86,
         "Grenada",
         0,
         0,
         1,
         1,
         77,
         "2023-10-27 14:57"
        ],
        [
         86,
         "Kuwait",
         0,
         0,
         1,
         1,
         77,
         "2023-10-27 14:57"
        ],
        [
         86,
         "Republic of Moldova",
         0,
         0,
         1,
         1,
         77,
         "2023-10-27 14:57"
        ],
        [
         86,
         "Syrian Arab Republic",
         0,
         0,
         1,
         1,
         77,
         "2023-10-27 14:57"
        ]
       ],
       "datasetInfos": [],
       "dbfsResultPath": null,
       "isJsonSchema": true,
       "metadata": {},
       "overflow": false,
       "plotOptions": {
        "customPlotOptions": {},
        "displayType": "table",
        "pivotAggregation": null,
        "pivotColumns": null,
        "xColumns": null,
        "yColumns": null
       },
       "removedWidgets": [],
       "schema": [
        {
         "metadata": "{}",
         "name": "rank",
         "type": "\"integer\""
        },
        {
         "metadata": "{}",
         "name": "team_country",
         "type": "\"string\""
        },
        {
         "metadata": "{}",
         "name": "gold",
         "type": "\"integer\""
        },
        {
         "metadata": "{}",
         "name": "silver",
         "type": "\"integer\""
        },
        {
         "metadata": "{}",
         "name": "bronze",
         "type": "\"integer\""
        },
        {
         "metadata": "{}",
         "name": "total",
         "type": "\"integer\""
        },
        {
         "metadata": "{}",
         "name": "rank_by_total",
         "type": "\"integer\""
        },
        {
         "metadata": "{}",
         "name": "etl_date",
         "type": "\"string\""
        }
       ],
       "type": "table"
      }
     },
     "output_type": "display_data"
    }
   ],
   "source": [
    "df_final.display()"
   ]
  },
  {
   "cell_type": "code",
   "execution_count": 0,
   "metadata": {
    "application/vnd.databricks.v1+cell": {
     "cellMetadata": {
      "byteLimit": 2048000,
      "rowLimit": 10000
     },
     "inputWidgets": {},
     "nuid": "109a4aed-9394-4306-9544-e88af37f9cbd",
     "showTitle": true,
     "title": "Write on Lake"
    }
   },
   "outputs": [],
   "source": [
    "df_final.write.format('parquet').mode('overwrite').save('/mnt/tokyoolymic/transformed-data/medals')"
   ]
  }
 ],
 "metadata": {
  "application/vnd.databricks.v1+notebook": {
   "dashboards": [],
   "language": "python",
   "notebookMetadata": {
    "mostRecentlyExecutedCommandWithImplicitDF": {
     "commandId": 97374714683848,
     "dataframes": [
      "_sqldf"
     ]
    },
    "pythonIndentUnit": 4
   },
   "notebookName": "1_PZ_CZ_Medals",
   "widgets": {}
  }
 },
 "nbformat": 4,
 "nbformat_minor": 0
}
