{
 "cells": [
  {
   "cell_type": "code",
   "execution_count": 0,
   "metadata": {
    "application/vnd.databricks.v1+cell": {
     "cellMetadata": {
      "byteLimit": 2048000,
      "rowLimit": 10000
     },
     "inputWidgets": {},
     "nuid": "44b94bc2-8d2c-49e1-b332-de32d53f6269",
     "showTitle": true,
     "title": "Imports"
    }
   },
   "outputs": [],
   "source": [
    "from pyspark.sql.functions import col, lit\n",
    "from datetime import datetime, timedelta, datetime"
   ]
  },
  {
   "cell_type": "code",
   "execution_count": 0,
   "metadata": {
    "application/vnd.databricks.v1+cell": {
     "cellMetadata": {
      "byteLimit": 2048000,
      "rowLimit": 10000
     },
     "inputWidgets": {},
     "nuid": "d2c9ad58-33ee-44f2-b4d0-1aa6567447fa",
     "showTitle": true,
     "title": "Parâmetros de Controle"
    }
   },
   "outputs": [],
   "source": [
    "current_time = (datetime.now() - timedelta(hours=3)).strftime(\"%Y-%m-%d %H:%M\")\n",
    "current_date = (datetime.now() - timedelta(hours=3)).strftime(\"%Y-%m-%d\")"
   ]
  },
  {
   "cell_type": "code",
   "execution_count": 0,
   "metadata": {
    "application/vnd.databricks.v1+cell": {
     "cellMetadata": {
      "byteLimit": 2048000,
      "rowLimit": 10000
     },
     "inputWidgets": {},
     "nuid": "dbc5d22d-3072-49d5-8656-f0da59a62e7a",
     "showTitle": true,
     "title": "Read DF Atletas"
    }
   },
   "outputs": [],
   "source": [
    "df_medals = spark.read.format('csv').option('header', 'true').load('/mnt/tokyoolymic/raw-data/medals.csv')"
   ]
  },
  {
   "cell_type": "code",
   "execution_count": 0,
   "metadata": {
    "application/vnd.databricks.v1+cell": {
     "cellMetadata": {
      "byteLimit": 2048000,
      "rowLimit": 10000
     },
     "inputWidgets": {},
     "nuid": "0ba3865d-4812-4376-8e4c-13ce2a01360b",
     "showTitle": true,
     "title": "Transformations"
    }
   },
   "outputs": [],
   "source": [
    "df_final = df_medals\\\n",
    "    .select(       \n",
    "        col('Rank').cast('int').alias('rank'),\n",
    "        col('Team_Country').alias('team_country'),\n",
    "        col('Gold').cast('int').alias('gold'),\n",
    "        col('Silver').cast('int').alias('silver'),\n",
    "        col('Bronze').cast('int').alias('bronze'),\n",
    "        col('Total').cast('int').alias('total'),\n",
    "        col('Rank by Total').cast('int').alias('rank_by_total'),\n",
    "        lit(current_time).alias('etl_date')\n",
    "    )"
   ]
  },
  {
   "cell_type": "code",
   "execution_count": 0,
   "metadata": {
    "application/vnd.databricks.v1+cell": {
     "cellMetadata": {
      "byteLimit": 2048000,
      "rowLimit": 10000
     },
     "inputWidgets": {},
     "nuid": "109a4aed-9394-4306-9544-e88af37f9cbd",
     "showTitle": true,
     "title": "Write on Lake"
    }
   },
   "outputs": [],
   "source": [
    "df_final.write.format('parquet').mode('overwrite').save('/mnt/tokyoolymic/transformed-data/medals')"
   ]
  }
 ],
 "metadata": {
  "application/vnd.databricks.v1+notebook": {
   "dashboards": [],
   "language": "python",
   "notebookMetadata": {
    "mostRecentlyExecutedCommandWithImplicitDF": {
     "commandId": 97374714683848,
     "dataframes": [
      "_sqldf"
     ]
    },
    "pythonIndentUnit": 4
   },
   "notebookName": "1_PZ_CZ_Medals",
   "widgets": {}
  }
 },
 "nbformat": 4,
 "nbformat_minor": 0
}
