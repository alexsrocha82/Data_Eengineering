{
 "cells": [
  {
   "cell_type": "code",
   "execution_count": 0,
   "metadata": {
    "application/vnd.databricks.v1+cell": {
     "cellMetadata": {
      "byteLimit": 2048000,
      "rowLimit": 10000
     },
     "inputWidgets": {},
     "nuid": "44b94bc2-8d2c-49e1-b332-de32d53f6269",
     "showTitle": true,
     "title": "Imports"
    }
   },
   "outputs": [],
   "source": [
    "from pyspark.sql.functions import col, lit\n",
    "from datetime import datetime, timedelta, datetime"
   ]
  },
  {
   "cell_type": "code",
   "execution_count": 0,
   "metadata": {
    "application/vnd.databricks.v1+cell": {
     "cellMetadata": {
      "byteLimit": 2048000,
      "rowLimit": 10000
     },
     "inputWidgets": {},
     "nuid": "d2c9ad58-33ee-44f2-b4d0-1aa6567447fa",
     "showTitle": true,
     "title": "Parâmetros de Controle"
    }
   },
   "outputs": [],
   "source": [
    "current_time = (datetime.now() - timedelta(hours=3)).strftime(\"%Y-%m-%d %H:%M\")\n",
    "current_date = (datetime.now() - timedelta(hours=3)).strftime(\"%Y-%m-%d\")"
   ]
  },
  {
   "cell_type": "code",
   "execution_count": 0,
   "metadata": {
    "application/vnd.databricks.v1+cell": {
     "cellMetadata": {
      "byteLimit": 2048000,
      "rowLimit": 10000
     },
     "inputWidgets": {},
     "nuid": "dbc5d22d-3072-49d5-8656-f0da59a62e7a",
     "showTitle": true,
     "title": "Read DF Atletas"
    }
   },
   "outputs": [],
   "source": [
    "df_teams = spark.read.format('csv').option('header', 'true').load('/mnt/tokyoolymic/raw-data/teams.csv')"
   ]
  },
  {
   "cell_type": "code",
   "execution_count": 0,
   "metadata": {
    "application/vnd.databricks.v1+cell": {
     "cellMetadata": {
      "byteLimit": 2048000,
      "rowLimit": 10000
     },
     "inputWidgets": {},
     "nuid": "0ba3865d-4812-4376-8e4c-13ce2a01360b",
     "showTitle": false,
     "title": ""
    }
   },
   "outputs": [],
   "source": [
    "df_final = df_teams\\\n",
    "    .select(\n",
    "        col('TeamName').alias('team_name'),\n",
    "        col('Discipline').alias('discipline'),\n",
    "        col('Country').alias('country'),\n",
    "        col('Event').alias('event'),\n",
    "        lit(current_time).alias('etl_date')\n",
    "    )"
   ]
  },
  {
   "cell_type": "code",
   "execution_count": 0,
   "metadata": {
    "application/vnd.databricks.v1+cell": {
     "cellMetadata": {
      "byteLimit": 2048000,
      "rowLimit": 10000
     },
     "inputWidgets": {},
     "nuid": "039cebfc-718f-4703-b282-9718a15e7ede",
     "showTitle": false,
     "title": ""
    }
   },
   "outputs": [
    {
     "output_type": "display_data",
     "data": {
      "text/html": [
       "<style scoped>\n",
       "  .table-result-container {\n",
       "    max-height: 300px;\n",
       "    overflow: auto;\n",
       "  }\n",
       "  table, th, td {\n",
       "    border: 1px solid black;\n",
       "    border-collapse: collapse;\n",
       "  }\n",
       "  th, td {\n",
       "    padding: 5px;\n",
       "  }\n",
       "  th {\n",
       "    text-align: left;\n",
       "  }\n",
       "</style><div class='table-result-container'><table class='table-result'><thead style='background-color: white'><tr><th>team_name</th><th>discipline</th><th>country</th><th>event</th><th>etl_date</th></tr></thead><tbody><tr><td>Belgium</td><td>3x3 Basketball</td><td>Belgium</td><td>Men</td><td>2023-10-27 14:34</td></tr><tr><td>China</td><td>3x3 Basketball</td><td>People's Republic of China</td><td>Men</td><td>2023-10-27 14:34</td></tr><tr><td>China</td><td>3x3 Basketball</td><td>People's Republic of China</td><td>Women</td><td>2023-10-27 14:34</td></tr><tr><td>France</td><td>3x3 Basketball</td><td>France</td><td>Women</td><td>2023-10-27 14:34</td></tr><tr><td>Italy</td><td>3x3 Basketball</td><td>Italy</td><td>Women</td><td>2023-10-27 14:34</td></tr><tr><td>Japan</td><td>3x3 Basketball</td><td>Japan</td><td>Men</td><td>2023-10-27 14:34</td></tr><tr><td>Japan</td><td>3x3 Basketball</td><td>Japan</td><td>Women</td><td>2023-10-27 14:34</td></tr><tr><td>Latvia</td><td>3x3 Basketball</td><td>Latvia</td><td>Men</td><td>2023-10-27 14:34</td></tr><tr><td>Mongolia</td><td>3x3 Basketball</td><td>Mongolia</td><td>Women</td><td>2023-10-27 14:34</td></tr><tr><td>Netherlands</td><td>3x3 Basketball</td><td>Netherlands</td><td>Men</td><td>2023-10-27 14:34</td></tr><tr><td>Poland</td><td>3x3 Basketball</td><td>Poland</td><td>Men</td><td>2023-10-27 14:34</td></tr><tr><td>ROC</td><td>3x3 Basketball</td><td>ROC</td><td>Men</td><td>2023-10-27 14:34</td></tr><tr><td>ROC</td><td>3x3 Basketball</td><td>ROC</td><td>Women</td><td>2023-10-27 14:34</td></tr><tr><td>Romania</td><td>3x3 Basketball</td><td>Romania</td><td>Women</td><td>2023-10-27 14:34</td></tr><tr><td>Serbia</td><td>3x3 Basketball</td><td>Serbia</td><td>Men</td><td>2023-10-27 14:34</td></tr><tr><td>United States</td><td>3x3 Basketball</td><td>United States of America</td><td>Women</td><td>2023-10-27 14:34</td></tr><tr><td>Australia</td><td>Archery</td><td>Australia</td><td>Men's Team</td><td>2023-10-27 14:34</td></tr><tr><td>Australia</td><td>Archery</td><td>Australia</td><td>Mixed Team</td><td>2023-10-27 14:34</td></tr><tr><td>Bangladesh</td><td>Archery</td><td>Bangladesh</td><td>Mixed Team</td><td>2023-10-27 14:34</td></tr><tr><td>Belarus</td><td>Archery</td><td>Belarus</td><td>Women's Team</td><td>2023-10-27 14:34</td></tr><tr><td>Brazil</td><td>Archery</td><td>Brazil</td><td>Mixed Team</td><td>2023-10-27 14:34</td></tr><tr><td>Canada</td><td>Archery</td><td>Canada</td><td>Mixed Team</td><td>2023-10-27 14:34</td></tr><tr><td>China</td><td>Archery</td><td>People's Republic of China</td><td>Men's Team</td><td>2023-10-27 14:34</td></tr><tr><td>China</td><td>Archery</td><td>People's Republic of China</td><td>Mixed Team</td><td>2023-10-27 14:34</td></tr><tr><td>China</td><td>Archery</td><td>People's Republic of China</td><td>Women's Team</td><td>2023-10-27 14:34</td></tr><tr><td>Chinese Taipei</td><td>Archery</td><td>Chinese Taipei</td><td>Men's Team</td><td>2023-10-27 14:34</td></tr><tr><td>Chinese Taipei</td><td>Archery</td><td>Chinese Taipei</td><td>Mixed Team</td><td>2023-10-27 14:34</td></tr><tr><td>Chinese Taipei</td><td>Archery</td><td>Chinese Taipei</td><td>Women's Team</td><td>2023-10-27 14:34</td></tr><tr><td>Colombia</td><td>Archery</td><td>Colombia</td><td>Mixed Team</td><td>2023-10-27 14:34</td></tr><tr><td>Egypt</td><td>Archery</td><td>Egypt</td><td>Mixed Team</td><td>2023-10-27 14:34</td></tr><tr><td>France</td><td>Archery</td><td>France</td><td>Men's Team</td><td>2023-10-27 14:34</td></tr><tr><td>France</td><td>Archery</td><td>France</td><td>Mixed Team</td><td>2023-10-27 14:34</td></tr><tr><td>Germany</td><td>Archery</td><td>Germany</td><td>Mixed Team</td><td>2023-10-27 14:34</td></tr><tr><td>Germany</td><td>Archery</td><td>Germany</td><td>Women's Team</td><td>2023-10-27 14:34</td></tr><tr><td>Great Britain</td><td>Archery</td><td>Great Britain</td><td>Men's Team</td><td>2023-10-27 14:34</td></tr><tr><td>Great Britain</td><td>Archery</td><td>Great Britain</td><td>Mixed Team</td><td>2023-10-27 14:34</td></tr><tr><td>Great Britain</td><td>Archery</td><td>Great Britain</td><td>Women's Team</td><td>2023-10-27 14:34</td></tr><tr><td>India</td><td>Archery</td><td>India</td><td>Men's Team</td><td>2023-10-27 14:34</td></tr><tr><td>India</td><td>Archery</td><td>India</td><td>Mixed Team</td><td>2023-10-27 14:34</td></tr><tr><td>Indonesia</td><td>Archery</td><td>Indonesia</td><td>Men's Team</td><td>2023-10-27 14:34</td></tr><tr><td>Indonesia</td><td>Archery</td><td>Indonesia</td><td>Mixed Team</td><td>2023-10-27 14:34</td></tr><tr><td>Italy</td><td>Archery</td><td>Italy</td><td>Mixed Team</td><td>2023-10-27 14:34</td></tr><tr><td>Italy</td><td>Archery</td><td>Italy</td><td>Women's Team</td><td>2023-10-27 14:34</td></tr><tr><td>Japan</td><td>Archery</td><td>Japan</td><td>Men's Team</td><td>2023-10-27 14:34</td></tr><tr><td>Japan</td><td>Archery</td><td>Japan</td><td>Mixed Team</td><td>2023-10-27 14:34</td></tr><tr><td>Japan</td><td>Archery</td><td>Japan</td><td>Women's Team</td><td>2023-10-27 14:34</td></tr><tr><td>Kazakhstan</td><td>Archery</td><td>Kazakhstan</td><td>Men's Team</td><td>2023-10-27 14:34</td></tr><tr><td>Malaysia</td><td>Archery</td><td>Malaysia</td><td>Mixed Team</td><td>2023-10-27 14:34</td></tr><tr><td>Mexico</td><td>Archery</td><td>Mexico</td><td>Mixed Team</td><td>2023-10-27 14:34</td></tr><tr><td>Mexico</td><td>Archery</td><td>Mexico</td><td>Women's Team</td><td>2023-10-27 14:34</td></tr><tr><td>Mongolia</td><td>Archery</td><td>Mongolia</td><td>Mixed Team</td><td>2023-10-27 14:34</td></tr><tr><td>Netherlands</td><td>Archery</td><td>Netherlands</td><td>Men's Team</td><td>2023-10-27 14:34</td></tr><tr><td>Netherlands</td><td>Archery</td><td>Netherlands</td><td>Mixed Team</td><td>2023-10-27 14:34</td></tr><tr><td>Poland</td><td>Archery</td><td>Poland</td><td>Mixed Team</td><td>2023-10-27 14:34</td></tr><tr><td>Rep. of Moldova</td><td>Archery</td><td>Republic of Moldova</td><td>Mixed Team</td><td>2023-10-27 14:34</td></tr><tr><td>Republic of Korea</td><td>Archery</td><td>Republic of Korea</td><td>Men's Team</td><td>2023-10-27 14:34</td></tr><tr><td>Republic of Korea</td><td>Archery</td><td>Republic of Korea</td><td>Mixed Team</td><td>2023-10-27 14:34</td></tr><tr><td>Republic of Korea</td><td>Archery</td><td>Republic of Korea</td><td>Women's Team</td><td>2023-10-27 14:34</td></tr><tr><td>ROC</td><td>Archery</td><td>ROC</td><td>Mixed Team</td><td>2023-10-27 14:34</td></tr><tr><td>ROC</td><td>Archery</td><td>ROC</td><td>Women's Team</td><td>2023-10-27 14:34</td></tr><tr><td>Spain</td><td>Archery</td><td>Spain</td><td>Mixed Team</td><td>2023-10-27 14:34</td></tr><tr><td>Tunisia</td><td>Archery</td><td>Tunisia</td><td>Mixed Team</td><td>2023-10-27 14:34</td></tr><tr><td>Turkey</td><td>Archery</td><td>Turkey</td><td>Mixed Team</td><td>2023-10-27 14:34</td></tr><tr><td>Ukraine</td><td>Archery</td><td>Ukraine</td><td>Mixed Team</td><td>2023-10-27 14:34</td></tr><tr><td>Ukraine</td><td>Archery</td><td>Ukraine</td><td>Women's Team</td><td>2023-10-27 14:34</td></tr><tr><td>United States</td><td>Archery</td><td>United States of America</td><td>Men's Team</td><td>2023-10-27 14:34</td></tr><tr><td>United States</td><td>Archery</td><td>United States of America</td><td>Mixed Team</td><td>2023-10-27 14:34</td></tr><tr><td>United States</td><td>Archery</td><td>United States of America</td><td>Women's Team</td><td>2023-10-27 14:34</td></tr><tr><td>Vietnam</td><td>Archery</td><td>Vietnam</td><td>Mixed Team</td><td>2023-10-27 14:34</td></tr><tr><td>Belgium</td><td>Artistic Gymnastics</td><td>Belgium</td><td>Women's Team</td><td>2023-10-27 14:34</td></tr><tr><td>Brazil</td><td>Artistic Gymnastics</td><td>Brazil</td><td>Men's Team</td><td>2023-10-27 14:34</td></tr><tr><td>Canada</td><td>Artistic Gymnastics</td><td>Canada</td><td>Women's Team</td><td>2023-10-27 14:34</td></tr><tr><td>China</td><td>Artistic Gymnastics</td><td>People's Republic of China</td><td>Men's Team</td><td>2023-10-27 14:34</td></tr><tr><td>China</td><td>Artistic Gymnastics</td><td>People's Republic of China</td><td>Women's Team</td><td>2023-10-27 14:34</td></tr><tr><td>Chinese Taipei</td><td>Artistic Gymnastics</td><td>Chinese Taipei</td><td>Men's Team</td><td>2023-10-27 14:34</td></tr><tr><td>France</td><td>Artistic Gymnastics</td><td>France</td><td>Women's Team</td><td>2023-10-27 14:34</td></tr><tr><td>Germany</td><td>Artistic Gymnastics</td><td>Germany</td><td>Men's Team</td><td>2023-10-27 14:34</td></tr><tr><td>Germany</td><td>Artistic Gymnastics</td><td>Germany</td><td>Women's Team</td><td>2023-10-27 14:34</td></tr><tr><td>Great Britain</td><td>Artistic Gymnastics</td><td>Great Britain</td><td>Men's Team</td><td>2023-10-27 14:34</td></tr><tr><td>Great Britain</td><td>Artistic Gymnastics</td><td>Great Britain</td><td>Women's Team</td><td>2023-10-27 14:34</td></tr><tr><td>Italy</td><td>Artistic Gymnastics</td><td>Italy</td><td>Women's Team</td><td>2023-10-27 14:34</td></tr><tr><td>Japan</td><td>Artistic Gymnastics</td><td>Japan</td><td>Men's Team</td><td>2023-10-27 14:34</td></tr><tr><td>Japan</td><td>Artistic Gymnastics</td><td>Japan</td><td>Women's Team</td><td>2023-10-27 14:34</td></tr><tr><td>Netherlands</td><td>Artistic Gymnastics</td><td>Netherlands</td><td>Women's Team</td><td>2023-10-27 14:34</td></tr><tr><td>Korea</td><td>Artistic Gymnastics</td><td>Republic of Korea</td><td>Men's Team</td><td>2023-10-27 14:34</td></tr><tr><td>ROC</td><td>Artistic Gymnastics</td><td>ROC</td><td>Men's Team</td><td>2023-10-27 14:34</td></tr><tr><td>ROC</td><td>Artistic Gymnastics</td><td>ROC</td><td>Women's Team</td><td>2023-10-27 14:34</td></tr><tr><td>Spain</td><td>Artistic Gymnastics</td><td>Spain</td><td>Men's Team</td><td>2023-10-27 14:34</td></tr><tr><td>Spain</td><td>Artistic Gymnastics</td><td>Spain</td><td>Women's Team</td><td>2023-10-27 14:34</td></tr><tr><td>Switzerland</td><td>Artistic Gymnastics</td><td>Switzerland</td><td>Men's Team</td><td>2023-10-27 14:34</td></tr><tr><td>Ukraine</td><td>Artistic Gymnastics</td><td>Ukraine</td><td>Men's Team</td><td>2023-10-27 14:34</td></tr><tr><td>United States</td><td>Artistic Gymnastics</td><td>United States of America</td><td>Men's Team</td><td>2023-10-27 14:34</td></tr><tr><td>United States</td><td>Artistic Gymnastics</td><td>United States of America</td><td>Women's Team</td><td>2023-10-27 14:34</td></tr><tr><td>Australia</td><td>Artistic Swimming</td><td>Australia</td><td>Duet</td><td>2023-10-27 14:34</td></tr><tr><td>Australia</td><td>Artistic Swimming</td><td>Australia</td><td>Team</td><td>2023-10-27 14:34</td></tr><tr><td>Austria</td><td>Artistic Swimming</td><td>Austria</td><td>Duet</td><td>2023-10-27 14:34</td></tr><tr><td>Belarus</td><td>Artistic Swimming</td><td>Belarus</td><td>Duet</td><td>2023-10-27 14:34</td></tr><tr><td>Canada</td><td>Artistic Swimming</td><td>Canada</td><td>Duet</td><td>2023-10-27 14:34</td></tr><tr><td>Canada</td><td>Artistic Swimming</td><td>Canada</td><td>Team</td><td>2023-10-27 14:34</td></tr><tr><td>China</td><td>Artistic Swimming</td><td>People's Republic of China</td><td>Duet</td><td>2023-10-27 14:34</td></tr><tr><td>China</td><td>Artistic Swimming</td><td>People's Republic of China</td><td>Team</td><td>2023-10-27 14:34</td></tr><tr><td>Colombia</td><td>Artistic Swimming</td><td>Colombia</td><td>Duet</td><td>2023-10-27 14:34</td></tr><tr><td>Egypt</td><td>Artistic Swimming</td><td>Egypt</td><td>Duet</td><td>2023-10-27 14:34</td></tr><tr><td>Egypt</td><td>Artistic Swimming</td><td>Egypt</td><td>Team</td><td>2023-10-27 14:34</td></tr><tr><td>France</td><td>Artistic Swimming</td><td>France</td><td>Duet</td><td>2023-10-27 14:34</td></tr><tr><td>Great Britain</td><td>Artistic Swimming</td><td>Great Britain</td><td>Duet</td><td>2023-10-27 14:34</td></tr><tr><td>Greece</td><td>Artistic Swimming</td><td>Greece</td><td>Duet</td><td>2023-10-27 14:34</td></tr><tr><td>Greece</td><td>Artistic Swimming</td><td>Greece</td><td>Team</td><td>2023-10-27 14:34</td></tr><tr><td>Israel</td><td>Artistic Swimming</td><td>Israel</td><td>Duet</td><td>2023-10-27 14:34</td></tr><tr><td>Italy</td><td>Artistic Swimming</td><td>Italy</td><td>Duet</td><td>2023-10-27 14:34</td></tr><tr><td>Italy</td><td>Artistic Swimming</td><td>Italy</td><td>Team</td><td>2023-10-27 14:34</td></tr><tr><td>Japan</td><td>Artistic Swimming</td><td>Japan</td><td>Duet</td><td>2023-10-27 14:34</td></tr><tr><td>Japan</td><td>Artistic Swimming</td><td>Japan</td><td>Team</td><td>2023-10-27 14:34</td></tr><tr><td>Kazakhstan</td><td>Artistic Swimming</td><td>Kazakhstan</td><td>Duet</td><td>2023-10-27 14:34</td></tr><tr><td>Liechtenstein</td><td>Artistic Swimming</td><td>Liechtenstein</td><td>Duet</td><td>2023-10-27 14:34</td></tr><tr><td>Mexico</td><td>Artistic Swimming</td><td>Mexico</td><td>Duet</td><td>2023-10-27 14:34</td></tr><tr><td>Netherlands</td><td>Artistic Swimming</td><td>Netherlands</td><td>Duet</td><td>2023-10-27 14:34</td></tr><tr><td>ROC</td><td>Artistic Swimming</td><td>ROC</td><td>Duet</td><td>2023-10-27 14:34</td></tr><tr><td>ROC</td><td>Artistic Swimming</td><td>ROC</td><td>Team</td><td>2023-10-27 14:34</td></tr><tr><td>South Africa</td><td>Artistic Swimming</td><td>South Africa</td><td>Duet</td><td>2023-10-27 14:34</td></tr><tr><td>Spain</td><td>Artistic Swimming</td><td>Spain</td><td>Duet</td><td>2023-10-27 14:34</td></tr><tr><td>Spain</td><td>Artistic Swimming</td><td>Spain</td><td>Team</td><td>2023-10-27 14:34</td></tr><tr><td>Ukraine</td><td>Artistic Swimming</td><td>Ukraine</td><td>Duet</td><td>2023-10-27 14:34</td></tr><tr><td>Ukraine</td><td>Artistic Swimming</td><td>Ukraine</td><td>Team</td><td>2023-10-27 14:34</td></tr><tr><td>United States</td><td>Artistic Swimming</td><td>United States of America</td><td>Duet</td><td>2023-10-27 14:34</td></tr><tr><td>Australia</td><td>Athletics</td><td>Australia</td><td>Women's 4 x 400m Relay</td><td>2023-10-27 14:34</td></tr><tr><td>Bahamas</td><td>Athletics</td><td>Bahamas</td><td>Women's 4 x 400m Relay</td><td>2023-10-27 14:34</td></tr><tr><td>Belarus</td><td>Athletics</td><td>Belarus</td><td>Women's 4 x 400m Relay</td><td>2023-10-27 14:34</td></tr><tr><td>Belgium</td><td>Athletics</td><td>Belgium</td><td>4 x 400m Relay Mixed</td><td>2023-10-27 14:34</td></tr><tr><td>Belgium</td><td>Athletics</td><td>Belgium</td><td>Men's 4 x 400m Relay</td><td>2023-10-27 14:34</td></tr><tr><td>Belgium</td><td>Athletics</td><td>Belgium</td><td>Women's 4 x 400m Relay</td><td>2023-10-27 14:34</td></tr><tr><td>Botswana</td><td>Athletics</td><td>Botswana</td><td>Men's 4 x 400m Relay</td><td>2023-10-27 14:34</td></tr><tr><td>Brazil</td><td>Athletics</td><td>Brazil</td><td>4 x 400m Relay Mixed</td><td>2023-10-27 14:34</td></tr><tr><td>Brazil</td><td>Athletics</td><td>Brazil</td><td>Men's 4 x 100m Relay</td><td>2023-10-27 14:34</td></tr><tr><td>Brazil</td><td>Athletics</td><td>Brazil</td><td>Women's 4 x 100m Relay</td><td>2023-10-27 14:34</td></tr><tr><td>Canada</td><td>Athletics</td><td>Canada</td><td>Men's 4 x 100m Relay</td><td>2023-10-27 14:34</td></tr><tr><td>Canada</td><td>Athletics</td><td>Canada</td><td>Women's 4 x 400m Relay</td><td>2023-10-27 14:34</td></tr><tr><td>China</td><td>Athletics</td><td>People's Republic of China</td><td>Men's 4 x 100m Relay</td><td>2023-10-27 14:34</td></tr><tr><td>China</td><td>Athletics</td><td>People's Republic of China</td><td>Women's 4 x 100m Relay</td><td>2023-10-27 14:34</td></tr><tr><td>Colombia</td><td>Athletics</td><td>Colombia</td><td>Men's 4 x 400m Relay</td><td>2023-10-27 14:34</td></tr><tr><td>Cuba</td><td>Athletics</td><td>Cuba</td><td>Women's 4 x 400m Relay</td><td>2023-10-27 14:34</td></tr><tr><td>Czech Republic</td><td>Athletics</td><td>Czech Republic</td><td>Men's 4 x 400m Relay</td><td>2023-10-27 14:34</td></tr><tr><td>Denmark</td><td>Athletics</td><td>Denmark</td><td>Men's 4 x 100m Relay</td><td>2023-10-27 14:34</td></tr><tr><td>Denmark</td><td>Athletics</td><td>Denmark</td><td>Women's 4 x 100m Relay</td><td>2023-10-27 14:34</td></tr><tr><td>Dominican Rep.</td><td>Athletics</td><td>Dominican Republic</td><td>4 x 400m Relay Mixed</td><td>2023-10-27 14:34</td></tr><tr><td>Ecuador</td><td>Athletics</td><td>Ecuador</td><td>Women's 4 x 100m Relay</td><td>2023-10-27 14:34</td></tr><tr><td>France</td><td>Athletics</td><td>France</td><td>Men's 4 x 100m Relay</td><td>2023-10-27 14:34</td></tr><tr><td>France</td><td>Athletics</td><td>France</td><td>Men's 4 x 400m Relay</td><td>2023-10-27 14:34</td></tr><tr><td>France</td><td>Athletics</td><td>France</td><td>Women's 4 x 100m Relay</td><td>2023-10-27 14:34</td></tr><tr><td>France</td><td>Athletics</td><td>France</td><td>Women's 4 x 400m Relay</td><td>2023-10-27 14:34</td></tr><tr><td>Germany</td><td>Athletics</td><td>Germany</td><td>4 x 400m Relay Mixed</td><td>2023-10-27 14:34</td></tr><tr><td>Germany</td><td>Athletics</td><td>Germany</td><td>Men's 4 x 100m Relay</td><td>2023-10-27 14:34</td></tr><tr><td>Germany</td><td>Athletics</td><td>Germany</td><td>Men's 4 x 400m Relay</td><td>2023-10-27 14:34</td></tr><tr><td>Germany</td><td>Athletics</td><td>Germany</td><td>Women's 4 x 100m Relay</td><td>2023-10-27 14:34</td></tr><tr><td>Germany</td><td>Athletics</td><td>Germany</td><td>Women's 4 x 400m Relay</td><td>2023-10-27 14:34</td></tr><tr><td>Ghana</td><td>Athletics</td><td>Ghana</td><td>Men's 4 x 100m Relay</td><td>2023-10-27 14:34</td></tr><tr><td>Great Britain</td><td>Athletics</td><td>Great Britain</td><td>4 x 400m Relay Mixed</td><td>2023-10-27 14:34</td></tr><tr><td>Great Britain</td><td>Athletics</td><td>Great Britain</td><td>Men's 4 x 100m Relay</td><td>2023-10-27 14:34</td></tr><tr><td>Great Britain</td><td>Athletics</td><td>Great Britain</td><td>Men's 4 x 400m Relay</td><td>2023-10-27 14:34</td></tr><tr><td>Great Britain</td><td>Athletics</td><td>Great Britain</td><td>Women's 4 x 100m Relay</td><td>2023-10-27 14:34</td></tr><tr><td>Great Britain</td><td>Athletics</td><td>Great Britain</td><td>Women's 4 x 400m Relay</td><td>2023-10-27 14:34</td></tr><tr><td>India</td><td>Athletics</td><td>India</td><td>4 x 400m Relay Mixed</td><td>2023-10-27 14:34</td></tr><tr><td>India</td><td>Athletics</td><td>India</td><td>Men's 4 x 400m Relay</td><td>2023-10-27 14:34</td></tr><tr><td>Ireland</td><td>Athletics</td><td>Ireland</td><td>4 x 400m Relay Mixed</td><td>2023-10-27 14:34</td></tr><tr><td>Italy</td><td>Athletics</td><td>Italy</td><td>4 x 400m Relay Mixed</td><td>2023-10-27 14:34</td></tr><tr><td>Italy</td><td>Athletics</td><td>Italy</td><td>Men's 4 x 100m Relay</td><td>2023-10-27 14:34</td></tr><tr><td>Italy</td><td>Athletics</td><td>Italy</td><td>Men's 4 x 400m Relay</td><td>2023-10-27 14:34</td></tr><tr><td>Italy</td><td>Athletics</td><td>Italy</td><td>Women's 4 x 100m Relay</td><td>2023-10-27 14:34</td></tr><tr><td>Italy</td><td>Athletics</td><td>Italy</td><td>Women's 4 x 400m Relay</td><td>2023-10-27 14:34</td></tr><tr><td>Jamaica</td><td>Athletics</td><td>Jamaica</td><td>4 x 400m Relay Mixed</td><td>2023-10-27 14:34</td></tr><tr><td>Jamaica</td><td>Athletics</td><td>Jamaica</td><td>Men's 4 x 100m Relay</td><td>2023-10-27 14:34</td></tr><tr><td>Jamaica</td><td>Athletics</td><td>Jamaica</td><td>Men's 4 x 400m Relay</td><td>2023-10-27 14:34</td></tr><tr><td>Jamaica</td><td>Athletics</td><td>Jamaica</td><td>Women's 4 x 100m Relay</td><td>2023-10-27 14:34</td></tr><tr><td>Jamaica</td><td>Athletics</td><td>Jamaica</td><td>Women's 4 x 400m Relay</td><td>2023-10-27 14:34</td></tr><tr><td>Japan</td><td>Athletics</td><td>Japan</td><td>Men's 4 x 100m Relay</td><td>2023-10-27 14:34</td></tr><tr><td>Japan</td><td>Athletics</td><td>Japan</td><td>Men's 4 x 400m Relay</td><td>2023-10-27 14:34</td></tr><tr><td>Japan</td><td>Athletics</td><td>Japan</td><td>Women's 4 x 100m Relay</td><td>2023-10-27 14:34</td></tr><tr><td>Netherlands</td><td>Athletics</td><td>Netherlands</td><td>4 x 400m Relay Mixed</td><td>2023-10-27 14:34</td></tr><tr><td>Netherlands</td><td>Athletics</td><td>Netherlands</td><td>Men's 4 x 100m Relay</td><td>2023-10-27 14:34</td></tr><tr><td>Netherlands</td><td>Athletics</td><td>Netherlands</td><td>Men's 4 x 400m Relay</td><td>2023-10-27 14:34</td></tr><tr><td>Netherlands</td><td>Athletics</td><td>Netherlands</td><td>Women's 4 x 100m Relay</td><td>2023-10-27 14:34</td></tr><tr><td>Netherlands</td><td>Athletics</td><td>Netherlands</td><td>Women's 4 x 400m Relay</td><td>2023-10-27 14:34</td></tr><tr><td>Nigeria</td><td>Athletics</td><td>Nigeria</td><td>4 x 400m Relay Mixed</td><td>2023-10-27 14:34</td></tr><tr><td>Nigeria</td><td>Athletics</td><td>Nigeria</td><td>Women's 4 x 100m Relay</td><td>2023-10-27 14:34</td></tr><tr><td>Poland</td><td>Athletics</td><td>Poland</td><td>4 x 400m Relay Mixed</td><td>2023-10-27 14:34</td></tr><tr><td>Poland</td><td>Athletics</td><td>Poland</td><td>Men's 4 x 400m Relay</td><td>2023-10-27 14:34</td></tr><tr><td>Poland</td><td>Athletics</td><td>Poland</td><td>Women's 4 x 100m Relay</td><td>2023-10-27 14:34</td></tr><tr><td>Poland</td><td>Athletics</td><td>Poland</td><td>Women's 4 x 400m Relay</td><td>2023-10-27 14:34</td></tr><tr><td>South Africa</td><td>Athletics</td><td>South Africa</td><td>Men's 4 x 100m Relay</td><td>2023-10-27 14:34</td></tr><tr><td>South Africa</td><td>Athletics</td><td>South Africa</td><td>Men's 4 x 400m Relay</td><td>2023-10-27 14:34</td></tr><tr><td>Spain</td><td>Athletics</td><td>Spain</td><td>4 x 400m Relay Mixed</td><td>2023-10-27 14:34</td></tr><tr><td>Switzerland</td><td>Athletics</td><td>Switzerland</td><td>Women's 4 x 100m Relay</td><td>2023-10-27 14:34</td></tr><tr><td>Switzerland</td><td>Athletics</td><td>Switzerland</td><td>Women's 4 x 400m Relay</td><td>2023-10-27 14:34</td></tr><tr><td>Trinidad & Tobago</td><td>Athletics</td><td>Trinidad and Tobago</td><td>Men's 4 x 100m Relay</td><td>2023-10-27 14:34</td></tr><tr><td>Trinidad & Tobago</td><td>Athletics</td><td>Trinidad and Tobago</td><td>Men's 4 x 400m Relay</td><td>2023-10-27 14:34</td></tr><tr><td>Trinidad & Tobago</td><td>Athletics</td><td>Trinidad and Tobago</td><td>Women's 4 x 100m Relay</td><td>2023-10-27 14:34</td></tr><tr><td>Turkey</td><td>Athletics</td><td>Turkey</td><td>Men's 4 x 100m Relay</td><td>2023-10-27 14:34</td></tr><tr><td>Ukraine</td><td>Athletics</td><td>Ukraine</td><td>4 x 400m Relay Mixed</td><td>2023-10-27 14:34</td></tr><tr><td>Ukraine</td><td>Athletics</td><td>Ukraine</td><td>Women's 4 x 400m Relay</td><td>2023-10-27 14:34</td></tr><tr><td>United States</td><td>Athletics</td><td>United States of America</td><td>4 x 400m Relay Mixed</td><td>2023-10-27 14:34</td></tr><tr><td>United States</td><td>Athletics</td><td>United States of America</td><td>Men's 4 x 100m Relay</td><td>2023-10-27 14:34</td></tr><tr><td>United States</td><td>Athletics</td><td>United States of America</td><td>Men's 4 x 400m Relay</td><td>2023-10-27 14:34</td></tr><tr><td>United States</td><td>Athletics</td><td>United States of America</td><td>Women's 4 x 100m Relay</td><td>2023-10-27 14:34</td></tr><tr><td>United States</td><td>Athletics</td><td>United States of America</td><td>Women's 4 x 400m Relay</td><td>2023-10-27 14:34</td></tr><tr><td>Australia</td><td>Baseball/Softball</td><td>Australia</td><td>Softball</td><td>2023-10-27 14:34</td></tr><tr><td>Canada</td><td>Baseball/Softball</td><td>Canada</td><td>Softball</td><td>2023-10-27 14:34</td></tr><tr><td>Dominican Rep.</td><td>Baseball/Softball</td><td>Dominican Republic</td><td>Baseball</td><td>2023-10-27 14:34</td></tr><tr><td>Israel</td><td>Baseball/Softball</td><td>Israel</td><td>Baseball</td><td>2023-10-27 14:34</td></tr><tr><td>Italy</td><td>Baseball/Softball</td><td>Italy</td><td>Softball</td><td>2023-10-27 14:34</td></tr><tr><td>Japan</td><td>Baseball/Softball</td><td>Japan</td><td>Baseball</td><td>2023-10-27 14:34</td></tr><tr><td>Japan</td><td>Baseball/Softball</td><td>Japan</td><td>Softball</td><td>2023-10-27 14:34</td></tr><tr><td>Mexico</td><td>Baseball/Softball</td><td>Mexico</td><td>Baseball</td><td>2023-10-27 14:34</td></tr><tr><td>Mexico</td><td>Baseball/Softball</td><td>Mexico</td><td>Softball</td><td>2023-10-27 14:34</td></tr><tr><td>Republic of Korea</td><td>Baseball/Softball</td><td>Republic of Korea</td><td>Baseball</td><td>2023-10-27 14:34</td></tr><tr><td>United States</td><td>Baseball/Softball</td><td>United States of America</td><td>Baseball</td><td>2023-10-27 14:34</td></tr><tr><td>United States</td><td>Baseball/Softball</td><td>United States of America</td><td>Softball</td><td>2023-10-27 14:34</td></tr><tr><td>Argentina</td><td>Basketball</td><td>Argentina</td><td>Men</td><td>2023-10-27 14:34</td></tr><tr><td>Australia</td><td>Basketball</td><td>Australia</td><td>Men</td><td>2023-10-27 14:34</td></tr><tr><td>Australia</td><td>Basketball</td><td>Australia</td><td>Women</td><td>2023-10-27 14:34</td></tr><tr><td>Belgium</td><td>Basketball</td><td>Belgium</td><td>Women</td><td>2023-10-27 14:34</td></tr><tr><td>Canada</td><td>Basketball</td><td>Canada</td><td>Women</td><td>2023-10-27 14:34</td></tr><tr><td>China</td><td>Basketball</td><td>People's Republic of China</td><td>Women</td><td>2023-10-27 14:34</td></tr><tr><td>Czech Republic</td><td>Basketball</td><td>Czech Republic</td><td>Men</td><td>2023-10-27 14:34</td></tr><tr><td>France</td><td>Basketball</td><td>France</td><td>Men</td><td>2023-10-27 14:34</td></tr><tr><td>France</td><td>Basketball</td><td>France</td><td>Women</td><td>2023-10-27 14:34</td></tr><tr><td>Germany</td><td>Basketball</td><td>Germany</td><td>Men</td><td>2023-10-27 14:34</td></tr><tr><td>Islamic Rep. of Iran</td><td>Basketball</td><td>Islamic Republic of Iran</td><td>Men</td><td>2023-10-27 14:34</td></tr><tr><td>Italy</td><td>Basketball</td><td>Italy</td><td>Men</td><td>2023-10-27 14:34</td></tr><tr><td>Japan</td><td>Basketball</td><td>Japan</td><td>Men</td><td>2023-10-27 14:34</td></tr><tr><td>Japan</td><td>Basketball</td><td>Japan</td><td>Women</td><td>2023-10-27 14:34</td></tr><tr><td>Nigeria</td><td>Basketball</td><td>Nigeria</td><td>Men</td><td>2023-10-27 14:34</td></tr><tr><td>Nigeria</td><td>Basketball</td><td>Nigeria</td><td>Women</td><td>2023-10-27 14:34</td></tr><tr><td>Puerto Rico</td><td>Basketball</td><td>Puerto Rico</td><td>Women</td><td>2023-10-27 14:34</td></tr><tr><td>Republic of Korea</td><td>Basketball</td><td>Republic of Korea</td><td>Women</td><td>2023-10-27 14:34</td></tr><tr><td>Serbia</td><td>Basketball</td><td>Serbia</td><td>Women</td><td>2023-10-27 14:34</td></tr><tr><td>Slovenia</td><td>Basketball</td><td>Slovenia</td><td>Men</td><td>2023-10-27 14:34</td></tr><tr><td>Spain</td><td>Basketball</td><td>Spain</td><td>Men</td><td>2023-10-27 14:34</td></tr><tr><td>Spain</td><td>Basketball</td><td>Spain</td><td>Women</td><td>2023-10-27 14:34</td></tr><tr><td>United States</td><td>Basketball</td><td>United States of America</td><td>Men</td><td>2023-10-27 14:34</td></tr><tr><td>United States</td><td>Basketball</td><td>United States of America</td><td>Women</td><td>2023-10-27 14:34</td></tr><tr><td>Azaad/Capogrosso</td><td>Beach Volleyball</td><td>Argentina</td><td>Men</td><td>2023-10-27 14:34</td></tr><tr><td>Gallay/Pereyra</td><td>Beach Volleyball</td><td>Argentina</td><td>Women</td><td>2023-10-27 14:34</td></tr><tr><td>McHugh/Schumann</td><td>Beach Volleyball</td><td>Australia</td><td>Men</td><td>2023-10-27 14:34</td></tr><tr><td>Artacho Del Solar/Clancy</td><td>Beach Volleyball</td><td>Australia</td><td>Women</td><td>2023-10-27 14:34</td></tr><tr><td>Alison/Alvaro Filho</td><td>Beach Volleyball</td><td>Brazil</td><td>Men</td><td>2023-10-27 14:34</td></tr><tr><td>Evandro/Bruno Schmidt</td><td>Beach Volleyball</td><td>Brazil</td><td>Men</td><td>2023-10-27 14:34</td></tr><tr><td>Ana Patricia/Rebecca</td><td>Beach Volleyball</td><td>Brazil</td><td>Women</td><td>2023-10-27 14:34</td></tr><tr><td>Agatha/Duda</td><td>Beach Volleyball</td><td>Brazil</td><td>Women</td><td>2023-10-27 14:34</td></tr><tr><td>Bansley/Brandie</td><td>Beach Volleyball</td><td>Canada</td><td>Women</td><td>2023-10-27 14:34</td></tr><tr><td>Pavan/Melissa</td><td>Beach Volleyball</td><td>Canada</td><td>Women</td><td>2023-10-27 14:34</td></tr><tr><td>Grimalt M./Grimalt E.</td><td>Beach Volleyball</td><td>Chile</td><td>Men</td><td>2023-10-27 14:34</td></tr><tr><td>Wang/X.Y.Xia</td><td>Beach Volleyball</td><td>People's Republic of China</td><td>Women</td><td>2023-10-27 14:34</td></tr><tr><td>Xue/Wang X.X.</td><td>Beach Volleyball</td><td>People's Republic of China</td><td>Women</td><td>2023-10-27 14:34</td></tr><tr><td>Lidy/Leila</td><td>Beach Volleyball</td><td>Cuba</td><td>Women</td><td>2023-10-27 14:34</td></tr><tr><td>Perusic/Schweiner</td><td>Beach Volleyball</td><td>Czech Republic</td><td>Men</td><td>2023-10-27 14:34</td></tr><tr><td>Hermannova/Slukova</td><td>Beach Volleyball</td><td>Czech Republic</td><td>Women</td><td>2023-10-27 14:34</td></tr><tr><td>Thole J./Wickler</td><td>Beach Volleyball</td><td>Germany</td><td>Men</td><td>2023-10-27 14:34</td></tr><tr><td>Ludwig/Kozuch</td><td>Beach Volleyball</td><td>Germany</td><td>Women</td><td>2023-10-27 14:34</td></tr><tr><td>Sude/Borger</td><td>Beach Volleyball</td><td>Germany</td><td>Women</td><td>2023-10-27 14:34</td></tr><tr><td>Nicolai/Lupo</td><td>Beach Volleyball</td><td>Italy</td><td>Men</td><td>2023-10-27 14:34</td></tr><tr><td>Carambula/Rossi</td><td>Beach Volleyball</td><td>Italy</td><td>Men</td><td>2023-10-27 14:34</td></tr><tr><td>Menegatti/Orsi Toth</td><td>Beach Volleyball</td><td>Italy</td><td>Women</td><td>2023-10-27 14:34</td></tr><tr><td>Gottsu/Shiratori</td><td>Beach Volleyball</td><td>Japan</td><td>Men</td><td>2023-10-27 14:34</td></tr><tr><td>Ishii/Murakami</td><td>Beach Volleyball</td><td>Japan</td><td>Women</td><td>2023-10-27 14:34</td></tr><tr><td>Makokha/Khadambi</td><td>Beach Volleyball</td><td>Kenya</td><td>Women</td><td>2023-10-27 14:34</td></tr><tr><td>Plavins/Tocs</td><td>Beach Volleyball</td><td>Latvia</td><td>Men</td><td>2023-10-27 14:34</td></tr><tr><td>Graudina/Kravcenoka</td><td>Beach Volleyball</td><td>Latvia</td><td>Women</td><td>2023-10-27 14:34</td></tr><tr><td>Gaxiola/Rubio</td><td>Beach Volleyball</td><td>Mexico</td><td>Men</td><td>2023-10-27 14:34</td></tr><tr><td>Abicha/Elgraoui</td><td>Beach Volleyball</td><td>Morocco</td><td>Men</td><td>2023-10-27 14:34</td></tr><tr><td>Brouwer/Meeuwsen</td><td>Beach Volleyball</td><td>Netherlands</td><td>Men</td><td>2023-10-27 14:34</td></tr><tr><td>Keizer/Meppelink</td><td>Beach Volleyball</td><td>Netherlands</td><td>Women</td><td>2023-10-27 14:34</td></tr><tr><td>Stam/Schoon</td><td>Beach Volleyball</td><td>Netherlands</td><td>Women</td><td>2023-10-27 14:34</td></tr><tr><td>Mol A./Sorum C.</td><td>Beach Volleyball</td><td>Norway</td><td>Men</td><td>2023-10-27 14:34</td></tr><tr><td>Bryl/Fijalek</td><td>Beach Volleyball</td><td>Poland</td><td>Men</td><td>2023-10-27 14:34</td></tr><tr><td>Kantor/Losiak</td><td>Beach Volleyball</td><td>Poland</td><td>Men</td><td>2023-10-27 14:34</td></tr><tr><td>Cherif/Ahmed</td><td>Beach Volleyball</td><td>Qatar</td><td>Men</td><td>2023-10-27 14:34</td></tr><tr><td>Krasilnikov/Stoyanovskiy</td><td>Beach Volleyball</td><td>ROC</td><td>Men</td><td>2023-10-27 14:34</td></tr><tr><td>Leshukov/Semenov</td><td>Beach Volleyball</td><td>ROC</td><td>Men</td><td>2023-10-27 14:34</td></tr><tr><td>Makroguzova/Kholomina</td><td>Beach Volleyball</td><td>ROC</td><td>Women</td><td>2023-10-27 14:34</td></tr><tr><td>Herrera/Gavira</td><td>Beach Volleyball</td><td>Spain</td><td>Men</td><td>2023-10-27 14:34</td></tr><tr><td>Liliana/Elsa</td><td>Beach Volleyball</td><td>Spain</td><td>Women</td><td>2023-10-27 14:34</td></tr><tr><td>Heidrich/Gerson</td><td>Beach Volleyball</td><td>Switzerland</td><td>Men</td><td>2023-10-27 14:34</td></tr><tr><td>Huberli/Betschart</td><td>Beach Volleyball</td><td>Switzerland</td><td>Women</td><td>2023-10-27 14:34</td></tr><tr><td>Verge-Depre, A./Heidrich</td><td>Beach Volleyball</td><td>Switzerland</td><td>Women</td><td>2023-10-27 14:34</td></tr><tr><td>Gibb/Bourne</td><td>Beach Volleyball</td><td>United States of America</td><td>Men</td><td>2023-10-27 14:34</td></tr><tr><td>Lucena/Dalhausser</td><td>Beach Volleyball</td><td>United States of America</td><td>Men</td><td>2023-10-27 14:34</td></tr><tr><td>April/Alix</td><td>Beach Volleyball</td><td>United States of America</td><td>Women</td><td>2023-10-27 14:34</td></tr><tr><td>Claes/Sponcil</td><td>Beach Volleyball</td><td>United States of America</td><td>Women</td><td>2023-10-27 14:34</td></tr><tr><td>Australia</td><td>Cycling Track</td><td>Australia</td><td>Men's Madison</td><td>2023-10-27 14:34</td></tr><tr><td>Australia</td><td>Cycling Track</td><td>Australia</td><td>Men's Team Pursuit</td><td>2023-10-27 14:34</td></tr><tr><td>Australia</td><td>Cycling Track</td><td>Australia</td><td>Men's Team Sprint</td><td>2023-10-27 14:34</td></tr><tr><td>Australia</td><td>Cycling Track</td><td>Australia</td><td>Women's Madison</td><td>2023-10-27 14:34</td></tr><tr><td>Australia</td><td>Cycling Track</td><td>Australia</td><td>Women's Team Pursuit</td><td>2023-10-27 14:34</td></tr><tr><td>Austria</td><td>Cycling Track</td><td>Austria</td><td>Men's Madison</td><td>2023-10-27 14:34</td></tr><tr><td>Belgium</td><td>Cycling Track</td><td>Belgium</td><td>Men's Madison</td><td>2023-10-27 14:34</td></tr><tr><td>Belgium</td><td>Cycling Track</td><td>Belgium</td><td>Women's Madison</td><td>2023-10-27 14:34</td></tr><tr><td>Canada</td><td>Cycling Track</td><td>Canada</td><td>Men's Madison</td><td>2023-10-27 14:34</td></tr><tr><td>Canada</td><td>Cycling Track</td><td>Canada</td><td>Men's Team Pursuit</td><td>2023-10-27 14:34</td></tr><tr><td>Canada</td><td>Cycling Track</td><td>Canada</td><td>Women's Madison</td><td>2023-10-27 14:34</td></tr><tr><td>Canada</td><td>Cycling Track</td><td>Canada</td><td>Women's Team Pursuit</td><td>2023-10-27 14:34</td></tr><tr><td>China</td><td>Cycling Track</td><td>People's Republic of China</td><td>Women's Team Sprint</td><td>2023-10-27 14:34</td></tr><tr><td>Denmark</td><td>Cycling Track</td><td>Denmark</td><td>Men's Madison</td><td>2023-10-27 14:34</td></tr><tr><td>Denmark</td><td>Cycling Track</td><td>Denmark</td><td>Men's Team Pursuit</td><td>2023-10-27 14:34</td></tr><tr><td>Denmark</td><td>Cycling Track</td><td>Denmark</td><td>Women's Madison</td><td>2023-10-27 14:34</td></tr><tr><td>France</td><td>Cycling Track</td><td>France</td><td>Men's Madison</td><td>2023-10-27 14:34</td></tr><tr><td>France</td><td>Cycling Track</td><td>France</td><td>Men's Team Sprint</td><td>2023-10-27 14:34</td></tr><tr><td>France</td><td>Cycling Track</td><td>France</td><td>Women's Madison</td><td>2023-10-27 14:34</td></tr><tr><td>France</td><td>Cycling Track</td><td>France</td><td>Women's Team Pursuit</td><td>2023-10-27 14:34</td></tr><tr><td>Germany</td><td>Cycling Track</td><td>Germany</td><td>Men's Madison</td><td>2023-10-27 14:34</td></tr><tr><td>Germany</td><td>Cycling Track</td><td>Germany</td><td>Men's Team Pursuit</td><td>2023-10-27 14:34</td></tr><tr><td>Germany</td><td>Cycling Track</td><td>Germany</td><td>Men's Team Sprint</td><td>2023-10-27 14:34</td></tr><tr><td>Germany</td><td>Cycling Track</td><td>Germany</td><td>Women's Madison</td><td>2023-10-27 14:34</td></tr><tr><td>Germany</td><td>Cycling Track</td><td>Germany</td><td>Women's Team Pursuit</td><td>2023-10-27 14:34</td></tr><tr><td>Germany</td><td>Cycling Track</td><td>Germany</td><td>Women's Team Sprint</td><td>2023-10-27 14:34</td></tr><tr><td>Great Britain</td><td>Cycling Track</td><td>Great Britain</td><td>Men's Madison</td><td>2023-10-27 14:34</td></tr><tr><td>Great Britain</td><td>Cycling Track</td><td>Great Britain</td><td>Men's Team Pursuit</td><td>2023-10-27 14:34</td></tr><tr><td>Great Britain</td><td>Cycling Track</td><td>Great Britain</td><td>Men's Team Sprint</td><td>2023-10-27 14:34</td></tr><tr><td>Great Britain</td><td>Cycling Track</td><td>Great Britain</td><td>Women's Madison</td><td>2023-10-27 14:34</td></tr><tr><td>Great Britain</td><td>Cycling Track</td><td>Great Britain</td><td>Women's Team Pursuit</td><td>2023-10-27 14:34</td></tr><tr><td>Hong Kong, China</td><td>Cycling Track</td><td>Hong Kong, China</td><td>Women's Madison</td><td>2023-10-27 14:34</td></tr><tr><td>Ireland</td><td>Cycling Track</td><td>Ireland</td><td>Men's Madison</td><td>2023-10-27 14:34</td></tr><tr><td>Ireland</td><td>Cycling Track</td><td>Ireland</td><td>Women's Madison</td><td>2023-10-27 14:34</td></tr><tr><td>Italy</td><td>Cycling Track</td><td>Italy</td><td>Men's Madison</td><td>2023-10-27 14:34</td></tr><tr><td>Italy</td><td>Cycling Track</td><td>Italy</td><td>Men's Team Pursuit</td><td>2023-10-27 14:34</td></tr><tr><td>Italy</td><td>Cycling Track</td><td>Italy</td><td>Women's Madison</td><td>2023-10-27 14:34</td></tr><tr><td>Italy</td><td>Cycling Track</td><td>Italy</td><td>Women's Team Pursuit</td><td>2023-10-27 14:34</td></tr><tr><td>Japan</td><td>Cycling Track</td><td>Japan</td><td>Women's Madison</td><td>2023-10-27 14:34</td></tr><tr><td>Lithuania</td><td>Cycling Track</td><td>Lithuania</td><td>Women's Team Sprint</td><td>2023-10-27 14:34</td></tr><tr><td>Mexico</td><td>Cycling Track</td><td>Mexico</td><td>Women's Team Sprint</td><td>2023-10-27 14:34</td></tr><tr><td>Netherlands</td><td>Cycling Track</td><td>Netherlands</td><td>Men's Madison</td><td>2023-10-27 14:34</td></tr><tr><td>Netherlands</td><td>Cycling Track</td><td>Netherlands</td><td>Men's Team Sprint</td><td>2023-10-27 14:34</td></tr><tr><td>Netherlands</td><td>Cycling Track</td><td>Netherlands</td><td>Women's Madison</td><td>2023-10-27 14:34</td></tr><tr><td>Netherlands</td><td>Cycling Track</td><td>Netherlands</td><td>Women's Team Sprint</td><td>2023-10-27 14:34</td></tr><tr><td>New Zealand</td><td>Cycling Track</td><td>New Zealand</td><td>Men's Madison</td><td>2023-10-27 14:34</td></tr><tr><td>New Zealand</td><td>Cycling Track</td><td>New Zealand</td><td>Men's Team Pursuit</td><td>2023-10-27 14:34</td></tr><tr><td>New Zealand</td><td>Cycling Track</td><td>New Zealand</td><td>Men's Team Sprint</td><td>2023-10-27 14:34</td></tr><tr><td>New Zealand</td><td>Cycling Track</td><td>New Zealand</td><td>Women's Madison</td><td>2023-10-27 14:34</td></tr><tr><td>New Zealand</td><td>Cycling Track</td><td>New Zealand</td><td>Women's Team Pursuit</td><td>2023-10-27 14:34</td></tr><tr><td>Poland</td><td>Cycling Track</td><td>Poland</td><td>Men's Madison</td><td>2023-10-27 14:34</td></tr><tr><td>Poland</td><td>Cycling Track</td><td>Poland</td><td>Men's Team Sprint</td><td>2023-10-27 14:34</td></tr><tr><td>Poland</td><td>Cycling Track</td><td>Poland</td><td>Women's Madison</td><td>2023-10-27 14:34</td></tr><tr><td>Poland</td><td>Cycling Track</td><td>Poland</td><td>Women's Team Sprint</td><td>2023-10-27 14:34</td></tr><tr><td>ROC</td><td>Cycling Track</td><td>ROC</td><td>Men's Team Sprint</td><td>2023-10-27 14:34</td></tr><tr><td>ROC</td><td>Cycling Track</td><td>ROC</td><td>Women's Madison</td><td>2023-10-27 14:34</td></tr><tr><td>ROC</td><td>Cycling Track</td><td>ROC</td><td>Women's Team Sprint</td><td>2023-10-27 14:34</td></tr><tr><td>Spain</td><td>Cycling Track</td><td>Spain</td><td>Men's Madison</td><td>2023-10-27 14:34</td></tr><tr><td>Switzerland</td><td>Cycling Track</td><td>Switzerland</td><td>Men's Madison</td><td>2023-10-27 14:34</td></tr><tr><td>Switzerland</td><td>Cycling Track</td><td>Switzerland</td><td>Men's Team Pursuit</td><td>2023-10-27 14:34</td></tr><tr><td>Ukraine</td><td>Cycling Track</td><td>Ukraine</td><td>Women's Team Sprint</td><td>2023-10-27 14:34</td></tr><tr><td>United States</td><td>Cycling Track</td><td>United States of America</td><td>Men's Madison</td><td>2023-10-27 14:34</td></tr><tr><td>United States</td><td>Cycling Track</td><td>United States of America</td><td>Women's Madison</td><td>2023-10-27 14:34</td></tr><tr><td>United States</td><td>Cycling Track</td><td>United States of America</td><td>Women's Team Pursuit</td><td>2023-10-27 14:34</td></tr><tr><td>Canada</td><td>Fencing</td><td>Canada</td><td>Men's Foil Team</td><td>2023-10-27 14:34</td></tr><tr><td>Canada</td><td>Fencing</td><td>Canada</td><td>Women's Foil Team</td><td>2023-10-27 14:34</td></tr><tr><td>China</td><td>Fencing</td><td>People's Republic of China</td><td>Men's �p�e Team</td><td>2023-10-27 14:34</td></tr><tr><td>China</td><td>Fencing</td><td>People's Republic of China</td><td>Women's �p�e Team</td><td>2023-10-27 14:34</td></tr><tr><td>China</td><td>Fencing</td><td>People's Republic of China</td><td>Women's Sabre Team</td><td>2023-10-27 14:34</td></tr><tr><td>Egypt</td><td>Fencing</td><td>Egypt</td><td>Men's Foil Team</td><td>2023-10-27 14:34</td></tr><tr><td>Egypt</td><td>Fencing</td><td>Egypt</td><td>Men's Sabre Team</td><td>2023-10-27 14:34</td></tr><tr><td>Egypt</td><td>Fencing</td><td>Egypt</td><td>Women's Foil Team</td><td>2023-10-27 14:34</td></tr><tr><td>Estonia</td><td>Fencing</td><td>Estonia</td><td>Women's �p�e Team</td><td>2023-10-27 14:34</td></tr><tr><td>France</td><td>Fencing</td><td>France</td><td>Men's �p�e Team</td><td>2023-10-27 14:34</td></tr><tr><td>France</td><td>Fencing</td><td>France</td><td>Men's Foil Team</td><td>2023-10-27 14:34</td></tr><tr><td>France</td><td>Fencing</td><td>France</td><td>Women's Foil Team</td><td>2023-10-27 14:34</td></tr><tr><td>France</td><td>Fencing</td><td>France</td><td>Women's Sabre Team</td><td>2023-10-27 14:34</td></tr><tr><td>Germany</td><td>Fencing</td><td>Germany</td><td>Men's Foil Team</td><td>2023-10-27 14:34</td></tr><tr><td>Germany</td><td>Fencing</td><td>Germany</td><td>Men's Sabre Team</td><td>2023-10-27 14:34</td></tr><tr><td>Hong Kong, China</td><td>Fencing</td><td>Hong Kong, China</td><td>Men's Foil Team</td><td>2023-10-27 14:34</td></tr><tr><td>Hong Kong, China</td><td>Fencing</td><td>Hong Kong, China</td><td>Women's �p�e Team</td><td>2023-10-27 14:34</td></tr><tr><td>Hungary</td><td>Fencing</td><td>Hungary</td><td>Men's Sabre Team</td><td>2023-10-27 14:34</td></tr><tr><td>Hungary</td><td>Fencing</td><td>Hungary</td><td>Women's Foil Team</td><td>2023-10-27 14:34</td></tr><tr><td>Hungary</td><td>Fencing</td><td>Hungary</td><td>Women's Sabre Team</td><td>2023-10-27 14:34</td></tr><tr><td>Islamic Rep. of Iran</td><td>Fencing</td><td>Islamic Republic of Iran</td><td>Men's Sabre Team</td><td>2023-10-27 14:34</td></tr><tr><td>Italy</td><td>Fencing</td><td>Italy</td><td>Men's �p�e Team</td><td>2023-10-27 14:34</td></tr><tr><td>Italy</td><td>Fencing</td><td>Italy</td><td>Men's Foil Team</td><td>2023-10-27 14:34</td></tr><tr><td>Italy</td><td>Fencing</td><td>Italy</td><td>Men's Sabre Team</td><td>2023-10-27 14:34</td></tr><tr><td>Italy</td><td>Fencing</td><td>Italy</td><td>Women's �p�e Team</td><td>2023-10-27 14:34</td></tr><tr><td>Italy</td><td>Fencing</td><td>Italy</td><td>Women's Foil Team</td><td>2023-10-27 14:34</td></tr><tr><td>Italy</td><td>Fencing</td><td>Italy</td><td>Women's Sabre Team</td><td>2023-10-27 14:34</td></tr><tr><td>Japan</td><td>Fencing</td><td>Japan</td><td>Men's �p�e Team</td><td>2023-10-27 14:34</td></tr><tr><td>Japan</td><td>Fencing</td><td>Japan</td><td>Men's Foil Team</td><td>2023-10-27 14:34</td></tr><tr><td>Japan</td><td>Fencing</td><td>Japan</td><td>Men's Sabre Team</td><td>2023-10-27 14:34</td></tr><tr><td>Japan</td><td>Fencing</td><td>Japan</td><td>Women's Foil Team</td><td>2023-10-27 14:34</td></tr><tr><td>Japan</td><td>Fencing</td><td>Japan</td><td>Women's Sabre Team</td><td>2023-10-27 14:34</td></tr><tr><td>Poland</td><td>Fencing</td><td>Poland</td><td>Women's �p�e Team</td><td>2023-10-27 14:34</td></tr><tr><td>Republic of Korea</td><td>Fencing</td><td>Republic of Korea</td><td>Men's �p�e Team</td><td>2023-10-27 14:34</td></tr><tr><td>Republic of Korea</td><td>Fencing</td><td>Republic of Korea</td><td>Men's Sabre Team</td><td>2023-10-27 14:34</td></tr><tr><td>Republic of Korea</td><td>Fencing</td><td>Republic of Korea</td><td>Women's �p�e Team</td><td>2023-10-27 14:34</td></tr><tr><td>Republic of Korea</td><td>Fencing</td><td>Republic of Korea</td><td>Women's Sabre Team</td><td>2023-10-27 14:34</td></tr><tr><td>ROC</td><td>Fencing</td><td>ROC</td><td>Men's �p�e Team</td><td>2023-10-27 14:34</td></tr><tr><td>ROC</td><td>Fencing</td><td>ROC</td><td>Men's Foil Team</td><td>2023-10-27 14:34</td></tr><tr><td>ROC</td><td>Fencing</td><td>ROC</td><td>Men's Sabre Team</td><td>2023-10-27 14:34</td></tr><tr><td>ROC</td><td>Fencing</td><td>ROC</td><td>Women's �p�e Team</td><td>2023-10-27 14:34</td></tr><tr><td>ROC</td><td>Fencing</td><td>ROC</td><td>Women's Foil Team</td><td>2023-10-27 14:34</td></tr><tr><td>ROC</td><td>Fencing</td><td>ROC</td><td>Women's Sabre Team</td><td>2023-10-27 14:34</td></tr><tr><td>Switzerland</td><td>Fencing</td><td>Switzerland</td><td>Men's �p�e Team</td><td>2023-10-27 14:34</td></tr><tr><td>Tunisia</td><td>Fencing</td><td>Tunisia</td><td>Women's Sabre Team</td><td>2023-10-27 14:34</td></tr><tr><td>Ukraine</td><td>Fencing</td><td>Ukraine</td><td>Men's �p�e Team</td><td>2023-10-27 14:34</td></tr><tr><td>United States</td><td>Fencing</td><td>United States of America</td><td>Men's �p�e Team</td><td>2023-10-27 14:34</td></tr><tr><td>United States</td><td>Fencing</td><td>United States of America</td><td>Men's Foil Team</td><td>2023-10-27 14:34</td></tr><tr><td>United States</td><td>Fencing</td><td>United States of America</td><td>Men's Sabre Team</td><td>2023-10-27 14:34</td></tr><tr><td>United States</td><td>Fencing</td><td>United States of America</td><td>Women's �p�e Team</td><td>2023-10-27 14:34</td></tr><tr><td>United States</td><td>Fencing</td><td>United States of America</td><td>Women's Foil Team</td><td>2023-10-27 14:34</td></tr><tr><td>United States</td><td>Fencing</td><td>United States of America</td><td>Women's Sabre Team</td><td>2023-10-27 14:34</td></tr><tr><td>Argentina</td><td>Football</td><td>Argentina</td><td>Men</td><td>2023-10-27 14:34</td></tr><tr><td>Australia</td><td>Football</td><td>Australia</td><td>Men</td><td>2023-10-27 14:34</td></tr><tr><td>Australia</td><td>Football</td><td>Australia</td><td>Women</td><td>2023-10-27 14:34</td></tr><tr><td>Brazil</td><td>Football</td><td>Brazil</td><td>Men</td><td>2023-10-27 14:34</td></tr><tr><td>Brazil</td><td>Football</td><td>Brazil</td><td>Women</td><td>2023-10-27 14:34</td></tr><tr><td>Canada</td><td>Football</td><td>Canada</td><td>Women</td><td>2023-10-27 14:34</td></tr><tr><td>Chile</td><td>Football</td><td>Chile</td><td>Women</td><td>2023-10-27 14:34</td></tr><tr><td>China</td><td>Football</td><td>People's Republic of China</td><td>Women</td><td>2023-10-27 14:34</td></tr><tr><td>C�te d�Ivoire</td><td>Football</td><td>C�te d'Ivoire</td><td>Men</td><td>2023-10-27 14:34</td></tr><tr><td>Egypt</td><td>Football</td><td>Egypt</td><td>Men</td><td>2023-10-27 14:34</td></tr><tr><td>France</td><td>Football</td><td>France</td><td>Men</td><td>2023-10-27 14:34</td></tr><tr><td>Germany</td><td>Football</td><td>Germany</td><td>Men</td><td>2023-10-27 14:34</td></tr><tr><td>Great Britain</td><td>Football</td><td>Great Britain</td><td>Women</td><td>2023-10-27 14:34</td></tr><tr><td>Honduras</td><td>Football</td><td>Honduras</td><td>Men</td><td>2023-10-27 14:34</td></tr><tr><td>Japan</td><td>Football</td><td>Japan</td><td>Men</td><td>2023-10-27 14:34</td></tr><tr><td>Japan</td><td>Football</td><td>Japan</td><td>Women</td><td>2023-10-27 14:34</td></tr><tr><td>Mexico</td><td>Football</td><td>Mexico</td><td>Men</td><td>2023-10-27 14:34</td></tr><tr><td>Netherlands</td><td>Football</td><td>Netherlands</td><td>Women</td><td>2023-10-27 14:34</td></tr><tr><td>New Zealand</td><td>Football</td><td>New Zealand</td><td>Men</td><td>2023-10-27 14:34</td></tr><tr><td>New Zealand</td><td>Football</td><td>New Zealand</td><td>Women</td><td>2023-10-27 14:34</td></tr><tr><td>Republic of Korea</td><td>Football</td><td>Republic of Korea</td><td>Men</td><td>2023-10-27 14:34</td></tr><tr><td>Romania</td><td>Football</td><td>Romania</td><td>Men</td><td>2023-10-27 14:34</td></tr><tr><td>Saudi Arabia</td><td>Football</td><td>Saudi Arabia</td><td>Men</td><td>2023-10-27 14:34</td></tr><tr><td>South Africa</td><td>Football</td><td>South Africa</td><td>Men</td><td>2023-10-27 14:34</td></tr><tr><td>Spain</td><td>Football</td><td>Spain</td><td>Men</td><td>2023-10-27 14:34</td></tr><tr><td>Sweden</td><td>Football</td><td>Sweden</td><td>Women</td><td>2023-10-27 14:34</td></tr><tr><td>United States</td><td>Football</td><td>United States of America</td><td>Women</td><td>2023-10-27 14:34</td></tr><tr><td>Zambia</td><td>Football</td><td>Zambia</td><td>Women</td><td>2023-10-27 14:34</td></tr><tr><td>Angola</td><td>Handball</td><td>Angola</td><td>Women</td><td>2023-10-27 14:34</td></tr><tr><td>Argentina</td><td>Handball</td><td>Argentina</td><td>Men</td><td>2023-10-27 14:34</td></tr><tr><td>Bahrain</td><td>Handball</td><td>Bahrain</td><td>Men</td><td>2023-10-27 14:34</td></tr><tr><td>Brazil</td><td>Handball</td><td>Brazil</td><td>Men</td><td>2023-10-27 14:34</td></tr><tr><td>Brazil</td><td>Handball</td><td>Brazil</td><td>Women</td><td>2023-10-27 14:34</td></tr><tr><td>Denmark</td><td>Handball</td><td>Denmark</td><td>Men</td><td>2023-10-27 14:34</td></tr><tr><td>Egypt</td><td>Handball</td><td>Egypt</td><td>Men</td><td>2023-10-27 14:34</td></tr><tr><td>France</td><td>Handball</td><td>France</td><td>Men</td><td>2023-10-27 14:34</td></tr><tr><td>France</td><td>Handball</td><td>France</td><td>Women</td><td>2023-10-27 14:34</td></tr><tr><td>Germany</td><td>Handball</td><td>Germany</td><td>Men</td><td>2023-10-27 14:34</td></tr><tr><td>Hungary</td><td>Handball</td><td>Hungary</td><td>Women</td><td>2023-10-27 14:34</td></tr><tr><td>Japan</td><td>Handball</td><td>Japan</td><td>Men</td><td>2023-10-27 14:34</td></tr><tr><td>Japan</td><td>Handball</td><td>Japan</td><td>Women</td><td>2023-10-27 14:34</td></tr><tr><td>Montenegro</td><td>Handball</td><td>Montenegro</td><td>Women</td><td>2023-10-27 14:34</td></tr><tr><td>Netherlands</td><td>Handball</td><td>Netherlands</td><td>Women</td><td>2023-10-27 14:34</td></tr><tr><td>Norway</td><td>Handball</td><td>Norway</td><td>Men</td><td>2023-10-27 14:34</td></tr><tr><td>Norway</td><td>Handball</td><td>Norway</td><td>Women</td><td>2023-10-27 14:34</td></tr><tr><td>Portugal</td><td>Handball</td><td>Portugal</td><td>Men</td><td>2023-10-27 14:34</td></tr><tr><td>Republic of Korea</td><td>Handball</td><td>Republic of Korea</td><td>Women</td><td>2023-10-27 14:34</td></tr><tr><td>ROC</td><td>Handball</td><td>ROC</td><td>Women</td><td>2023-10-27 14:34</td></tr><tr><td>Spain</td><td>Handball</td><td>Spain</td><td>Men</td><td>2023-10-27 14:34</td></tr><tr><td>Spain</td><td>Handball</td><td>Spain</td><td>Women</td><td>2023-10-27 14:34</td></tr><tr><td>Sweden</td><td>Handball</td><td>Sweden</td><td>Men</td><td>2023-10-27 14:34</td></tr><tr><td>Sweden</td><td>Handball</td><td>Sweden</td><td>Women</td><td>2023-10-27 14:34</td></tr><tr><td>Argentina</td><td>Hockey</td><td>Argentina</td><td>Men</td><td>2023-10-27 14:34</td></tr><tr><td>Argentina</td><td>Hockey</td><td>Argentina</td><td>Women</td><td>2023-10-27 14:34</td></tr><tr><td>Australia</td><td>Hockey</td><td>Australia</td><td>Men</td><td>2023-10-27 14:34</td></tr><tr><td>Australia</td><td>Hockey</td><td>Australia</td><td>Women</td><td>2023-10-27 14:34</td></tr><tr><td>Belgium</td><td>Hockey</td><td>Belgium</td><td>Men</td><td>2023-10-27 14:34</td></tr><tr><td>Canada</td><td>Hockey</td><td>Canada</td><td>Men</td><td>2023-10-27 14:34</td></tr><tr><td>China</td><td>Hockey</td><td>People's Republic of China</td><td>Women</td><td>2023-10-27 14:34</td></tr><tr><td>Germany</td><td>Hockey</td><td>Germany</td><td>Men</td><td>2023-10-27 14:34</td></tr><tr><td>Germany</td><td>Hockey</td><td>Germany</td><td>Women</td><td>2023-10-27 14:34</td></tr><tr><td>Great Britain</td><td>Hockey</td><td>Great Britain</td><td>Men</td><td>2023-10-27 14:34</td></tr><tr><td>Great Britain</td><td>Hockey</td><td>Great Britain</td><td>Women</td><td>2023-10-27 14:34</td></tr><tr><td>India</td><td>Hockey</td><td>India</td><td>Men</td><td>2023-10-27 14:34</td></tr><tr><td>India</td><td>Hockey</td><td>India</td><td>Women</td><td>2023-10-27 14:34</td></tr><tr><td>Ireland</td><td>Hockey</td><td>Ireland</td><td>Women</td><td>2023-10-27 14:34</td></tr><tr><td>Japan</td><td>Hockey</td><td>Japan</td><td>Men</td><td>2023-10-27 14:34</td></tr><tr><td>Japan</td><td>Hockey</td><td>Japan</td><td>Women</td><td>2023-10-27 14:34</td></tr><tr><td>Netherlands</td><td>Hockey</td><td>Netherlands</td><td>Men</td><td>2023-10-27 14:34</td></tr><tr><td>Netherlands</td><td>Hockey</td><td>Netherlands</td><td>Women</td><td>2023-10-27 14:34</td></tr><tr><td>New Zealand</td><td>Hockey</td><td>New Zealand</td><td>Men</td><td>2023-10-27 14:34</td></tr><tr><td>New Zealand</td><td>Hockey</td><td>New Zealand</td><td>Women</td><td>2023-10-27 14:34</td></tr><tr><td>South Africa</td><td>Hockey</td><td>South Africa</td><td>Men</td><td>2023-10-27 14:34</td></tr><tr><td>South Africa</td><td>Hockey</td><td>South Africa</td><td>Women</td><td>2023-10-27 14:34</td></tr><tr><td>Spain</td><td>Hockey</td><td>Spain</td><td>Men</td><td>2023-10-27 14:34</td></tr><tr><td>Spain</td><td>Hockey</td><td>Spain</td><td>Women</td><td>2023-10-27 14:34</td></tr><tr><td>Australia</td><td>Rhythmic Gymnastics</td><td>Australia</td><td>Group All-Around</td><td>2023-10-27 14:34</td></tr><tr><td>Azerbaijan</td><td>Rhythmic Gymnastics</td><td>Azerbaijan</td><td>Group All-Around</td><td>2023-10-27 14:34</td></tr><tr><td>Belarus</td><td>Rhythmic Gymnastics</td><td>Belarus</td><td>Group All-Around</td><td>2023-10-27 14:34</td></tr><tr><td>Brazil</td><td>Rhythmic Gymnastics</td><td>Brazil</td><td>Group All-Around</td><td>2023-10-27 14:34</td></tr><tr><td>Bulgaria</td><td>Rhythmic Gymnastics</td><td>Bulgaria</td><td>Group All-Around</td><td>2023-10-27 14:34</td></tr><tr><td>China</td><td>Rhythmic Gymnastics</td><td>People's Republic of China</td><td>Group All-Around</td><td>2023-10-27 14:34</td></tr><tr><td>Egypt</td><td>Rhythmic Gymnastics</td><td>Egypt</td><td>Group All-Around</td><td>2023-10-27 14:34</td></tr><tr><td>Israel</td><td>Rhythmic Gymnastics</td><td>Israel</td><td>Group All-Around</td><td>2023-10-27 14:34</td></tr><tr><td>Italy</td><td>Rhythmic Gymnastics</td><td>Italy</td><td>Group All-Around</td><td>2023-10-27 14:34</td></tr><tr><td>Japan</td><td>Rhythmic Gymnastics</td><td>Japan</td><td>Group All-Around</td><td>2023-10-27 14:34</td></tr><tr><td>ROC</td><td>Rhythmic Gymnastics</td><td>ROC</td><td>Group All-Around</td><td>2023-10-27 14:34</td></tr><tr><td>Ukraine</td><td>Rhythmic Gymnastics</td><td>Ukraine</td><td>Group All-Around</td><td>2023-10-27 14:34</td></tr><tr><td>United States</td><td>Rhythmic Gymnastics</td><td>United States of America</td><td>Group All-Around</td><td>2023-10-27 14:34</td></tr><tr><td>Uzbekistan</td><td>Rhythmic Gymnastics</td><td>Uzbekistan</td><td>Group All-Around</td><td>2023-10-27 14:34</td></tr><tr><td>Argentina</td><td>Rugby Sevens</td><td>Argentina</td><td>Men</td><td>2023-10-27 14:34</td></tr><tr><td>Australia</td><td>Rugby Sevens</td><td>Australia</td><td>Men</td><td>2023-10-27 14:34</td></tr><tr><td>Australia</td><td>Rugby Sevens</td><td>Australia</td><td>Women</td><td>2023-10-27 14:34</td></tr><tr><td>Brazil</td><td>Rugby Sevens</td><td>Brazil</td><td>Women</td><td>2023-10-27 14:34</td></tr><tr><td>Canada</td><td>Rugby Sevens</td><td>Canada</td><td>Men</td><td>2023-10-27 14:34</td></tr><tr><td>Canada</td><td>Rugby Sevens</td><td>Canada</td><td>Women</td><td>2023-10-27 14:34</td></tr><tr><td>China</td><td>Rugby Sevens</td><td>People's Republic of China</td><td>Women</td><td>2023-10-27 14:34</td></tr><tr><td>Fiji</td><td>Rugby Sevens</td><td>Fiji</td><td>Men</td><td>2023-10-27 14:34</td></tr><tr><td>Fiji</td><td>Rugby Sevens</td><td>Fiji</td><td>Women</td><td>2023-10-27 14:34</td></tr><tr><td>France</td><td>Rugby Sevens</td><td>France</td><td>Women</td><td>2023-10-27 14:34</td></tr><tr><td>Great Britain</td><td>Rugby Sevens</td><td>Great Britain</td><td>Men</td><td>2023-10-27 14:34</td></tr><tr><td>Great Britain</td><td>Rugby Sevens</td><td>Great Britain</td><td>Women</td><td>2023-10-27 14:34</td></tr><tr><td>Ireland</td><td>Rugby Sevens</td><td>Ireland</td><td>Men</td><td>2023-10-27 14:34</td></tr><tr><td>Japan</td><td>Rugby Sevens</td><td>Japan</td><td>Men</td><td>2023-10-27 14:34</td></tr><tr><td>Japan</td><td>Rugby Sevens</td><td>Japan</td><td>Women</td><td>2023-10-27 14:34</td></tr><tr><td>Kenya</td><td>Rugby Sevens</td><td>Kenya</td><td>Men</td><td>2023-10-27 14:34</td></tr><tr><td>Kenya</td><td>Rugby Sevens</td><td>Kenya</td><td>Women</td><td>2023-10-27 14:34</td></tr><tr><td>New Zealand</td><td>Rugby Sevens</td><td>New Zealand</td><td>Men</td><td>2023-10-27 14:34</td></tr><tr><td>New Zealand</td><td>Rugby Sevens</td><td>New Zealand</td><td>Women</td><td>2023-10-27 14:34</td></tr><tr><td>Republic of Korea</td><td>Rugby Sevens</td><td>Republic of Korea</td><td>Men</td><td>2023-10-27 14:34</td></tr><tr><td>ROC</td><td>Rugby Sevens</td><td>ROC</td><td>Women</td><td>2023-10-27 14:34</td></tr><tr><td>South Africa</td><td>Rugby Sevens</td><td>South Africa</td><td>Men</td><td>2023-10-27 14:34</td></tr><tr><td>United States</td><td>Rugby Sevens</td><td>United States of America</td><td>Men</td><td>2023-10-27 14:34</td></tr><tr><td>United States</td><td>Rugby Sevens</td><td>United States of America</td><td>Women</td><td>2023-10-27 14:34</td></tr><tr><td>Australia</td><td>Swimming</td><td>Australia</td><td>Men's 4 x 100m Freestyle Relay</td><td>2023-10-27 14:34</td></tr><tr><td>Australia</td><td>Swimming</td><td>Australia</td><td>Men's 4 x 100m Medley Relay</td><td>2023-10-27 14:34</td></tr><tr><td>Australia</td><td>Swimming</td><td>Australia</td><td>Men's 4 x 200m Freestyle Relay</td><td>2023-10-27 14:34</td></tr><tr><td>Australia</td><td>Swimming</td><td>Australia</td><td>Mixed 4 x 100m Medley Relay</td><td>2023-10-27 14:34</td></tr><tr><td>Australia</td><td>Swimming</td><td>Australia</td><td>Women's 4 x 100m Freestyle Relay</td><td>2023-10-27 14:34</td></tr><tr><td>Australia</td><td>Swimming</td><td>Australia</td><td>Women's 4 x 100m Medley Relay</td><td>2023-10-27 14:34</td></tr><tr><td>Australia</td><td>Swimming</td><td>Australia</td><td>Women's 4 x 200m Freestyle Relay</td><td>2023-10-27 14:34</td></tr><tr><td>Belarus</td><td>Swimming</td><td>Belarus</td><td>Men's 4 x 100m Medley Relay</td><td>2023-10-27 14:34</td></tr><tr><td>Belarus</td><td>Swimming</td><td>Belarus</td><td>Mixed 4 x 100m Medley Relay</td><td>2023-10-27 14:34</td></tr><tr><td>Belarus</td><td>Swimming</td><td>Belarus</td><td>Women's 4 x 100m Medley Relay</td><td>2023-10-27 14:34</td></tr><tr><td>Brazil</td><td>Swimming</td><td>Brazil</td><td>Men's 4 x 100m Freestyle Relay</td><td>2023-10-27 14:34</td></tr><tr><td>Brazil</td><td>Swimming</td><td>Brazil</td><td>Men's 4 x 100m Medley Relay</td><td>2023-10-27 14:34</td></tr><tr><td>Brazil</td><td>Swimming</td><td>Brazil</td><td>Men's 4 x 200m Freestyle Relay</td><td>2023-10-27 14:34</td></tr><tr><td>Brazil</td><td>Swimming</td><td>Brazil</td><td>Mixed 4 x 100m Medley Relay</td><td>2023-10-27 14:34</td></tr><tr><td>Brazil</td><td>Swimming</td><td>Brazil</td><td>Women's 4 x 100m Freestyle Relay</td><td>2023-10-27 14:34</td></tr><tr><td>Brazil</td><td>Swimming</td><td>Brazil</td><td>Women's 4 x 200m Freestyle Relay</td><td>2023-10-27 14:34</td></tr><tr><td>Canada</td><td>Swimming</td><td>Canada</td><td>Men's 4 x 100m Freestyle Relay</td><td>2023-10-27 14:34</td></tr><tr><td>Canada</td><td>Swimming</td><td>Canada</td><td>Men's 4 x 100m Medley Relay</td><td>2023-10-27 14:34</td></tr><tr><td>Canada</td><td>Swimming</td><td>Canada</td><td>Mixed 4 x 100m Medley Relay</td><td>2023-10-27 14:34</td></tr><tr><td>Canada</td><td>Swimming</td><td>Canada</td><td>Women's 4 x 100m Freestyle Relay</td><td>2023-10-27 14:34</td></tr><tr><td>Canada</td><td>Swimming</td><td>Canada</td><td>Women's 4 x 100m Medley Relay</td><td>2023-10-27 14:34</td></tr><tr><td>Canada</td><td>Swimming</td><td>Canada</td><td>Women's 4 x 200m Freestyle Relay</td><td>2023-10-27 14:34</td></tr><tr><td>China</td><td>Swimming</td><td>People's Republic of China</td><td>Men's 4 x 100m Medley Relay</td><td>2023-10-27 14:34</td></tr><tr><td>China</td><td>Swimming</td><td>People's Republic of China</td><td>Men's 4 x 200m Freestyle Relay</td><td>2023-10-27 14:34</td></tr><tr><td>China</td><td>Swimming</td><td>People's Republic of China</td><td>Mixed 4 x 100m Medley Relay</td><td>2023-10-27 14:34</td></tr><tr><td>China</td><td>Swimming</td><td>People's Republic of China</td><td>Women's 4 x 100m Freestyle Relay</td><td>2023-10-27 14:34</td></tr><tr><td>China</td><td>Swimming</td><td>People's Republic of China</td><td>Women's 4 x 100m Medley Relay</td><td>2023-10-27 14:34</td></tr><tr><td>China</td><td>Swimming</td><td>People's Republic of China</td><td>Women's 4 x 200m Freestyle Relay</td><td>2023-10-27 14:34</td></tr><tr><td>Czech Republic</td><td>Swimming</td><td>Czech Republic</td><td>Women's 4 x 100m Freestyle Relay</td><td>2023-10-27 14:34</td></tr><tr><td>Denmark</td><td>Swimming</td><td>Denmark</td><td>Women's 4 x 100m Freestyle Relay</td><td>2023-10-27 14:34</td></tr><tr><td>Denmark</td><td>Swimming</td><td>Denmark</td><td>Women's 4 x 100m Medley Relay</td><td>2023-10-27 14:34</td></tr><tr><td>France</td><td>Swimming</td><td>France</td><td>Men's 4 x 100m Freestyle Relay</td><td>2023-10-27 14:34</td></tr><tr><td>France</td><td>Swimming</td><td>France</td><td>Men's 4 x 100m Medley Relay</td><td>2023-10-27 14:34</td></tr><tr><td>France</td><td>Swimming</td><td>France</td><td>Men's 4 x 200m Freestyle Relay</td><td>2023-10-27 14:34</td></tr><tr><td>France</td><td>Swimming</td><td>France</td><td>Women's 4 x 100m Freestyle Relay</td><td>2023-10-27 14:34</td></tr><tr><td>France</td><td>Swimming</td><td>France</td><td>Women's 4 x 200m Freestyle Relay</td><td>2023-10-27 14:34</td></tr><tr><td>Germany</td><td>Swimming</td><td>Germany</td><td>Men's 4 x 100m Freestyle Relay</td><td>2023-10-27 14:34</td></tr><tr><td>Germany</td><td>Swimming</td><td>Germany</td><td>Men's 4 x 100m Medley Relay</td><td>2023-10-27 14:34</td></tr><tr><td>Germany</td><td>Swimming</td><td>Germany</td><td>Men's 4 x 200m Freestyle Relay</td><td>2023-10-27 14:34</td></tr><tr><td>Germany</td><td>Swimming</td><td>Germany</td><td>Mixed 4 x 100m Medley Relay</td><td>2023-10-27 14:34</td></tr><tr><td>Germany</td><td>Swimming</td><td>Germany</td><td>Women's 4 x 100m Freestyle Relay</td><td>2023-10-27 14:34</td></tr><tr><td>Germany</td><td>Swimming</td><td>Germany</td><td>Women's 4 x 100m Medley Relay</td><td>2023-10-27 14:34</td></tr><tr><td>Germany</td><td>Swimming</td><td>Germany</td><td>Women's 4 x 200m Freestyle Relay</td><td>2023-10-27 14:34</td></tr><tr><td>Great Britain</td><td>Swimming</td><td>Great Britain</td><td>Men's 4 x 100m Freestyle Relay</td><td>2023-10-27 14:34</td></tr><tr><td>Great Britain</td><td>Swimming</td><td>Great Britain</td><td>Men's 4 x 100m Medley Relay</td><td>2023-10-27 14:34</td></tr><tr><td>Great Britain</td><td>Swimming</td><td>Great Britain</td><td>Men's 4 x 200m Freestyle Relay</td><td>2023-10-27 14:34</td></tr><tr><td>Great Britain</td><td>Swimming</td><td>Great Britain</td><td>Mixed 4 x 100m Medley Relay</td><td>2023-10-27 14:34</td></tr><tr><td>Great Britain</td><td>Swimming</td><td>Great Britain</td><td>Women's 4 x 100m Freestyle Relay</td><td>2023-10-27 14:34</td></tr><tr><td>Great Britain</td><td>Swimming</td><td>Great Britain</td><td>Women's 4 x 100m Medley Relay</td><td>2023-10-27 14:34</td></tr><tr><td>Greece</td><td>Swimming</td><td>Greece</td><td>Men's 4 x 100m Freestyle Relay</td><td>2023-10-27 14:34</td></tr><tr><td>Greece</td><td>Swimming</td><td>Greece</td><td>Men's 4 x 100m Medley Relay</td><td>2023-10-27 14:34</td></tr><tr><td>Greece</td><td>Swimming</td><td>Greece</td><td>Mixed 4 x 100m Medley Relay</td><td>2023-10-27 14:34</td></tr><tr><td>Hong Kong, China</td><td>Swimming</td><td>Hong Kong, China</td><td>Women's 4 x 100m Freestyle Relay</td><td>2023-10-27 14:34</td></tr><tr><td>Hong Kong, China</td><td>Swimming</td><td>Hong Kong, China</td><td>Women's 4 x 100m Medley Relay</td><td>2023-10-27 14:34</td></tr><tr><td>Hong Kong, China</td><td>Swimming</td><td>Hong Kong, China</td><td>Women's 4 x 200m Freestyle Relay</td><td>2023-10-27 14:34</td></tr><tr><td>Hungary</td><td>Swimming</td><td>Hungary</td><td>Men's 4 x 100m Freestyle Relay</td><td>2023-10-27 14:34</td></tr><tr><td>Hungary</td><td>Swimming</td><td>Hungary</td><td>Men's 4 x 100m Medley Relay</td><td>2023-10-27 14:34</td></tr><tr><td>Hungary</td><td>Swimming</td><td>Hungary</td><td>Men's 4 x 200m Freestyle Relay</td><td>2023-10-27 14:34</td></tr><tr><td>Hungary</td><td>Swimming</td><td>Hungary</td><td>Mixed 4 x 100m Medley Relay</td><td>2023-10-27 14:34</td></tr><tr><td>Hungary</td><td>Swimming</td><td>Hungary</td><td>Women's 4 x 200m Freestyle Relay</td><td>2023-10-27 14:34</td></tr><tr><td>Ireland</td><td>Swimming</td><td>Ireland</td><td>Men's 4 x 200m Freestyle Relay</td><td>2023-10-27 14:34</td></tr><tr><td>Israel</td><td>Swimming</td><td>Israel</td><td>Men's 4 x 200m Freestyle Relay</td><td>2023-10-27 14:34</td></tr><tr><td>Israel</td><td>Swimming</td><td>Israel</td><td>Mixed 4 x 100m Medley Relay</td><td>2023-10-27 14:34</td></tr><tr><td>Italy</td><td>Swimming</td><td>Italy</td><td>Men's 4 x 100m Freestyle Relay</td><td>2023-10-27 14:34</td></tr><tr><td>Italy</td><td>Swimming</td><td>Italy</td><td>Men's 4 x 100m Medley Relay</td><td>2023-10-27 14:34</td></tr><tr><td>Italy</td><td>Swimming</td><td>Italy</td><td>Men's 4 x 200m Freestyle Relay</td><td>2023-10-27 14:34</td></tr><tr><td>Italy</td><td>Swimming</td><td>Italy</td><td>Mixed 4 x 100m Medley Relay</td><td>2023-10-27 14:34</td></tr><tr><td>Italy</td><td>Swimming</td><td>Italy</td><td>Women's 4 x 100m Medley Relay</td><td>2023-10-27 14:34</td></tr><tr><td>Italy</td><td>Swimming</td><td>Italy</td><td>Women's 4 x 200m Freestyle Relay</td><td>2023-10-27 14:34</td></tr><tr><td>Japan</td><td>Swimming</td><td>Japan</td><td>Men's 4 x 100m Freestyle Relay</td><td>2023-10-27 14:34</td></tr><tr><td>Japan</td><td>Swimming</td><td>Japan</td><td>Men's 4 x 100m Medley Relay</td><td>2023-10-27 14:34</td></tr><tr><td>Japan</td><td>Swimming</td><td>Japan</td><td>Men's 4 x 200m Freestyle Relay</td><td>2023-10-27 14:34</td></tr><tr><td>Japan</td><td>Swimming</td><td>Japan</td><td>Mixed 4 x 100m Medley Relay</td><td>2023-10-27 14:34</td></tr><tr><td>Japan</td><td>Swimming</td><td>Japan</td><td>Women's 4 x 100m Freestyle Relay</td><td>2023-10-27 14:34</td></tr><tr><td>Japan</td><td>Swimming</td><td>Japan</td><td>Women's 4 x 100m Medley Relay</td><td>2023-10-27 14:34</td></tr><tr><td>Japan</td><td>Swimming</td><td>Japan</td><td>Women's 4 x 200m Freestyle Relay</td><td>2023-10-27 14:34</td></tr><tr><td>Lithuania</td><td>Swimming</td><td>Lithuania</td><td>Men's 4 x 100m Medley Relay</td><td>2023-10-27 14:34</td></tr><tr><td>Netherlands</td><td>Swimming</td><td>Netherlands</td><td>Men's 4 x 100m Freestyle Relay</td><td>2023-10-27 14:34</td></tr><tr><td>Netherlands</td><td>Swimming</td><td>Netherlands</td><td>Mixed 4 x 100m Medley Relay</td><td>2023-10-27 14:34</td></tr><tr><td>Netherlands</td><td>Swimming</td><td>Netherlands</td><td>Women's 4 x 100m Freestyle Relay</td><td>2023-10-27 14:34</td></tr><tr><td>Netherlands</td><td>Swimming</td><td>Netherlands</td><td>Women's 4 x 100m Medley Relay</td><td>2023-10-27 14:34</td></tr><tr><td>New Zealand</td><td>Swimming</td><td>New Zealand</td><td>Women's 4 x 200m Freestyle Relay</td><td>2023-10-27 14:34</td></tr><tr><td>Poland</td><td>Swimming</td><td>Poland</td><td>Men's 4 x 100m Freestyle Relay</td><td>2023-10-27 14:34</td></tr><tr><td>Poland</td><td>Swimming</td><td>Poland</td><td>Men's 4 x 100m Medley Relay</td><td>2023-10-27 14:34</td></tr><tr><td>Poland</td><td>Swimming</td><td>Poland</td><td>Men's 4 x 200m Freestyle Relay</td><td>2023-10-27 14:34</td></tr><tr><td>Poland</td><td>Swimming</td><td>Poland</td><td>Mixed 4 x 100m Medley Relay</td><td>2023-10-27 14:34</td></tr><tr><td>Poland</td><td>Swimming</td><td>Poland</td><td>Women's 4 x 100m Freestyle Relay</td><td>2023-10-27 14:34</td></tr><tr><td>Poland</td><td>Swimming</td><td>Poland</td><td>Women's 4 x 200m Freestyle Relay</td><td>2023-10-27 14:34</td></tr><tr><td>Republic of Korea</td><td>Swimming</td><td>Republic of Korea</td><td>Men's 4 x 200m Freestyle Relay</td><td>2023-10-27 14:34</td></tr><tr><td>Republic of Korea</td><td>Swimming</td><td>Republic of Korea</td><td>Women's 4 x 200m Freestyle Relay</td><td>2023-10-27 14:34</td></tr><tr><td>ROC</td><td>Swimming</td><td>ROC</td><td>Men's 4 x 100m Freestyle Relay</td><td>2023-10-27 14:34</td></tr><tr><td>ROC</td><td>Swimming</td><td>ROC</td><td>Men's 4 x 100m Medley Relay</td><td>2023-10-27 14:34</td></tr><tr><td>ROC</td><td>Swimming</td><td>ROC</td><td>Men's 4 x 200m Freestyle Relay</td><td>2023-10-27 14:34</td></tr><tr><td>ROC</td><td>Swimming</td><td>ROC</td><td>Mixed 4 x 100m Medley Relay</td><td>2023-10-27 14:34</td></tr><tr><td>ROC</td><td>Swimming</td><td>ROC</td><td>Women's 4 x 100m Freestyle Relay</td><td>2023-10-27 14:34</td></tr><tr><td>ROC</td><td>Swimming</td><td>ROC</td><td>Women's 4 x 100m Medley Relay</td><td>2023-10-27 14:34</td></tr><tr><td>ROC</td><td>Swimming</td><td>ROC</td><td>Women's 4 x 200m Freestyle Relay</td><td>2023-10-27 14:34</td></tr><tr><td>Serbia</td><td>Swimming</td><td>Serbia</td><td>Men's 4 x 100m Freestyle Relay</td><td>2023-10-27 14:34</td></tr><tr><td>South Africa</td><td>Swimming</td><td>South Africa</td><td>Women's 4 x 100m Medley Relay</td><td>2023-10-27 14:34</td></tr><tr><td>South Africa</td><td>Swimming</td><td>South Africa</td><td>Women's 4 x 200m Freestyle Relay</td><td>2023-10-27 14:34</td></tr><tr><td>Spain</td><td>Swimming</td><td>Spain</td><td>Women's 4 x 100m Medley Relay</td><td>2023-10-27 14:34</td></tr><tr><td>Sweden</td><td>Swimming</td><td>Sweden</td><td>Women's 4 x 100m Freestyle Relay</td><td>2023-10-27 14:34</td></tr><tr><td>Sweden</td><td>Swimming</td><td>Sweden</td><td>Women's 4 x 100m Medley Relay</td><td>2023-10-27 14:34</td></tr><tr><td>Switzerland</td><td>Swimming</td><td>Switzerland</td><td>Men's 4 x 100m Freestyle Relay</td><td>2023-10-27 14:34</td></tr><tr><td>Switzerland</td><td>Swimming</td><td>Switzerland</td><td>Men's 4 x 200m Freestyle Relay</td><td>2023-10-27 14:34</td></tr><tr><td>Turkey</td><td>Swimming</td><td>Turkey</td><td>Women's 4 x 200m Freestyle Relay</td><td>2023-10-27 14:34</td></tr><tr><td>United States</td><td>Swimming</td><td>United States of America</td><td>Men's 4 x 100m Freestyle Relay</td><td>2023-10-27 14:34</td></tr><tr><td>United States</td><td>Swimming</td><td>United States of America</td><td>Men's 4 x 100m Medley Relay</td><td>2023-10-27 14:34</td></tr><tr><td>United States</td><td>Swimming</td><td>United States of America</td><td>Men's 4 x 200m Freestyle Relay</td><td>2023-10-27 14:34</td></tr><tr><td>United States</td><td>Swimming</td><td>United States of America</td><td>Mixed 4 x 100m Medley Relay</td><td>2023-10-27 14:34</td></tr><tr><td>United States</td><td>Swimming</td><td>United States of America</td><td>Women's 4 x 100m Freestyle Relay</td><td>2023-10-27 14:34</td></tr><tr><td>United States</td><td>Swimming</td><td>United States of America</td><td>Women's 4 x 100m Medley Relay</td><td>2023-10-27 14:34</td></tr><tr><td>United States</td><td>Swimming</td><td>United States of America</td><td>Women's 4 x 200m Freestyle Relay</td><td>2023-10-27 14:34</td></tr><tr><td>Australia</td><td>Table Tennis</td><td>Australia</td><td>Men's Team</td><td>2023-10-27 14:34</td></tr><tr><td>HU Heming / TAPPER Melissa</td><td>Table Tennis</td><td>Australia</td><td>Mixed Doubles</td><td>2023-10-27 14:34</td></tr><tr><td>Australia</td><td>Table Tennis</td><td>Australia</td><td>Women's Team</td><td>2023-10-27 14:34</td></tr><tr><td>FEGERL Stefan / POLCANOVA Sofia</td><td>Table Tennis</td><td>Austria</td><td>Mixed Doubles</td><td>2023-10-27 14:34</td></tr><tr><td>Austria</td><td>Table Tennis</td><td>Austria</td><td>Women's Team</td><td>2023-10-27 14:34</td></tr><tr><td>Brazil</td><td>Table Tennis</td><td>Brazil</td><td>Men's Team</td><td>2023-10-27 14:34</td></tr><tr><td>Brazil</td><td>Table Tennis</td><td>Brazil</td><td>Women's Team</td><td>2023-10-27 14:34</td></tr><tr><td>WANG Zhen / ZHANG Mo</td><td>Table Tennis</td><td>Canada</td><td>Mixed Doubles</td><td>2023-10-27 14:34</td></tr><tr><td>China</td><td>Table Tennis</td><td>People's Republic of China</td><td>Men's Team</td><td>2023-10-27 14:34</td></tr><tr><td>XU Xin / LIU Shiwen</td><td>Table Tennis</td><td>People's Republic of China</td><td>Mixed Doubles</td><td>2023-10-27 14:34</td></tr><tr><td>China</td><td>Table Tennis</td><td>People's Republic of China</td><td>Women's Team</td><td>2023-10-27 14:34</td></tr><tr><td>Chinese Taipei</td><td>Table Tennis</td><td>Chinese Taipei</td><td>Men's Team</td><td>2023-10-27 14:34</td></tr><tr><td>LIN Yun Ju / CHENG I Ching</td><td>Table Tennis</td><td>Chinese Taipei</td><td>Mixed Doubles</td><td>2023-10-27 14:34</td></tr><tr><td>Chinese Taipei</td><td>Table Tennis</td><td>Chinese Taipei</td><td>Women's Team</td><td>2023-10-27 14:34</td></tr><tr><td>Croatia</td><td>Table Tennis</td><td>Croatia</td><td>Men's Team</td><td>2023-10-27 14:34</td></tr><tr><td>CAMPOS Jorge / FONSECA Daniela</td><td>Table Tennis</td><td>Cuba</td><td>Mixed Doubles</td><td>2023-10-27 14:34</td></tr><tr><td>Egypt</td><td>Table Tennis</td><td>Egypt</td><td>Men's Team</td><td>2023-10-27 14:34</td></tr><tr><td>ASSAR Omar / MESHREF Dina</td><td>Table Tennis</td><td>Egypt</td><td>Mixed Doubles</td><td>2023-10-27 14:34</td></tr><tr><td>Egypt</td><td>Table Tennis</td><td>Egypt</td><td>Women's Team</td><td>2023-10-27 14:34</td></tr><tr><td>France</td><td>Table Tennis</td><td>France</td><td>Men's Team</td><td>2023-10-27 14:34</td></tr><tr><td>LEBESSON Emmanuel / YUAN Jia Nan</td><td>Table Tennis</td><td>France</td><td>Mixed Doubles</td><td>2023-10-27 14:34</td></tr><tr><td>France</td><td>Table Tennis</td><td>France</td><td>Women's Team</td><td>2023-10-27 14:34</td></tr><tr><td>Germany</td><td>Table Tennis</td><td>Germany</td><td>Men's Team</td><td>2023-10-27 14:34</td></tr><tr><td>FRANZISKA Patrick / SOLJA Petrissa</td><td>Table Tennis</td><td>Germany</td><td>Mixed Doubles</td><td>2023-10-27 14:34</td></tr><tr><td>Germany</td><td>Table Tennis</td><td>Germany</td><td>Women's Team</td><td>2023-10-27 14:34</td></tr><tr><td>Hong Kong, China</td><td>Table Tennis</td><td>Hong Kong, China</td><td>Men's Team</td><td>2023-10-27 14:34</td></tr><tr><td>WONG Chun Ting / DOO Hoi Kem</td><td>Table Tennis</td><td>Hong Kong, China</td><td>Mixed Doubles</td><td>2023-10-27 14:34</td></tr><tr><td>Hong Kong, China</td><td>Table Tennis</td><td>Hong Kong, China</td><td>Women's Team</td><td>2023-10-27 14:34</td></tr><tr><td>SZUDI Adam / PERGEL Szandra</td><td>Table Tennis</td><td>Hungary</td><td>Mixed Doubles</td><td>2023-10-27 14:34</td></tr><tr><td>Hungary</td><td>Table Tennis</td><td>Hungary</td><td>Women's Team</td><td>2023-10-27 14:34</td></tr><tr><td>ACHANTA Kamal / BATRA Manika</td><td>Table Tennis</td><td>India</td><td>Mixed Doubles</td><td>2023-10-27 14:34</td></tr><tr><td>Japan</td><td>Table Tennis</td><td>Japan</td><td>Men's Team</td><td>2023-10-27 14:34</td></tr><tr><td>MIZUTANI Jun / ITO Mima</td><td>Table Tennis</td><td>Japan</td><td>Mixed Doubles</td><td>2023-10-27 14:34</td></tr><tr><td>Japan</td><td>Table Tennis</td><td>Japan</td><td>Women's Team</td><td>2023-10-27 14:34</td></tr><tr><td>Poland</td><td>Table Tennis</td><td>Poland</td><td>Women's Team</td><td>2023-10-27 14:34</td></tr><tr><td>Portugal</td><td>Table Tennis</td><td>Portugal</td><td>Men's Team</td><td>2023-10-27 14:34</td></tr><tr><td>Republic of Korea</td><td>Table Tennis</td><td>Republic of Korea</td><td>Men's Team</td><td>2023-10-27 14:34</td></tr><tr><td>LEE Sangsu / JEON Jihee</td><td>Table Tennis</td><td>Republic of Korea</td><td>Mixed Doubles</td><td>2023-10-27 14:34</td></tr><tr><td>Republic of Korea</td><td>Table Tennis</td><td>Republic of Korea</td><td>Women's Team</td><td>2023-10-27 14:34</td></tr><tr><td>IONESCU Ovidiu / SZOCS Bernadette</td><td>Table Tennis</td><td>Romania</td><td>Mixed Doubles</td><td>2023-10-27 14:34</td></tr><tr><td>Romania</td><td>Table Tennis</td><td>Romania</td><td>Women's Team</td><td>2023-10-27 14:34</td></tr><tr><td>Serbia</td><td>Table Tennis</td><td>Serbia</td><td>Men's Team</td><td>2023-10-27 14:34</td></tr><tr><td>Singapore</td><td>Table Tennis</td><td>Singapore</td><td>Women's Team</td><td>2023-10-27 14:34</td></tr><tr><td>PISTEJ Lubomir / BALAZOVA Barbora</td><td>Table Tennis</td><td>Slovakia</td><td>Mixed Doubles</td><td>2023-10-27 14:34</td></tr><tr><td>Slovenia</td><td>Table Tennis</td><td>Slovenia</td><td>Men's Team</td><td>2023-10-27 14:34</td></tr><tr><td>Sweden</td><td>Table Tennis</td><td>Sweden</td><td>Men's Team</td><td>2023-10-27 14:34</td></tr><tr><td>United States</td><td>Table Tennis</td><td>United States of America</td><td>Men's Team</td><td>2023-10-27 14:34</td></tr><tr><td>United States</td><td>Table Tennis</td><td>United States of America</td><td>Women's Team</td><td>2023-10-27 14:34</td></tr><tr><td>Australia</td><td>Triathlon</td><td>Australia</td><td>Mixed Relay</td><td>2023-10-27 14:34</td></tr><tr><td>Austria</td><td>Triathlon</td><td>Austria</td><td>Mixed Relay</td><td>2023-10-27 14:34</td></tr><tr><td>Belgium</td><td>Triathlon</td><td>Belgium</td><td>Mixed Relay</td><td>2023-10-27 14:34</td></tr><tr><td>Canada</td><td>Triathlon</td><td>Canada</td><td>Mixed Relay</td><td>2023-10-27 14:34</td></tr><tr><td>France</td><td>Triathlon</td><td>France</td><td>Mixed Relay</td><td>2023-10-27 14:34</td></tr><tr><td>Germany</td><td>Triathlon</td><td>Germany</td><td>Mixed Relay</td><td>2023-10-27 14:34</td></tr><tr><td>Great Britain</td><td>Triathlon</td><td>Great Britain</td><td>Mixed Relay</td><td>2023-10-27 14:34</td></tr><tr><td>Hungary</td><td>Triathlon</td><td>Hungary</td><td>Mixed Relay</td><td>2023-10-27 14:34</td></tr><tr><td>Italy</td><td>Triathlon</td><td>Italy</td><td>Mixed Relay</td><td>2023-10-27 14:34</td></tr><tr><td>Japan</td><td>Triathlon</td><td>Japan</td><td>Mixed Relay</td><td>2023-10-27 14:34</td></tr><tr><td>Mexico</td><td>Triathlon</td><td>Mexico</td><td>Mixed Relay</td><td>2023-10-27 14:34</td></tr><tr><td>Netherlands</td><td>Triathlon</td><td>Netherlands</td><td>Mixed Relay</td><td>2023-10-27 14:34</td></tr><tr><td>New Zealand</td><td>Triathlon</td><td>New Zealand</td><td>Mixed Relay</td><td>2023-10-27 14:34</td></tr><tr><td>ROC</td><td>Triathlon</td><td>ROC</td><td>Mixed Relay</td><td>2023-10-27 14:34</td></tr><tr><td>South Africa</td><td>Triathlon</td><td>South Africa</td><td>Mixed Relay</td><td>2023-10-27 14:34</td></tr><tr><td>Spain</td><td>Triathlon</td><td>Spain</td><td>Mixed Relay</td><td>2023-10-27 14:34</td></tr><tr><td>Switzerland</td><td>Triathlon</td><td>Switzerland</td><td>Mixed Relay</td><td>2023-10-27 14:34</td></tr><tr><td>United States</td><td>Triathlon</td><td>United States of America</td><td>Mixed Relay</td><td>2023-10-27 14:34</td></tr><tr><td>Argentina</td><td>Volleyball</td><td>Argentina</td><td>Men</td><td>2023-10-27 14:34</td></tr><tr><td>Argentina</td><td>Volleyball</td><td>Argentina</td><td>Women</td><td>2023-10-27 14:34</td></tr><tr><td>Brazil</td><td>Volleyball</td><td>Brazil</td><td>Men</td><td>2023-10-27 14:34</td></tr><tr><td>Brazil</td><td>Volleyball</td><td>Brazil</td><td>Women</td><td>2023-10-27 14:34</td></tr><tr><td>Canada</td><td>Volleyball</td><td>Canada</td><td>Men</td><td>2023-10-27 14:34</td></tr><tr><td>China</td><td>Volleyball</td><td>People's Republic of China</td><td>Women</td><td>2023-10-27 14:34</td></tr><tr><td>Dominican Rep.</td><td>Volleyball</td><td>Dominican Republic</td><td>Women</td><td>2023-10-27 14:34</td></tr><tr><td>France</td><td>Volleyball</td><td>France</td><td>Men</td><td>2023-10-27 14:34</td></tr><tr><td>Islamic Rep. of Iran</td><td>Volleyball</td><td>Islamic Republic of Iran</td><td>Men</td><td>2023-10-27 14:34</td></tr><tr><td>Italy</td><td>Volleyball</td><td>Italy</td><td>Men</td><td>2023-10-27 14:34</td></tr><tr><td>Italy</td><td>Volleyball</td><td>Italy</td><td>Women</td><td>2023-10-27 14:34</td></tr><tr><td>Japan</td><td>Volleyball</td><td>Japan</td><td>Men</td><td>2023-10-27 14:34</td></tr><tr><td>Japan</td><td>Volleyball</td><td>Japan</td><td>Women</td><td>2023-10-27 14:34</td></tr><tr><td>Kenya</td><td>Volleyball</td><td>Kenya</td><td>Women</td><td>2023-10-27 14:34</td></tr><tr><td>Poland</td><td>Volleyball</td><td>Poland</td><td>Men</td><td>2023-10-27 14:34</td></tr><tr><td>Republic of Korea</td><td>Volleyball</td><td>Republic of Korea</td><td>Women</td><td>2023-10-27 14:34</td></tr><tr><td>ROC</td><td>Volleyball</td><td>ROC</td><td>Men</td><td>2023-10-27 14:34</td></tr><tr><td>ROC</td><td>Volleyball</td><td>ROC</td><td>Women</td><td>2023-10-27 14:34</td></tr><tr><td>Serbia</td><td>Volleyball</td><td>Serbia</td><td>Women</td><td>2023-10-27 14:34</td></tr><tr><td>Tunisia</td><td>Volleyball</td><td>Tunisia</td><td>Men</td><td>2023-10-27 14:34</td></tr><tr><td>Turkey</td><td>Volleyball</td><td>Turkey</td><td>Women</td><td>2023-10-27 14:34</td></tr><tr><td>United States</td><td>Volleyball</td><td>United States of America</td><td>Men</td><td>2023-10-27 14:34</td></tr><tr><td>United States</td><td>Volleyball</td><td>United States of America</td><td>Women</td><td>2023-10-27 14:34</td></tr><tr><td>Venezuela</td><td>Volleyball</td><td>Venezuela</td><td>Men</td><td>2023-10-27 14:34</td></tr><tr><td>Australia</td><td>Water Polo</td><td>Australia</td><td>Men</td><td>2023-10-27 14:34</td></tr><tr><td>Australia</td><td>Water Polo</td><td>Australia</td><td>Women</td><td>2023-10-27 14:34</td></tr><tr><td>Canada</td><td>Water Polo</td><td>Canada</td><td>Women</td><td>2023-10-27 14:34</td></tr><tr><td>China</td><td>Water Polo</td><td>People's Republic of China</td><td>Women</td><td>2023-10-27 14:34</td></tr><tr><td>Croatia</td><td>Water Polo</td><td>Croatia</td><td>Men</td><td>2023-10-27 14:34</td></tr><tr><td>Greece</td><td>Water Polo</td><td>Greece</td><td>Men</td><td>2023-10-27 14:34</td></tr><tr><td>Hungary</td><td>Water Polo</td><td>Hungary</td><td>Men</td><td>2023-10-27 14:34</td></tr><tr><td>Hungary</td><td>Water Polo</td><td>Hungary</td><td>Women</td><td>2023-10-27 14:34</td></tr><tr><td>Italy</td><td>Water Polo</td><td>Italy</td><td>Men</td><td>2023-10-27 14:34</td></tr><tr><td>Japan</td><td>Water Polo</td><td>Japan</td><td>Men</td><td>2023-10-27 14:34</td></tr><tr><td>Japan</td><td>Water Polo</td><td>Japan</td><td>Women</td><td>2023-10-27 14:34</td></tr><tr><td>Kazakhstan</td><td>Water Polo</td><td>Kazakhstan</td><td>Men</td><td>2023-10-27 14:34</td></tr><tr><td>Montenegro</td><td>Water Polo</td><td>Montenegro</td><td>Men</td><td>2023-10-27 14:34</td></tr><tr><td>Netherlands</td><td>Water Polo</td><td>Netherlands</td><td>Women</td><td>2023-10-27 14:34</td></tr><tr><td>ROC</td><td>Water Polo</td><td>ROC</td><td>Women</td><td>2023-10-27 14:34</td></tr><tr><td>Serbia</td><td>Water Polo</td><td>Serbia</td><td>Men</td><td>2023-10-27 14:34</td></tr><tr><td>South Africa</td><td>Water Polo</td><td>South Africa</td><td>Men</td><td>2023-10-27 14:34</td></tr><tr><td>South Africa</td><td>Water Polo</td><td>South Africa</td><td>Women</td><td>2023-10-27 14:34</td></tr><tr><td>Spain</td><td>Water Polo</td><td>Spain</td><td>Men</td><td>2023-10-27 14:34</td></tr><tr><td>Spain</td><td>Water Polo</td><td>Spain</td><td>Women</td><td>2023-10-27 14:34</td></tr><tr><td>United States</td><td>Water Polo</td><td>United States of America</td><td>Men</td><td>2023-10-27 14:34</td></tr><tr><td>United States</td><td>Water Polo</td><td>United States of America</td><td>Women</td><td>2023-10-27 14:34</td></tr></tbody></table></div>"
      ]
     },
     "metadata": {
      "application/vnd.databricks.v1+output": {
       "addedWidgets": {},
       "aggData": [],
       "aggError": "",
       "aggOverflow": false,
       "aggSchema": [],
       "aggSeriesLimitReached": false,
       "aggType": "",
       "arguments": {},
       "columnCustomDisplayInfos": {},
       "data": [
        [
         "Belgium",
         "3x3 Basketball",
         "Belgium",
         "Men",
         "2023-10-27 14:34"
        ],
        [
         "China",
         "3x3 Basketball",
         "People's Republic of China",
         "Men",
         "2023-10-27 14:34"
        ],
        [
         "China",
         "3x3 Basketball",
         "People's Republic of China",
         "Women",
         "2023-10-27 14:34"
        ],
        [
         "France",
         "3x3 Basketball",
         "France",
         "Women",
         "2023-10-27 14:34"
        ],
        [
         "Italy",
         "3x3 Basketball",
         "Italy",
         "Women",
         "2023-10-27 14:34"
        ],
        [
         "Japan",
         "3x3 Basketball",
         "Japan",
         "Men",
         "2023-10-27 14:34"
        ],
        [
         "Japan",
         "3x3 Basketball",
         "Japan",
         "Women",
         "2023-10-27 14:34"
        ],
        [
         "Latvia",
         "3x3 Basketball",
         "Latvia",
         "Men",
         "2023-10-27 14:34"
        ],
        [
         "Mongolia",
         "3x3 Basketball",
         "Mongolia",
         "Women",
         "2023-10-27 14:34"
        ],
        [
         "Netherlands",
         "3x3 Basketball",
         "Netherlands",
         "Men",
         "2023-10-27 14:34"
        ],
        [
         "Poland",
         "3x3 Basketball",
         "Poland",
         "Men",
         "2023-10-27 14:34"
        ],
        [
         "ROC",
         "3x3 Basketball",
         "ROC",
         "Men",
         "2023-10-27 14:34"
        ],
        [
         "ROC",
         "3x3 Basketball",
         "ROC",
         "Women",
         "2023-10-27 14:34"
        ],
        [
         "Romania",
         "3x3 Basketball",
         "Romania",
         "Women",
         "2023-10-27 14:34"
        ],
        [
         "Serbia",
         "3x3 Basketball",
         "Serbia",
         "Men",
         "2023-10-27 14:34"
        ],
        [
         "United States",
         "3x3 Basketball",
         "United States of America",
         "Women",
         "2023-10-27 14:34"
        ],
        [
         "Australia",
         "Archery",
         "Australia",
         "Men's Team",
         "2023-10-27 14:34"
        ],
        [
         "Australia",
         "Archery",
         "Australia",
         "Mixed Team",
         "2023-10-27 14:34"
        ],
        [
         "Bangladesh",
         "Archery",
         "Bangladesh",
         "Mixed Team",
         "2023-10-27 14:34"
        ],
        [
         "Belarus",
         "Archery",
         "Belarus",
         "Women's Team",
         "2023-10-27 14:34"
        ],
        [
         "Brazil",
         "Archery",
         "Brazil",
         "Mixed Team",
         "2023-10-27 14:34"
        ],
        [
         "Canada",
         "Archery",
         "Canada",
         "Mixed Team",
         "2023-10-27 14:34"
        ],
        [
         "China",
         "Archery",
         "People's Republic of China",
         "Men's Team",
         "2023-10-27 14:34"
        ],
        [
         "China",
         "Archery",
         "People's Republic of China",
         "Mixed Team",
         "2023-10-27 14:34"
        ],
        [
         "China",
         "Archery",
         "People's Republic of China",
         "Women's Team",
         "2023-10-27 14:34"
        ],
        [
         "Chinese Taipei",
         "Archery",
         "Chinese Taipei",
         "Men's Team",
         "2023-10-27 14:34"
        ],
        [
         "Chinese Taipei",
         "Archery",
         "Chinese Taipei",
         "Mixed Team",
         "2023-10-27 14:34"
        ],
        [
         "Chinese Taipei",
         "Archery",
         "Chinese Taipei",
         "Women's Team",
         "2023-10-27 14:34"
        ],
        [
         "Colombia",
         "Archery",
         "Colombia",
         "Mixed Team",
         "2023-10-27 14:34"
        ],
        [
         "Egypt",
         "Archery",
         "Egypt",
         "Mixed Team",
         "2023-10-27 14:34"
        ],
        [
         "France",
         "Archery",
         "France",
         "Men's Team",
         "2023-10-27 14:34"
        ],
        [
         "France",
         "Archery",
         "France",
         "Mixed Team",
         "2023-10-27 14:34"
        ],
        [
         "Germany",
         "Archery",
         "Germany",
         "Mixed Team",
         "2023-10-27 14:34"
        ],
        [
         "Germany",
         "Archery",
         "Germany",
         "Women's Team",
         "2023-10-27 14:34"
        ],
        [
         "Great Britain",
         "Archery",
         "Great Britain",
         "Men's Team",
         "2023-10-27 14:34"
        ],
        [
         "Great Britain",
         "Archery",
         "Great Britain",
         "Mixed Team",
         "2023-10-27 14:34"
        ],
        [
         "Great Britain",
         "Archery",
         "Great Britain",
         "Women's Team",
         "2023-10-27 14:34"
        ],
        [
         "India",
         "Archery",
         "India",
         "Men's Team",
         "2023-10-27 14:34"
        ],
        [
         "India",
         "Archery",
         "India",
         "Mixed Team",
         "2023-10-27 14:34"
        ],
        [
         "Indonesia",
         "Archery",
         "Indonesia",
         "Men's Team",
         "2023-10-27 14:34"
        ],
        [
         "Indonesia",
         "Archery",
         "Indonesia",
         "Mixed Team",
         "2023-10-27 14:34"
        ],
        [
         "Italy",
         "Archery",
         "Italy",
         "Mixed Team",
         "2023-10-27 14:34"
        ],
        [
         "Italy",
         "Archery",
         "Italy",
         "Women's Team",
         "2023-10-27 14:34"
        ],
        [
         "Japan",
         "Archery",
         "Japan",
         "Men's Team",
         "2023-10-27 14:34"
        ],
        [
         "Japan",
         "Archery",
         "Japan",
         "Mixed Team",
         "2023-10-27 14:34"
        ],
        [
         "Japan",
         "Archery",
         "Japan",
         "Women's Team",
         "2023-10-27 14:34"
        ],
        [
         "Kazakhstan",
         "Archery",
         "Kazakhstan",
         "Men's Team",
         "2023-10-27 14:34"
        ],
        [
         "Malaysia",
         "Archery",
         "Malaysia",
         "Mixed Team",
         "2023-10-27 14:34"
        ],
        [
         "Mexico",
         "Archery",
         "Mexico",
         "Mixed Team",
         "2023-10-27 14:34"
        ],
        [
         "Mexico",
         "Archery",
         "Mexico",
         "Women's Team",
         "2023-10-27 14:34"
        ],
        [
         "Mongolia",
         "Archery",
         "Mongolia",
         "Mixed Team",
         "2023-10-27 14:34"
        ],
        [
         "Netherlands",
         "Archery",
         "Netherlands",
         "Men's Team",
         "2023-10-27 14:34"
        ],
        [
         "Netherlands",
         "Archery",
         "Netherlands",
         "Mixed Team",
         "2023-10-27 14:34"
        ],
        [
         "Poland",
         "Archery",
         "Poland",
         "Mixed Team",
         "2023-10-27 14:34"
        ],
        [
         "Rep. of Moldova",
         "Archery",
         "Republic of Moldova",
         "Mixed Team",
         "2023-10-27 14:34"
        ],
        [
         "Republic of Korea",
         "Archery",
         "Republic of Korea",
         "Men's Team",
         "2023-10-27 14:34"
        ],
        [
         "Republic of Korea",
         "Archery",
         "Republic of Korea",
         "Mixed Team",
         "2023-10-27 14:34"
        ],
        [
         "Republic of Korea",
         "Archery",
         "Republic of Korea",
         "Women's Team",
         "2023-10-27 14:34"
        ],
        [
         "ROC",
         "Archery",
         "ROC",
         "Mixed Team",
         "2023-10-27 14:34"
        ],
        [
         "ROC",
         "Archery",
         "ROC",
         "Women's Team",
         "2023-10-27 14:34"
        ],
        [
         "Spain",
         "Archery",
         "Spain",
         "Mixed Team",
         "2023-10-27 14:34"
        ],
        [
         "Tunisia",
         "Archery",
         "Tunisia",
         "Mixed Team",
         "2023-10-27 14:34"
        ],
        [
         "Turkey",
         "Archery",
         "Turkey",
         "Mixed Team",
         "2023-10-27 14:34"
        ],
        [
         "Ukraine",
         "Archery",
         "Ukraine",
         "Mixed Team",
         "2023-10-27 14:34"
        ],
        [
         "Ukraine",
         "Archery",
         "Ukraine",
         "Women's Team",
         "2023-10-27 14:34"
        ],
        [
         "United States",
         "Archery",
         "United States of America",
         "Men's Team",
         "2023-10-27 14:34"
        ],
        [
         "United States",
         "Archery",
         "United States of America",
         "Mixed Team",
         "2023-10-27 14:34"
        ],
        [
         "United States",
         "Archery",
         "United States of America",
         "Women's Team",
         "2023-10-27 14:34"
        ],
        [
         "Vietnam",
         "Archery",
         "Vietnam",
         "Mixed Team",
         "2023-10-27 14:34"
        ],
        [
         "Belgium",
         "Artistic Gymnastics",
         "Belgium",
         "Women's Team",
         "2023-10-27 14:34"
        ],
        [
         "Brazil",
         "Artistic Gymnastics",
         "Brazil",
         "Men's Team",
         "2023-10-27 14:34"
        ],
        [
         "Canada",
         "Artistic Gymnastics",
         "Canada",
         "Women's Team",
         "2023-10-27 14:34"
        ],
        [
         "China",
         "Artistic Gymnastics",
         "People's Republic of China",
         "Men's Team",
         "2023-10-27 14:34"
        ],
        [
         "China",
         "Artistic Gymnastics",
         "People's Republic of China",
         "Women's Team",
         "2023-10-27 14:34"
        ],
        [
         "Chinese Taipei",
         "Artistic Gymnastics",
         "Chinese Taipei",
         "Men's Team",
         "2023-10-27 14:34"
        ],
        [
         "France",
         "Artistic Gymnastics",
         "France",
         "Women's Team",
         "2023-10-27 14:34"
        ],
        [
         "Germany",
         "Artistic Gymnastics",
         "Germany",
         "Men's Team",
         "2023-10-27 14:34"
        ],
        [
         "Germany",
         "Artistic Gymnastics",
         "Germany",
         "Women's Team",
         "2023-10-27 14:34"
        ],
        [
         "Great Britain",
         "Artistic Gymnastics",
         "Great Britain",
         "Men's Team",
         "2023-10-27 14:34"
        ],
        [
         "Great Britain",
         "Artistic Gymnastics",
         "Great Britain",
         "Women's Team",
         "2023-10-27 14:34"
        ],
        [
         "Italy",
         "Artistic Gymnastics",
         "Italy",
         "Women's Team",
         "2023-10-27 14:34"
        ],
        [
         "Japan",
         "Artistic Gymnastics",
         "Japan",
         "Men's Team",
         "2023-10-27 14:34"
        ],
        [
         "Japan",
         "Artistic Gymnastics",
         "Japan",
         "Women's Team",
         "2023-10-27 14:34"
        ],
        [
         "Netherlands",
         "Artistic Gymnastics",
         "Netherlands",
         "Women's Team",
         "2023-10-27 14:34"
        ],
        [
         "Korea",
         "Artistic Gymnastics",
         "Republic of Korea",
         "Men's Team",
         "2023-10-27 14:34"
        ],
        [
         "ROC",
         "Artistic Gymnastics",
         "ROC",
         "Men's Team",
         "2023-10-27 14:34"
        ],
        [
         "ROC",
         "Artistic Gymnastics",
         "ROC",
         "Women's Team",
         "2023-10-27 14:34"
        ],
        [
         "Spain",
         "Artistic Gymnastics",
         "Spain",
         "Men's Team",
         "2023-10-27 14:34"
        ],
        [
         "Spain",
         "Artistic Gymnastics",
         "Spain",
         "Women's Team",
         "2023-10-27 14:34"
        ],
        [
         "Switzerland",
         "Artistic Gymnastics",
         "Switzerland",
         "Men's Team",
         "2023-10-27 14:34"
        ],
        [
         "Ukraine",
         "Artistic Gymnastics",
         "Ukraine",
         "Men's Team",
         "2023-10-27 14:34"
        ],
        [
         "United States",
         "Artistic Gymnastics",
         "United States of America",
         "Men's Team",
         "2023-10-27 14:34"
        ],
        [
         "United States",
         "Artistic Gymnastics",
         "United States of America",
         "Women's Team",
         "2023-10-27 14:34"
        ],
        [
         "Australia",
         "Artistic Swimming",
         "Australia",
         "Duet",
         "2023-10-27 14:34"
        ],
        [
         "Australia",
         "Artistic Swimming",
         "Australia",
         "Team",
         "2023-10-27 14:34"
        ],
        [
         "Austria",
         "Artistic Swimming",
         "Austria",
         "Duet",
         "2023-10-27 14:34"
        ],
        [
         "Belarus",
         "Artistic Swimming",
         "Belarus",
         "Duet",
         "2023-10-27 14:34"
        ],
        [
         "Canada",
         "Artistic Swimming",
         "Canada",
         "Duet",
         "2023-10-27 14:34"
        ],
        [
         "Canada",
         "Artistic Swimming",
         "Canada",
         "Team",
         "2023-10-27 14:34"
        ],
        [
         "China",
         "Artistic Swimming",
         "People's Republic of China",
         "Duet",
         "2023-10-27 14:34"
        ],
        [
         "China",
         "Artistic Swimming",
         "People's Republic of China",
         "Team",
         "2023-10-27 14:34"
        ],
        [
         "Colombia",
         "Artistic Swimming",
         "Colombia",
         "Duet",
         "2023-10-27 14:34"
        ],
        [
         "Egypt",
         "Artistic Swimming",
         "Egypt",
         "Duet",
         "2023-10-27 14:34"
        ],
        [
         "Egypt",
         "Artistic Swimming",
         "Egypt",
         "Team",
         "2023-10-27 14:34"
        ],
        [
         "France",
         "Artistic Swimming",
         "France",
         "Duet",
         "2023-10-27 14:34"
        ],
        [
         "Great Britain",
         "Artistic Swimming",
         "Great Britain",
         "Duet",
         "2023-10-27 14:34"
        ],
        [
         "Greece",
         "Artistic Swimming",
         "Greece",
         "Duet",
         "2023-10-27 14:34"
        ],
        [
         "Greece",
         "Artistic Swimming",
         "Greece",
         "Team",
         "2023-10-27 14:34"
        ],
        [
         "Israel",
         "Artistic Swimming",
         "Israel",
         "Duet",
         "2023-10-27 14:34"
        ],
        [
         "Italy",
         "Artistic Swimming",
         "Italy",
         "Duet",
         "2023-10-27 14:34"
        ],
        [
         "Italy",
         "Artistic Swimming",
         "Italy",
         "Team",
         "2023-10-27 14:34"
        ],
        [
         "Japan",
         "Artistic Swimming",
         "Japan",
         "Duet",
         "2023-10-27 14:34"
        ],
        [
         "Japan",
         "Artistic Swimming",
         "Japan",
         "Team",
         "2023-10-27 14:34"
        ],
        [
         "Kazakhstan",
         "Artistic Swimming",
         "Kazakhstan",
         "Duet",
         "2023-10-27 14:34"
        ],
        [
         "Liechtenstein",
         "Artistic Swimming",
         "Liechtenstein",
         "Duet",
         "2023-10-27 14:34"
        ],
        [
         "Mexico",
         "Artistic Swimming",
         "Mexico",
         "Duet",
         "2023-10-27 14:34"
        ],
        [
         "Netherlands",
         "Artistic Swimming",
         "Netherlands",
         "Duet",
         "2023-10-27 14:34"
        ],
        [
         "ROC",
         "Artistic Swimming",
         "ROC",
         "Duet",
         "2023-10-27 14:34"
        ],
        [
         "ROC",
         "Artistic Swimming",
         "ROC",
         "Team",
         "2023-10-27 14:34"
        ],
        [
         "South Africa",
         "Artistic Swimming",
         "South Africa",
         "Duet",
         "2023-10-27 14:34"
        ],
        [
         "Spain",
         "Artistic Swimming",
         "Spain",
         "Duet",
         "2023-10-27 14:34"
        ],
        [
         "Spain",
         "Artistic Swimming",
         "Spain",
         "Team",
         "2023-10-27 14:34"
        ],
        [
         "Ukraine",
         "Artistic Swimming",
         "Ukraine",
         "Duet",
         "2023-10-27 14:34"
        ],
        [
         "Ukraine",
         "Artistic Swimming",
         "Ukraine",
         "Team",
         "2023-10-27 14:34"
        ],
        [
         "United States",
         "Artistic Swimming",
         "United States of America",
         "Duet",
         "2023-10-27 14:34"
        ],
        [
         "Australia",
         "Athletics",
         "Australia",
         "Women's 4 x 400m Relay",
         "2023-10-27 14:34"
        ],
        [
         "Bahamas",
         "Athletics",
         "Bahamas",
         "Women's 4 x 400m Relay",
         "2023-10-27 14:34"
        ],
        [
         "Belarus",
         "Athletics",
         "Belarus",
         "Women's 4 x 400m Relay",
         "2023-10-27 14:34"
        ],
        [
         "Belgium",
         "Athletics",
         "Belgium",
         "4 x 400m Relay Mixed",
         "2023-10-27 14:34"
        ],
        [
         "Belgium",
         "Athletics",
         "Belgium",
         "Men's 4 x 400m Relay",
         "2023-10-27 14:34"
        ],
        [
         "Belgium",
         "Athletics",
         "Belgium",
         "Women's 4 x 400m Relay",
         "2023-10-27 14:34"
        ],
        [
         "Botswana",
         "Athletics",
         "Botswana",
         "Men's 4 x 400m Relay",
         "2023-10-27 14:34"
        ],
        [
         "Brazil",
         "Athletics",
         "Brazil",
         "4 x 400m Relay Mixed",
         "2023-10-27 14:34"
        ],
        [
         "Brazil",
         "Athletics",
         "Brazil",
         "Men's 4 x 100m Relay",
         "2023-10-27 14:34"
        ],
        [
         "Brazil",
         "Athletics",
         "Brazil",
         "Women's 4 x 100m Relay",
         "2023-10-27 14:34"
        ],
        [
         "Canada",
         "Athletics",
         "Canada",
         "Men's 4 x 100m Relay",
         "2023-10-27 14:34"
        ],
        [
         "Canada",
         "Athletics",
         "Canada",
         "Women's 4 x 400m Relay",
         "2023-10-27 14:34"
        ],
        [
         "China",
         "Athletics",
         "People's Republic of China",
         "Men's 4 x 100m Relay",
         "2023-10-27 14:34"
        ],
        [
         "China",
         "Athletics",
         "People's Republic of China",
         "Women's 4 x 100m Relay",
         "2023-10-27 14:34"
        ],
        [
         "Colombia",
         "Athletics",
         "Colombia",
         "Men's 4 x 400m Relay",
         "2023-10-27 14:34"
        ],
        [
         "Cuba",
         "Athletics",
         "Cuba",
         "Women's 4 x 400m Relay",
         "2023-10-27 14:34"
        ],
        [
         "Czech Republic",
         "Athletics",
         "Czech Republic",
         "Men's 4 x 400m Relay",
         "2023-10-27 14:34"
        ],
        [
         "Denmark",
         "Athletics",
         "Denmark",
         "Men's 4 x 100m Relay",
         "2023-10-27 14:34"
        ],
        [
         "Denmark",
         "Athletics",
         "Denmark",
         "Women's 4 x 100m Relay",
         "2023-10-27 14:34"
        ],
        [
         "Dominican Rep.",
         "Athletics",
         "Dominican Republic",
         "4 x 400m Relay Mixed",
         "2023-10-27 14:34"
        ],
        [
         "Ecuador",
         "Athletics",
         "Ecuador",
         "Women's 4 x 100m Relay",
         "2023-10-27 14:34"
        ],
        [
         "France",
         "Athletics",
         "France",
         "Men's 4 x 100m Relay",
         "2023-10-27 14:34"
        ],
        [
         "France",
         "Athletics",
         "France",
         "Men's 4 x 400m Relay",
         "2023-10-27 14:34"
        ],
        [
         "France",
         "Athletics",
         "France",
         "Women's 4 x 100m Relay",
         "2023-10-27 14:34"
        ],
        [
         "France",
         "Athletics",
         "France",
         "Women's 4 x 400m Relay",
         "2023-10-27 14:34"
        ],
        [
         "Germany",
         "Athletics",
         "Germany",
         "4 x 400m Relay Mixed",
         "2023-10-27 14:34"
        ],
        [
         "Germany",
         "Athletics",
         "Germany",
         "Men's 4 x 100m Relay",
         "2023-10-27 14:34"
        ],
        [
         "Germany",
         "Athletics",
         "Germany",
         "Men's 4 x 400m Relay",
         "2023-10-27 14:34"
        ],
        [
         "Germany",
         "Athletics",
         "Germany",
         "Women's 4 x 100m Relay",
         "2023-10-27 14:34"
        ],
        [
         "Germany",
         "Athletics",
         "Germany",
         "Women's 4 x 400m Relay",
         "2023-10-27 14:34"
        ],
        [
         "Ghana",
         "Athletics",
         "Ghana",
         "Men's 4 x 100m Relay",
         "2023-10-27 14:34"
        ],
        [
         "Great Britain",
         "Athletics",
         "Great Britain",
         "4 x 400m Relay Mixed",
         "2023-10-27 14:34"
        ],
        [
         "Great Britain",
         "Athletics",
         "Great Britain",
         "Men's 4 x 100m Relay",
         "2023-10-27 14:34"
        ],
        [
         "Great Britain",
         "Athletics",
         "Great Britain",
         "Men's 4 x 400m Relay",
         "2023-10-27 14:34"
        ],
        [
         "Great Britain",
         "Athletics",
         "Great Britain",
         "Women's 4 x 100m Relay",
         "2023-10-27 14:34"
        ],
        [
         "Great Britain",
         "Athletics",
         "Great Britain",
         "Women's 4 x 400m Relay",
         "2023-10-27 14:34"
        ],
        [
         "India",
         "Athletics",
         "India",
         "4 x 400m Relay Mixed",
         "2023-10-27 14:34"
        ],
        [
         "India",
         "Athletics",
         "India",
         "Men's 4 x 400m Relay",
         "2023-10-27 14:34"
        ],
        [
         "Ireland",
         "Athletics",
         "Ireland",
         "4 x 400m Relay Mixed",
         "2023-10-27 14:34"
        ],
        [
         "Italy",
         "Athletics",
         "Italy",
         "4 x 400m Relay Mixed",
         "2023-10-27 14:34"
        ],
        [
         "Italy",
         "Athletics",
         "Italy",
         "Men's 4 x 100m Relay",
         "2023-10-27 14:34"
        ],
        [
         "Italy",
         "Athletics",
         "Italy",
         "Men's 4 x 400m Relay",
         "2023-10-27 14:34"
        ],
        [
         "Italy",
         "Athletics",
         "Italy",
         "Women's 4 x 100m Relay",
         "2023-10-27 14:34"
        ],
        [
         "Italy",
         "Athletics",
         "Italy",
         "Women's 4 x 400m Relay",
         "2023-10-27 14:34"
        ],
        [
         "Jamaica",
         "Athletics",
         "Jamaica",
         "4 x 400m Relay Mixed",
         "2023-10-27 14:34"
        ],
        [
         "Jamaica",
         "Athletics",
         "Jamaica",
         "Men's 4 x 100m Relay",
         "2023-10-27 14:34"
        ],
        [
         "Jamaica",
         "Athletics",
         "Jamaica",
         "Men's 4 x 400m Relay",
         "2023-10-27 14:34"
        ],
        [
         "Jamaica",
         "Athletics",
         "Jamaica",
         "Women's 4 x 100m Relay",
         "2023-10-27 14:34"
        ],
        [
         "Jamaica",
         "Athletics",
         "Jamaica",
         "Women's 4 x 400m Relay",
         "2023-10-27 14:34"
        ],
        [
         "Japan",
         "Athletics",
         "Japan",
         "Men's 4 x 100m Relay",
         "2023-10-27 14:34"
        ],
        [
         "Japan",
         "Athletics",
         "Japan",
         "Men's 4 x 400m Relay",
         "2023-10-27 14:34"
        ],
        [
         "Japan",
         "Athletics",
         "Japan",
         "Women's 4 x 100m Relay",
         "2023-10-27 14:34"
        ],
        [
         "Netherlands",
         "Athletics",
         "Netherlands",
         "4 x 400m Relay Mixed",
         "2023-10-27 14:34"
        ],
        [
         "Netherlands",
         "Athletics",
         "Netherlands",
         "Men's 4 x 100m Relay",
         "2023-10-27 14:34"
        ],
        [
         "Netherlands",
         "Athletics",
         "Netherlands",
         "Men's 4 x 400m Relay",
         "2023-10-27 14:34"
        ],
        [
         "Netherlands",
         "Athletics",
         "Netherlands",
         "Women's 4 x 100m Relay",
         "2023-10-27 14:34"
        ],
        [
         "Netherlands",
         "Athletics",
         "Netherlands",
         "Women's 4 x 400m Relay",
         "2023-10-27 14:34"
        ],
        [
         "Nigeria",
         "Athletics",
         "Nigeria",
         "4 x 400m Relay Mixed",
         "2023-10-27 14:34"
        ],
        [
         "Nigeria",
         "Athletics",
         "Nigeria",
         "Women's 4 x 100m Relay",
         "2023-10-27 14:34"
        ],
        [
         "Poland",
         "Athletics",
         "Poland",
         "4 x 400m Relay Mixed",
         "2023-10-27 14:34"
        ],
        [
         "Poland",
         "Athletics",
         "Poland",
         "Men's 4 x 400m Relay",
         "2023-10-27 14:34"
        ],
        [
         "Poland",
         "Athletics",
         "Poland",
         "Women's 4 x 100m Relay",
         "2023-10-27 14:34"
        ],
        [
         "Poland",
         "Athletics",
         "Poland",
         "Women's 4 x 400m Relay",
         "2023-10-27 14:34"
        ],
        [
         "South Africa",
         "Athletics",
         "South Africa",
         "Men's 4 x 100m Relay",
         "2023-10-27 14:34"
        ],
        [
         "South Africa",
         "Athletics",
         "South Africa",
         "Men's 4 x 400m Relay",
         "2023-10-27 14:34"
        ],
        [
         "Spain",
         "Athletics",
         "Spain",
         "4 x 400m Relay Mixed",
         "2023-10-27 14:34"
        ],
        [
         "Switzerland",
         "Athletics",
         "Switzerland",
         "Women's 4 x 100m Relay",
         "2023-10-27 14:34"
        ],
        [
         "Switzerland",
         "Athletics",
         "Switzerland",
         "Women's 4 x 400m Relay",
         "2023-10-27 14:34"
        ],
        [
         "Trinidad & Tobago",
         "Athletics",
         "Trinidad and Tobago",
         "Men's 4 x 100m Relay",
         "2023-10-27 14:34"
        ],
        [
         "Trinidad & Tobago",
         "Athletics",
         "Trinidad and Tobago",
         "Men's 4 x 400m Relay",
         "2023-10-27 14:34"
        ],
        [
         "Trinidad & Tobago",
         "Athletics",
         "Trinidad and Tobago",
         "Women's 4 x 100m Relay",
         "2023-10-27 14:34"
        ],
        [
         "Turkey",
         "Athletics",
         "Turkey",
         "Men's 4 x 100m Relay",
         "2023-10-27 14:34"
        ],
        [
         "Ukraine",
         "Athletics",
         "Ukraine",
         "4 x 400m Relay Mixed",
         "2023-10-27 14:34"
        ],
        [
         "Ukraine",
         "Athletics",
         "Ukraine",
         "Women's 4 x 400m Relay",
         "2023-10-27 14:34"
        ],
        [
         "United States",
         "Athletics",
         "United States of America",
         "4 x 400m Relay Mixed",
         "2023-10-27 14:34"
        ],
        [
         "United States",
         "Athletics",
         "United States of America",
         "Men's 4 x 100m Relay",
         "2023-10-27 14:34"
        ],
        [
         "United States",
         "Athletics",
         "United States of America",
         "Men's 4 x 400m Relay",
         "2023-10-27 14:34"
        ],
        [
         "United States",
         "Athletics",
         "United States of America",
         "Women's 4 x 100m Relay",
         "2023-10-27 14:34"
        ],
        [
         "United States",
         "Athletics",
         "United States of America",
         "Women's 4 x 400m Relay",
         "2023-10-27 14:34"
        ],
        [
         "Australia",
         "Baseball/Softball",
         "Australia",
         "Softball",
         "2023-10-27 14:34"
        ],
        [
         "Canada",
         "Baseball/Softball",
         "Canada",
         "Softball",
         "2023-10-27 14:34"
        ],
        [
         "Dominican Rep.",
         "Baseball/Softball",
         "Dominican Republic",
         "Baseball",
         "2023-10-27 14:34"
        ],
        [
         "Israel",
         "Baseball/Softball",
         "Israel",
         "Baseball",
         "2023-10-27 14:34"
        ],
        [
         "Italy",
         "Baseball/Softball",
         "Italy",
         "Softball",
         "2023-10-27 14:34"
        ],
        [
         "Japan",
         "Baseball/Softball",
         "Japan",
         "Baseball",
         "2023-10-27 14:34"
        ],
        [
         "Japan",
         "Baseball/Softball",
         "Japan",
         "Softball",
         "2023-10-27 14:34"
        ],
        [
         "Mexico",
         "Baseball/Softball",
         "Mexico",
         "Baseball",
         "2023-10-27 14:34"
        ],
        [
         "Mexico",
         "Baseball/Softball",
         "Mexico",
         "Softball",
         "2023-10-27 14:34"
        ],
        [
         "Republic of Korea",
         "Baseball/Softball",
         "Republic of Korea",
         "Baseball",
         "2023-10-27 14:34"
        ],
        [
         "United States",
         "Baseball/Softball",
         "United States of America",
         "Baseball",
         "2023-10-27 14:34"
        ],
        [
         "United States",
         "Baseball/Softball",
         "United States of America",
         "Softball",
         "2023-10-27 14:34"
        ],
        [
         "Argentina",
         "Basketball",
         "Argentina",
         "Men",
         "2023-10-27 14:34"
        ],
        [
         "Australia",
         "Basketball",
         "Australia",
         "Men",
         "2023-10-27 14:34"
        ],
        [
         "Australia",
         "Basketball",
         "Australia",
         "Women",
         "2023-10-27 14:34"
        ],
        [
         "Belgium",
         "Basketball",
         "Belgium",
         "Women",
         "2023-10-27 14:34"
        ],
        [
         "Canada",
         "Basketball",
         "Canada",
         "Women",
         "2023-10-27 14:34"
        ],
        [
         "China",
         "Basketball",
         "People's Republic of China",
         "Women",
         "2023-10-27 14:34"
        ],
        [
         "Czech Republic",
         "Basketball",
         "Czech Republic",
         "Men",
         "2023-10-27 14:34"
        ],
        [
         "France",
         "Basketball",
         "France",
         "Men",
         "2023-10-27 14:34"
        ],
        [
         "France",
         "Basketball",
         "France",
         "Women",
         "2023-10-27 14:34"
        ],
        [
         "Germany",
         "Basketball",
         "Germany",
         "Men",
         "2023-10-27 14:34"
        ],
        [
         "Islamic Rep. of Iran",
         "Basketball",
         "Islamic Republic of Iran",
         "Men",
         "2023-10-27 14:34"
        ],
        [
         "Italy",
         "Basketball",
         "Italy",
         "Men",
         "2023-10-27 14:34"
        ],
        [
         "Japan",
         "Basketball",
         "Japan",
         "Men",
         "2023-10-27 14:34"
        ],
        [
         "Japan",
         "Basketball",
         "Japan",
         "Women",
         "2023-10-27 14:34"
        ],
        [
         "Nigeria",
         "Basketball",
         "Nigeria",
         "Men",
         "2023-10-27 14:34"
        ],
        [
         "Nigeria",
         "Basketball",
         "Nigeria",
         "Women",
         "2023-10-27 14:34"
        ],
        [
         "Puerto Rico",
         "Basketball",
         "Puerto Rico",
         "Women",
         "2023-10-27 14:34"
        ],
        [
         "Republic of Korea",
         "Basketball",
         "Republic of Korea",
         "Women",
         "2023-10-27 14:34"
        ],
        [
         "Serbia",
         "Basketball",
         "Serbia",
         "Women",
         "2023-10-27 14:34"
        ],
        [
         "Slovenia",
         "Basketball",
         "Slovenia",
         "Men",
         "2023-10-27 14:34"
        ],
        [
         "Spain",
         "Basketball",
         "Spain",
         "Men",
         "2023-10-27 14:34"
        ],
        [
         "Spain",
         "Basketball",
         "Spain",
         "Women",
         "2023-10-27 14:34"
        ],
        [
         "United States",
         "Basketball",
         "United States of America",
         "Men",
         "2023-10-27 14:34"
        ],
        [
         "United States",
         "Basketball",
         "United States of America",
         "Women",
         "2023-10-27 14:34"
        ],
        [
         "Azaad/Capogrosso",
         "Beach Volleyball",
         "Argentina",
         "Men",
         "2023-10-27 14:34"
        ],
        [
         "Gallay/Pereyra",
         "Beach Volleyball",
         "Argentina",
         "Women",
         "2023-10-27 14:34"
        ],
        [
         "McHugh/Schumann",
         "Beach Volleyball",
         "Australia",
         "Men",
         "2023-10-27 14:34"
        ],
        [
         "Artacho Del Solar/Clancy",
         "Beach Volleyball",
         "Australia",
         "Women",
         "2023-10-27 14:34"
        ],
        [
         "Alison/Alvaro Filho",
         "Beach Volleyball",
         "Brazil",
         "Men",
         "2023-10-27 14:34"
        ],
        [
         "Evandro/Bruno Schmidt",
         "Beach Volleyball",
         "Brazil",
         "Men",
         "2023-10-27 14:34"
        ],
        [
         "Ana Patricia/Rebecca",
         "Beach Volleyball",
         "Brazil",
         "Women",
         "2023-10-27 14:34"
        ],
        [
         "Agatha/Duda",
         "Beach Volleyball",
         "Brazil",
         "Women",
         "2023-10-27 14:34"
        ],
        [
         "Bansley/Brandie",
         "Beach Volleyball",
         "Canada",
         "Women",
         "2023-10-27 14:34"
        ],
        [
         "Pavan/Melissa",
         "Beach Volleyball",
         "Canada",
         "Women",
         "2023-10-27 14:34"
        ],
        [
         "Grimalt M./Grimalt E.",
         "Beach Volleyball",
         "Chile",
         "Men",
         "2023-10-27 14:34"
        ],
        [
         "Wang/X.Y.Xia",
         "Beach Volleyball",
         "People's Republic of China",
         "Women",
         "2023-10-27 14:34"
        ],
        [
         "Xue/Wang X.X.",
         "Beach Volleyball",
         "People's Republic of China",
         "Women",
         "2023-10-27 14:34"
        ],
        [
         "Lidy/Leila",
         "Beach Volleyball",
         "Cuba",
         "Women",
         "2023-10-27 14:34"
        ],
        [
         "Perusic/Schweiner",
         "Beach Volleyball",
         "Czech Republic",
         "Men",
         "2023-10-27 14:34"
        ],
        [
         "Hermannova/Slukova",
         "Beach Volleyball",
         "Czech Republic",
         "Women",
         "2023-10-27 14:34"
        ],
        [
         "Thole J./Wickler",
         "Beach Volleyball",
         "Germany",
         "Men",
         "2023-10-27 14:34"
        ],
        [
         "Ludwig/Kozuch",
         "Beach Volleyball",
         "Germany",
         "Women",
         "2023-10-27 14:34"
        ],
        [
         "Sude/Borger",
         "Beach Volleyball",
         "Germany",
         "Women",
         "2023-10-27 14:34"
        ],
        [
         "Nicolai/Lupo",
         "Beach Volleyball",
         "Italy",
         "Men",
         "2023-10-27 14:34"
        ],
        [
         "Carambula/Rossi",
         "Beach Volleyball",
         "Italy",
         "Men",
         "2023-10-27 14:34"
        ],
        [
         "Menegatti/Orsi Toth",
         "Beach Volleyball",
         "Italy",
         "Women",
         "2023-10-27 14:34"
        ],
        [
         "Gottsu/Shiratori",
         "Beach Volleyball",
         "Japan",
         "Men",
         "2023-10-27 14:34"
        ],
        [
         "Ishii/Murakami",
         "Beach Volleyball",
         "Japan",
         "Women",
         "2023-10-27 14:34"
        ],
        [
         "Makokha/Khadambi",
         "Beach Volleyball",
         "Kenya",
         "Women",
         "2023-10-27 14:34"
        ],
        [
         "Plavins/Tocs",
         "Beach Volleyball",
         "Latvia",
         "Men",
         "2023-10-27 14:34"
        ],
        [
         "Graudina/Kravcenoka",
         "Beach Volleyball",
         "Latvia",
         "Women",
         "2023-10-27 14:34"
        ],
        [
         "Gaxiola/Rubio",
         "Beach Volleyball",
         "Mexico",
         "Men",
         "2023-10-27 14:34"
        ],
        [
         "Abicha/Elgraoui",
         "Beach Volleyball",
         "Morocco",
         "Men",
         "2023-10-27 14:34"
        ],
        [
         "Brouwer/Meeuwsen",
         "Beach Volleyball",
         "Netherlands",
         "Men",
         "2023-10-27 14:34"
        ],
        [
         "Keizer/Meppelink",
         "Beach Volleyball",
         "Netherlands",
         "Women",
         "2023-10-27 14:34"
        ],
        [
         "Stam/Schoon",
         "Beach Volleyball",
         "Netherlands",
         "Women",
         "2023-10-27 14:34"
        ],
        [
         "Mol A./Sorum C.",
         "Beach Volleyball",
         "Norway",
         "Men",
         "2023-10-27 14:34"
        ],
        [
         "Bryl/Fijalek",
         "Beach Volleyball",
         "Poland",
         "Men",
         "2023-10-27 14:34"
        ],
        [
         "Kantor/Losiak",
         "Beach Volleyball",
         "Poland",
         "Men",
         "2023-10-27 14:34"
        ],
        [
         "Cherif/Ahmed",
         "Beach Volleyball",
         "Qatar",
         "Men",
         "2023-10-27 14:34"
        ],
        [
         "Krasilnikov/Stoyanovskiy",
         "Beach Volleyball",
         "ROC",
         "Men",
         "2023-10-27 14:34"
        ],
        [
         "Leshukov/Semenov",
         "Beach Volleyball",
         "ROC",
         "Men",
         "2023-10-27 14:34"
        ],
        [
         "Makroguzova/Kholomina",
         "Beach Volleyball",
         "ROC",
         "Women",
         "2023-10-27 14:34"
        ],
        [
         "Herrera/Gavira",
         "Beach Volleyball",
         "Spain",
         "Men",
         "2023-10-27 14:34"
        ],
        [
         "Liliana/Elsa",
         "Beach Volleyball",
         "Spain",
         "Women",
         "2023-10-27 14:34"
        ],
        [
         "Heidrich/Gerson",
         "Beach Volleyball",
         "Switzerland",
         "Men",
         "2023-10-27 14:34"
        ],
        [
         "Huberli/Betschart",
         "Beach Volleyball",
         "Switzerland",
         "Women",
         "2023-10-27 14:34"
        ],
        [
         "Verge-Depre, A./Heidrich",
         "Beach Volleyball",
         "Switzerland",
         "Women",
         "2023-10-27 14:34"
        ],
        [
         "Gibb/Bourne",
         "Beach Volleyball",
         "United States of America",
         "Men",
         "2023-10-27 14:34"
        ],
        [
         "Lucena/Dalhausser",
         "Beach Volleyball",
         "United States of America",
         "Men",
         "2023-10-27 14:34"
        ],
        [
         "April/Alix",
         "Beach Volleyball",
         "United States of America",
         "Women",
         "2023-10-27 14:34"
        ],
        [
         "Claes/Sponcil",
         "Beach Volleyball",
         "United States of America",
         "Women",
         "2023-10-27 14:34"
        ],
        [
         "Australia",
         "Cycling Track",
         "Australia",
         "Men's Madison",
         "2023-10-27 14:34"
        ],
        [
         "Australia",
         "Cycling Track",
         "Australia",
         "Men's Team Pursuit",
         "2023-10-27 14:34"
        ],
        [
         "Australia",
         "Cycling Track",
         "Australia",
         "Men's Team Sprint",
         "2023-10-27 14:34"
        ],
        [
         "Australia",
         "Cycling Track",
         "Australia",
         "Women's Madison",
         "2023-10-27 14:34"
        ],
        [
         "Australia",
         "Cycling Track",
         "Australia",
         "Women's Team Pursuit",
         "2023-10-27 14:34"
        ],
        [
         "Austria",
         "Cycling Track",
         "Austria",
         "Men's Madison",
         "2023-10-27 14:34"
        ],
        [
         "Belgium",
         "Cycling Track",
         "Belgium",
         "Men's Madison",
         "2023-10-27 14:34"
        ],
        [
         "Belgium",
         "Cycling Track",
         "Belgium",
         "Women's Madison",
         "2023-10-27 14:34"
        ],
        [
         "Canada",
         "Cycling Track",
         "Canada",
         "Men's Madison",
         "2023-10-27 14:34"
        ],
        [
         "Canada",
         "Cycling Track",
         "Canada",
         "Men's Team Pursuit",
         "2023-10-27 14:34"
        ],
        [
         "Canada",
         "Cycling Track",
         "Canada",
         "Women's Madison",
         "2023-10-27 14:34"
        ],
        [
         "Canada",
         "Cycling Track",
         "Canada",
         "Women's Team Pursuit",
         "2023-10-27 14:34"
        ],
        [
         "China",
         "Cycling Track",
         "People's Republic of China",
         "Women's Team Sprint",
         "2023-10-27 14:34"
        ],
        [
         "Denmark",
         "Cycling Track",
         "Denmark",
         "Men's Madison",
         "2023-10-27 14:34"
        ],
        [
         "Denmark",
         "Cycling Track",
         "Denmark",
         "Men's Team Pursuit",
         "2023-10-27 14:34"
        ],
        [
         "Denmark",
         "Cycling Track",
         "Denmark",
         "Women's Madison",
         "2023-10-27 14:34"
        ],
        [
         "France",
         "Cycling Track",
         "France",
         "Men's Madison",
         "2023-10-27 14:34"
        ],
        [
         "France",
         "Cycling Track",
         "France",
         "Men's Team Sprint",
         "2023-10-27 14:34"
        ],
        [
         "France",
         "Cycling Track",
         "France",
         "Women's Madison",
         "2023-10-27 14:34"
        ],
        [
         "France",
         "Cycling Track",
         "France",
         "Women's Team Pursuit",
         "2023-10-27 14:34"
        ],
        [
         "Germany",
         "Cycling Track",
         "Germany",
         "Men's Madison",
         "2023-10-27 14:34"
        ],
        [
         "Germany",
         "Cycling Track",
         "Germany",
         "Men's Team Pursuit",
         "2023-10-27 14:34"
        ],
        [
         "Germany",
         "Cycling Track",
         "Germany",
         "Men's Team Sprint",
         "2023-10-27 14:34"
        ],
        [
         "Germany",
         "Cycling Track",
         "Germany",
         "Women's Madison",
         "2023-10-27 14:34"
        ],
        [
         "Germany",
         "Cycling Track",
         "Germany",
         "Women's Team Pursuit",
         "2023-10-27 14:34"
        ],
        [
         "Germany",
         "Cycling Track",
         "Germany",
         "Women's Team Sprint",
         "2023-10-27 14:34"
        ],
        [
         "Great Britain",
         "Cycling Track",
         "Great Britain",
         "Men's Madison",
         "2023-10-27 14:34"
        ],
        [
         "Great Britain",
         "Cycling Track",
         "Great Britain",
         "Men's Team Pursuit",
         "2023-10-27 14:34"
        ],
        [
         "Great Britain",
         "Cycling Track",
         "Great Britain",
         "Men's Team Sprint",
         "2023-10-27 14:34"
        ],
        [
         "Great Britain",
         "Cycling Track",
         "Great Britain",
         "Women's Madison",
         "2023-10-27 14:34"
        ],
        [
         "Great Britain",
         "Cycling Track",
         "Great Britain",
         "Women's Team Pursuit",
         "2023-10-27 14:34"
        ],
        [
         "Hong Kong, China",
         "Cycling Track",
         "Hong Kong, China",
         "Women's Madison",
         "2023-10-27 14:34"
        ],
        [
         "Ireland",
         "Cycling Track",
         "Ireland",
         "Men's Madison",
         "2023-10-27 14:34"
        ],
        [
         "Ireland",
         "Cycling Track",
         "Ireland",
         "Women's Madison",
         "2023-10-27 14:34"
        ],
        [
         "Italy",
         "Cycling Track",
         "Italy",
         "Men's Madison",
         "2023-10-27 14:34"
        ],
        [
         "Italy",
         "Cycling Track",
         "Italy",
         "Men's Team Pursuit",
         "2023-10-27 14:34"
        ],
        [
         "Italy",
         "Cycling Track",
         "Italy",
         "Women's Madison",
         "2023-10-27 14:34"
        ],
        [
         "Italy",
         "Cycling Track",
         "Italy",
         "Women's Team Pursuit",
         "2023-10-27 14:34"
        ],
        [
         "Japan",
         "Cycling Track",
         "Japan",
         "Women's Madison",
         "2023-10-27 14:34"
        ],
        [
         "Lithuania",
         "Cycling Track",
         "Lithuania",
         "Women's Team Sprint",
         "2023-10-27 14:34"
        ],
        [
         "Mexico",
         "Cycling Track",
         "Mexico",
         "Women's Team Sprint",
         "2023-10-27 14:34"
        ],
        [
         "Netherlands",
         "Cycling Track",
         "Netherlands",
         "Men's Madison",
         "2023-10-27 14:34"
        ],
        [
         "Netherlands",
         "Cycling Track",
         "Netherlands",
         "Men's Team Sprint",
         "2023-10-27 14:34"
        ],
        [
         "Netherlands",
         "Cycling Track",
         "Netherlands",
         "Women's Madison",
         "2023-10-27 14:34"
        ],
        [
         "Netherlands",
         "Cycling Track",
         "Netherlands",
         "Women's Team Sprint",
         "2023-10-27 14:34"
        ],
        [
         "New Zealand",
         "Cycling Track",
         "New Zealand",
         "Men's Madison",
         "2023-10-27 14:34"
        ],
        [
         "New Zealand",
         "Cycling Track",
         "New Zealand",
         "Men's Team Pursuit",
         "2023-10-27 14:34"
        ],
        [
         "New Zealand",
         "Cycling Track",
         "New Zealand",
         "Men's Team Sprint",
         "2023-10-27 14:34"
        ],
        [
         "New Zealand",
         "Cycling Track",
         "New Zealand",
         "Women's Madison",
         "2023-10-27 14:34"
        ],
        [
         "New Zealand",
         "Cycling Track",
         "New Zealand",
         "Women's Team Pursuit",
         "2023-10-27 14:34"
        ],
        [
         "Poland",
         "Cycling Track",
         "Poland",
         "Men's Madison",
         "2023-10-27 14:34"
        ],
        [
         "Poland",
         "Cycling Track",
         "Poland",
         "Men's Team Sprint",
         "2023-10-27 14:34"
        ],
        [
         "Poland",
         "Cycling Track",
         "Poland",
         "Women's Madison",
         "2023-10-27 14:34"
        ],
        [
         "Poland",
         "Cycling Track",
         "Poland",
         "Women's Team Sprint",
         "2023-10-27 14:34"
        ],
        [
         "ROC",
         "Cycling Track",
         "ROC",
         "Men's Team Sprint",
         "2023-10-27 14:34"
        ],
        [
         "ROC",
         "Cycling Track",
         "ROC",
         "Women's Madison",
         "2023-10-27 14:34"
        ],
        [
         "ROC",
         "Cycling Track",
         "ROC",
         "Women's Team Sprint",
         "2023-10-27 14:34"
        ],
        [
         "Spain",
         "Cycling Track",
         "Spain",
         "Men's Madison",
         "2023-10-27 14:34"
        ],
        [
         "Switzerland",
         "Cycling Track",
         "Switzerland",
         "Men's Madison",
         "2023-10-27 14:34"
        ],
        [
         "Switzerland",
         "Cycling Track",
         "Switzerland",
         "Men's Team Pursuit",
         "2023-10-27 14:34"
        ],
        [
         "Ukraine",
         "Cycling Track",
         "Ukraine",
         "Women's Team Sprint",
         "2023-10-27 14:34"
        ],
        [
         "United States",
         "Cycling Track",
         "United States of America",
         "Men's Madison",
         "2023-10-27 14:34"
        ],
        [
         "United States",
         "Cycling Track",
         "United States of America",
         "Women's Madison",
         "2023-10-27 14:34"
        ],
        [
         "United States",
         "Cycling Track",
         "United States of America",
         "Women's Team Pursuit",
         "2023-10-27 14:34"
        ],
        [
         "Canada",
         "Fencing",
         "Canada",
         "Men's Foil Team",
         "2023-10-27 14:34"
        ],
        [
         "Canada",
         "Fencing",
         "Canada",
         "Women's Foil Team",
         "2023-10-27 14:34"
        ],
        [
         "China",
         "Fencing",
         "People's Republic of China",
         "Men's �p�e Team",
         "2023-10-27 14:34"
        ],
        [
         "China",
         "Fencing",
         "People's Republic of China",
         "Women's �p�e Team",
         "2023-10-27 14:34"
        ],
        [
         "China",
         "Fencing",
         "People's Republic of China",
         "Women's Sabre Team",
         "2023-10-27 14:34"
        ],
        [
         "Egypt",
         "Fencing",
         "Egypt",
         "Men's Foil Team",
         "2023-10-27 14:34"
        ],
        [
         "Egypt",
         "Fencing",
         "Egypt",
         "Men's Sabre Team",
         "2023-10-27 14:34"
        ],
        [
         "Egypt",
         "Fencing",
         "Egypt",
         "Women's Foil Team",
         "2023-10-27 14:34"
        ],
        [
         "Estonia",
         "Fencing",
         "Estonia",
         "Women's �p�e Team",
         "2023-10-27 14:34"
        ],
        [
         "France",
         "Fencing",
         "France",
         "Men's �p�e Team",
         "2023-10-27 14:34"
        ],
        [
         "France",
         "Fencing",
         "France",
         "Men's Foil Team",
         "2023-10-27 14:34"
        ],
        [
         "France",
         "Fencing",
         "France",
         "Women's Foil Team",
         "2023-10-27 14:34"
        ],
        [
         "France",
         "Fencing",
         "France",
         "Women's Sabre Team",
         "2023-10-27 14:34"
        ],
        [
         "Germany",
         "Fencing",
         "Germany",
         "Men's Foil Team",
         "2023-10-27 14:34"
        ],
        [
         "Germany",
         "Fencing",
         "Germany",
         "Men's Sabre Team",
         "2023-10-27 14:34"
        ],
        [
         "Hong Kong, China",
         "Fencing",
         "Hong Kong, China",
         "Men's Foil Team",
         "2023-10-27 14:34"
        ],
        [
         "Hong Kong, China",
         "Fencing",
         "Hong Kong, China",
         "Women's �p�e Team",
         "2023-10-27 14:34"
        ],
        [
         "Hungary",
         "Fencing",
         "Hungary",
         "Men's Sabre Team",
         "2023-10-27 14:34"
        ],
        [
         "Hungary",
         "Fencing",
         "Hungary",
         "Women's Foil Team",
         "2023-10-27 14:34"
        ],
        [
         "Hungary",
         "Fencing",
         "Hungary",
         "Women's Sabre Team",
         "2023-10-27 14:34"
        ],
        [
         "Islamic Rep. of Iran",
         "Fencing",
         "Islamic Republic of Iran",
         "Men's Sabre Team",
         "2023-10-27 14:34"
        ],
        [
         "Italy",
         "Fencing",
         "Italy",
         "Men's �p�e Team",
         "2023-10-27 14:34"
        ],
        [
         "Italy",
         "Fencing",
         "Italy",
         "Men's Foil Team",
         "2023-10-27 14:34"
        ],
        [
         "Italy",
         "Fencing",
         "Italy",
         "Men's Sabre Team",
         "2023-10-27 14:34"
        ],
        [
         "Italy",
         "Fencing",
         "Italy",
         "Women's �p�e Team",
         "2023-10-27 14:34"
        ],
        [
         "Italy",
         "Fencing",
         "Italy",
         "Women's Foil Team",
         "2023-10-27 14:34"
        ],
        [
         "Italy",
         "Fencing",
         "Italy",
         "Women's Sabre Team",
         "2023-10-27 14:34"
        ],
        [
         "Japan",
         "Fencing",
         "Japan",
         "Men's �p�e Team",
         "2023-10-27 14:34"
        ],
        [
         "Japan",
         "Fencing",
         "Japan",
         "Men's Foil Team",
         "2023-10-27 14:34"
        ],
        [
         "Japan",
         "Fencing",
         "Japan",
         "Men's Sabre Team",
         "2023-10-27 14:34"
        ],
        [
         "Japan",
         "Fencing",
         "Japan",
         "Women's Foil Team",
         "2023-10-27 14:34"
        ],
        [
         "Japan",
         "Fencing",
         "Japan",
         "Women's Sabre Team",
         "2023-10-27 14:34"
        ],
        [
         "Poland",
         "Fencing",
         "Poland",
         "Women's �p�e Team",
         "2023-10-27 14:34"
        ],
        [
         "Republic of Korea",
         "Fencing",
         "Republic of Korea",
         "Men's �p�e Team",
         "2023-10-27 14:34"
        ],
        [
         "Republic of Korea",
         "Fencing",
         "Republic of Korea",
         "Men's Sabre Team",
         "2023-10-27 14:34"
        ],
        [
         "Republic of Korea",
         "Fencing",
         "Republic of Korea",
         "Women's �p�e Team",
         "2023-10-27 14:34"
        ],
        [
         "Republic of Korea",
         "Fencing",
         "Republic of Korea",
         "Women's Sabre Team",
         "2023-10-27 14:34"
        ],
        [
         "ROC",
         "Fencing",
         "ROC",
         "Men's �p�e Team",
         "2023-10-27 14:34"
        ],
        [
         "ROC",
         "Fencing",
         "ROC",
         "Men's Foil Team",
         "2023-10-27 14:34"
        ],
        [
         "ROC",
         "Fencing",
         "ROC",
         "Men's Sabre Team",
         "2023-10-27 14:34"
        ],
        [
         "ROC",
         "Fencing",
         "ROC",
         "Women's �p�e Team",
         "2023-10-27 14:34"
        ],
        [
         "ROC",
         "Fencing",
         "ROC",
         "Women's Foil Team",
         "2023-10-27 14:34"
        ],
        [
         "ROC",
         "Fencing",
         "ROC",
         "Women's Sabre Team",
         "2023-10-27 14:34"
        ],
        [
         "Switzerland",
         "Fencing",
         "Switzerland",
         "Men's �p�e Team",
         "2023-10-27 14:34"
        ],
        [
         "Tunisia",
         "Fencing",
         "Tunisia",
         "Women's Sabre Team",
         "2023-10-27 14:34"
        ],
        [
         "Ukraine",
         "Fencing",
         "Ukraine",
         "Men's �p�e Team",
         "2023-10-27 14:34"
        ],
        [
         "United States",
         "Fencing",
         "United States of America",
         "Men's �p�e Team",
         "2023-10-27 14:34"
        ],
        [
         "United States",
         "Fencing",
         "United States of America",
         "Men's Foil Team",
         "2023-10-27 14:34"
        ],
        [
         "United States",
         "Fencing",
         "United States of America",
         "Men's Sabre Team",
         "2023-10-27 14:34"
        ],
        [
         "United States",
         "Fencing",
         "United States of America",
         "Women's �p�e Team",
         "2023-10-27 14:34"
        ],
        [
         "United States",
         "Fencing",
         "United States of America",
         "Women's Foil Team",
         "2023-10-27 14:34"
        ],
        [
         "United States",
         "Fencing",
         "United States of America",
         "Women's Sabre Team",
         "2023-10-27 14:34"
        ],
        [
         "Argentina",
         "Football",
         "Argentina",
         "Men",
         "2023-10-27 14:34"
        ],
        [
         "Australia",
         "Football",
         "Australia",
         "Men",
         "2023-10-27 14:34"
        ],
        [
         "Australia",
         "Football",
         "Australia",
         "Women",
         "2023-10-27 14:34"
        ],
        [
         "Brazil",
         "Football",
         "Brazil",
         "Men",
         "2023-10-27 14:34"
        ],
        [
         "Brazil",
         "Football",
         "Brazil",
         "Women",
         "2023-10-27 14:34"
        ],
        [
         "Canada",
         "Football",
         "Canada",
         "Women",
         "2023-10-27 14:34"
        ],
        [
         "Chile",
         "Football",
         "Chile",
         "Women",
         "2023-10-27 14:34"
        ],
        [
         "China",
         "Football",
         "People's Republic of China",
         "Women",
         "2023-10-27 14:34"
        ],
        [
         "C�te d�Ivoire",
         "Football",
         "C�te d'Ivoire",
         "Men",
         "2023-10-27 14:34"
        ],
        [
         "Egypt",
         "Football",
         "Egypt",
         "Men",
         "2023-10-27 14:34"
        ],
        [
         "France",
         "Football",
         "France",
         "Men",
         "2023-10-27 14:34"
        ],
        [
         "Germany",
         "Football",
         "Germany",
         "Men",
         "2023-10-27 14:34"
        ],
        [
         "Great Britain",
         "Football",
         "Great Britain",
         "Women",
         "2023-10-27 14:34"
        ],
        [
         "Honduras",
         "Football",
         "Honduras",
         "Men",
         "2023-10-27 14:34"
        ],
        [
         "Japan",
         "Football",
         "Japan",
         "Men",
         "2023-10-27 14:34"
        ],
        [
         "Japan",
         "Football",
         "Japan",
         "Women",
         "2023-10-27 14:34"
        ],
        [
         "Mexico",
         "Football",
         "Mexico",
         "Men",
         "2023-10-27 14:34"
        ],
        [
         "Netherlands",
         "Football",
         "Netherlands",
         "Women",
         "2023-10-27 14:34"
        ],
        [
         "New Zealand",
         "Football",
         "New Zealand",
         "Men",
         "2023-10-27 14:34"
        ],
        [
         "New Zealand",
         "Football",
         "New Zealand",
         "Women",
         "2023-10-27 14:34"
        ],
        [
         "Republic of Korea",
         "Football",
         "Republic of Korea",
         "Men",
         "2023-10-27 14:34"
        ],
        [
         "Romania",
         "Football",
         "Romania",
         "Men",
         "2023-10-27 14:34"
        ],
        [
         "Saudi Arabia",
         "Football",
         "Saudi Arabia",
         "Men",
         "2023-10-27 14:34"
        ],
        [
         "South Africa",
         "Football",
         "South Africa",
         "Men",
         "2023-10-27 14:34"
        ],
        [
         "Spain",
         "Football",
         "Spain",
         "Men",
         "2023-10-27 14:34"
        ],
        [
         "Sweden",
         "Football",
         "Sweden",
         "Women",
         "2023-10-27 14:34"
        ],
        [
         "United States",
         "Football",
         "United States of America",
         "Women",
         "2023-10-27 14:34"
        ],
        [
         "Zambia",
         "Football",
         "Zambia",
         "Women",
         "2023-10-27 14:34"
        ],
        [
         "Angola",
         "Handball",
         "Angola",
         "Women",
         "2023-10-27 14:34"
        ],
        [
         "Argentina",
         "Handball",
         "Argentina",
         "Men",
         "2023-10-27 14:34"
        ],
        [
         "Bahrain",
         "Handball",
         "Bahrain",
         "Men",
         "2023-10-27 14:34"
        ],
        [
         "Brazil",
         "Handball",
         "Brazil",
         "Men",
         "2023-10-27 14:34"
        ],
        [
         "Brazil",
         "Handball",
         "Brazil",
         "Women",
         "2023-10-27 14:34"
        ],
        [
         "Denmark",
         "Handball",
         "Denmark",
         "Men",
         "2023-10-27 14:34"
        ],
        [
         "Egypt",
         "Handball",
         "Egypt",
         "Men",
         "2023-10-27 14:34"
        ],
        [
         "France",
         "Handball",
         "France",
         "Men",
         "2023-10-27 14:34"
        ],
        [
         "France",
         "Handball",
         "France",
         "Women",
         "2023-10-27 14:34"
        ],
        [
         "Germany",
         "Handball",
         "Germany",
         "Men",
         "2023-10-27 14:34"
        ],
        [
         "Hungary",
         "Handball",
         "Hungary",
         "Women",
         "2023-10-27 14:34"
        ],
        [
         "Japan",
         "Handball",
         "Japan",
         "Men",
         "2023-10-27 14:34"
        ],
        [
         "Japan",
         "Handball",
         "Japan",
         "Women",
         "2023-10-27 14:34"
        ],
        [
         "Montenegro",
         "Handball",
         "Montenegro",
         "Women",
         "2023-10-27 14:34"
        ],
        [
         "Netherlands",
         "Handball",
         "Netherlands",
         "Women",
         "2023-10-27 14:34"
        ],
        [
         "Norway",
         "Handball",
         "Norway",
         "Men",
         "2023-10-27 14:34"
        ],
        [
         "Norway",
         "Handball",
         "Norway",
         "Women",
         "2023-10-27 14:34"
        ],
        [
         "Portugal",
         "Handball",
         "Portugal",
         "Men",
         "2023-10-27 14:34"
        ],
        [
         "Republic of Korea",
         "Handball",
         "Republic of Korea",
         "Women",
         "2023-10-27 14:34"
        ],
        [
         "ROC",
         "Handball",
         "ROC",
         "Women",
         "2023-10-27 14:34"
        ],
        [
         "Spain",
         "Handball",
         "Spain",
         "Men",
         "2023-10-27 14:34"
        ],
        [
         "Spain",
         "Handball",
         "Spain",
         "Women",
         "2023-10-27 14:34"
        ],
        [
         "Sweden",
         "Handball",
         "Sweden",
         "Men",
         "2023-10-27 14:34"
        ],
        [
         "Sweden",
         "Handball",
         "Sweden",
         "Women",
         "2023-10-27 14:34"
        ],
        [
         "Argentina",
         "Hockey",
         "Argentina",
         "Men",
         "2023-10-27 14:34"
        ],
        [
         "Argentina",
         "Hockey",
         "Argentina",
         "Women",
         "2023-10-27 14:34"
        ],
        [
         "Australia",
         "Hockey",
         "Australia",
         "Men",
         "2023-10-27 14:34"
        ],
        [
         "Australia",
         "Hockey",
         "Australia",
         "Women",
         "2023-10-27 14:34"
        ],
        [
         "Belgium",
         "Hockey",
         "Belgium",
         "Men",
         "2023-10-27 14:34"
        ],
        [
         "Canada",
         "Hockey",
         "Canada",
         "Men",
         "2023-10-27 14:34"
        ],
        [
         "China",
         "Hockey",
         "People's Republic of China",
         "Women",
         "2023-10-27 14:34"
        ],
        [
         "Germany",
         "Hockey",
         "Germany",
         "Men",
         "2023-10-27 14:34"
        ],
        [
         "Germany",
         "Hockey",
         "Germany",
         "Women",
         "2023-10-27 14:34"
        ],
        [
         "Great Britain",
         "Hockey",
         "Great Britain",
         "Men",
         "2023-10-27 14:34"
        ],
        [
         "Great Britain",
         "Hockey",
         "Great Britain",
         "Women",
         "2023-10-27 14:34"
        ],
        [
         "India",
         "Hockey",
         "India",
         "Men",
         "2023-10-27 14:34"
        ],
        [
         "India",
         "Hockey",
         "India",
         "Women",
         "2023-10-27 14:34"
        ],
        [
         "Ireland",
         "Hockey",
         "Ireland",
         "Women",
         "2023-10-27 14:34"
        ],
        [
         "Japan",
         "Hockey",
         "Japan",
         "Men",
         "2023-10-27 14:34"
        ],
        [
         "Japan",
         "Hockey",
         "Japan",
         "Women",
         "2023-10-27 14:34"
        ],
        [
         "Netherlands",
         "Hockey",
         "Netherlands",
         "Men",
         "2023-10-27 14:34"
        ],
        [
         "Netherlands",
         "Hockey",
         "Netherlands",
         "Women",
         "2023-10-27 14:34"
        ],
        [
         "New Zealand",
         "Hockey",
         "New Zealand",
         "Men",
         "2023-10-27 14:34"
        ],
        [
         "New Zealand",
         "Hockey",
         "New Zealand",
         "Women",
         "2023-10-27 14:34"
        ],
        [
         "South Africa",
         "Hockey",
         "South Africa",
         "Men",
         "2023-10-27 14:34"
        ],
        [
         "South Africa",
         "Hockey",
         "South Africa",
         "Women",
         "2023-10-27 14:34"
        ],
        [
         "Spain",
         "Hockey",
         "Spain",
         "Men",
         "2023-10-27 14:34"
        ],
        [
         "Spain",
         "Hockey",
         "Spain",
         "Women",
         "2023-10-27 14:34"
        ],
        [
         "Australia",
         "Rhythmic Gymnastics",
         "Australia",
         "Group All-Around",
         "2023-10-27 14:34"
        ],
        [
         "Azerbaijan",
         "Rhythmic Gymnastics",
         "Azerbaijan",
         "Group All-Around",
         "2023-10-27 14:34"
        ],
        [
         "Belarus",
         "Rhythmic Gymnastics",
         "Belarus",
         "Group All-Around",
         "2023-10-27 14:34"
        ],
        [
         "Brazil",
         "Rhythmic Gymnastics",
         "Brazil",
         "Group All-Around",
         "2023-10-27 14:34"
        ],
        [
         "Bulgaria",
         "Rhythmic Gymnastics",
         "Bulgaria",
         "Group All-Around",
         "2023-10-27 14:34"
        ],
        [
         "China",
         "Rhythmic Gymnastics",
         "People's Republic of China",
         "Group All-Around",
         "2023-10-27 14:34"
        ],
        [
         "Egypt",
         "Rhythmic Gymnastics",
         "Egypt",
         "Group All-Around",
         "2023-10-27 14:34"
        ],
        [
         "Israel",
         "Rhythmic Gymnastics",
         "Israel",
         "Group All-Around",
         "2023-10-27 14:34"
        ],
        [
         "Italy",
         "Rhythmic Gymnastics",
         "Italy",
         "Group All-Around",
         "2023-10-27 14:34"
        ],
        [
         "Japan",
         "Rhythmic Gymnastics",
         "Japan",
         "Group All-Around",
         "2023-10-27 14:34"
        ],
        [
         "ROC",
         "Rhythmic Gymnastics",
         "ROC",
         "Group All-Around",
         "2023-10-27 14:34"
        ],
        [
         "Ukraine",
         "Rhythmic Gymnastics",
         "Ukraine",
         "Group All-Around",
         "2023-10-27 14:34"
        ],
        [
         "United States",
         "Rhythmic Gymnastics",
         "United States of America",
         "Group All-Around",
         "2023-10-27 14:34"
        ],
        [
         "Uzbekistan",
         "Rhythmic Gymnastics",
         "Uzbekistan",
         "Group All-Around",
         "2023-10-27 14:34"
        ],
        [
         "Argentina",
         "Rugby Sevens",
         "Argentina",
         "Men",
         "2023-10-27 14:34"
        ],
        [
         "Australia",
         "Rugby Sevens",
         "Australia",
         "Men",
         "2023-10-27 14:34"
        ],
        [
         "Australia",
         "Rugby Sevens",
         "Australia",
         "Women",
         "2023-10-27 14:34"
        ],
        [
         "Brazil",
         "Rugby Sevens",
         "Brazil",
         "Women",
         "2023-10-27 14:34"
        ],
        [
         "Canada",
         "Rugby Sevens",
         "Canada",
         "Men",
         "2023-10-27 14:34"
        ],
        [
         "Canada",
         "Rugby Sevens",
         "Canada",
         "Women",
         "2023-10-27 14:34"
        ],
        [
         "China",
         "Rugby Sevens",
         "People's Republic of China",
         "Women",
         "2023-10-27 14:34"
        ],
        [
         "Fiji",
         "Rugby Sevens",
         "Fiji",
         "Men",
         "2023-10-27 14:34"
        ],
        [
         "Fiji",
         "Rugby Sevens",
         "Fiji",
         "Women",
         "2023-10-27 14:34"
        ],
        [
         "France",
         "Rugby Sevens",
         "France",
         "Women",
         "2023-10-27 14:34"
        ],
        [
         "Great Britain",
         "Rugby Sevens",
         "Great Britain",
         "Men",
         "2023-10-27 14:34"
        ],
        [
         "Great Britain",
         "Rugby Sevens",
         "Great Britain",
         "Women",
         "2023-10-27 14:34"
        ],
        [
         "Ireland",
         "Rugby Sevens",
         "Ireland",
         "Men",
         "2023-10-27 14:34"
        ],
        [
         "Japan",
         "Rugby Sevens",
         "Japan",
         "Men",
         "2023-10-27 14:34"
        ],
        [
         "Japan",
         "Rugby Sevens",
         "Japan",
         "Women",
         "2023-10-27 14:34"
        ],
        [
         "Kenya",
         "Rugby Sevens",
         "Kenya",
         "Men",
         "2023-10-27 14:34"
        ],
        [
         "Kenya",
         "Rugby Sevens",
         "Kenya",
         "Women",
         "2023-10-27 14:34"
        ],
        [
         "New Zealand",
         "Rugby Sevens",
         "New Zealand",
         "Men",
         "2023-10-27 14:34"
        ],
        [
         "New Zealand",
         "Rugby Sevens",
         "New Zealand",
         "Women",
         "2023-10-27 14:34"
        ],
        [
         "Republic of Korea",
         "Rugby Sevens",
         "Republic of Korea",
         "Men",
         "2023-10-27 14:34"
        ],
        [
         "ROC",
         "Rugby Sevens",
         "ROC",
         "Women",
         "2023-10-27 14:34"
        ],
        [
         "South Africa",
         "Rugby Sevens",
         "South Africa",
         "Men",
         "2023-10-27 14:34"
        ],
        [
         "United States",
         "Rugby Sevens",
         "United States of America",
         "Men",
         "2023-10-27 14:34"
        ],
        [
         "United States",
         "Rugby Sevens",
         "United States of America",
         "Women",
         "2023-10-27 14:34"
        ],
        [
         "Australia",
         "Swimming",
         "Australia",
         "Men's 4 x 100m Freestyle Relay",
         "2023-10-27 14:34"
        ],
        [
         "Australia",
         "Swimming",
         "Australia",
         "Men's 4 x 100m Medley Relay",
         "2023-10-27 14:34"
        ],
        [
         "Australia",
         "Swimming",
         "Australia",
         "Men's 4 x 200m Freestyle Relay",
         "2023-10-27 14:34"
        ],
        [
         "Australia",
         "Swimming",
         "Australia",
         "Mixed 4 x 100m Medley Relay",
         "2023-10-27 14:34"
        ],
        [
         "Australia",
         "Swimming",
         "Australia",
         "Women's 4 x 100m Freestyle Relay",
         "2023-10-27 14:34"
        ],
        [
         "Australia",
         "Swimming",
         "Australia",
         "Women's 4 x 100m Medley Relay",
         "2023-10-27 14:34"
        ],
        [
         "Australia",
         "Swimming",
         "Australia",
         "Women's 4 x 200m Freestyle Relay",
         "2023-10-27 14:34"
        ],
        [
         "Belarus",
         "Swimming",
         "Belarus",
         "Men's 4 x 100m Medley Relay",
         "2023-10-27 14:34"
        ],
        [
         "Belarus",
         "Swimming",
         "Belarus",
         "Mixed 4 x 100m Medley Relay",
         "2023-10-27 14:34"
        ],
        [
         "Belarus",
         "Swimming",
         "Belarus",
         "Women's 4 x 100m Medley Relay",
         "2023-10-27 14:34"
        ],
        [
         "Brazil",
         "Swimming",
         "Brazil",
         "Men's 4 x 100m Freestyle Relay",
         "2023-10-27 14:34"
        ],
        [
         "Brazil",
         "Swimming",
         "Brazil",
         "Men's 4 x 100m Medley Relay",
         "2023-10-27 14:34"
        ],
        [
         "Brazil",
         "Swimming",
         "Brazil",
         "Men's 4 x 200m Freestyle Relay",
         "2023-10-27 14:34"
        ],
        [
         "Brazil",
         "Swimming",
         "Brazil",
         "Mixed 4 x 100m Medley Relay",
         "2023-10-27 14:34"
        ],
        [
         "Brazil",
         "Swimming",
         "Brazil",
         "Women's 4 x 100m Freestyle Relay",
         "2023-10-27 14:34"
        ],
        [
         "Brazil",
         "Swimming",
         "Brazil",
         "Women's 4 x 200m Freestyle Relay",
         "2023-10-27 14:34"
        ],
        [
         "Canada",
         "Swimming",
         "Canada",
         "Men's 4 x 100m Freestyle Relay",
         "2023-10-27 14:34"
        ],
        [
         "Canada",
         "Swimming",
         "Canada",
         "Men's 4 x 100m Medley Relay",
         "2023-10-27 14:34"
        ],
        [
         "Canada",
         "Swimming",
         "Canada",
         "Mixed 4 x 100m Medley Relay",
         "2023-10-27 14:34"
        ],
        [
         "Canada",
         "Swimming",
         "Canada",
         "Women's 4 x 100m Freestyle Relay",
         "2023-10-27 14:34"
        ],
        [
         "Canada",
         "Swimming",
         "Canada",
         "Women's 4 x 100m Medley Relay",
         "2023-10-27 14:34"
        ],
        [
         "Canada",
         "Swimming",
         "Canada",
         "Women's 4 x 200m Freestyle Relay",
         "2023-10-27 14:34"
        ],
        [
         "China",
         "Swimming",
         "People's Republic of China",
         "Men's 4 x 100m Medley Relay",
         "2023-10-27 14:34"
        ],
        [
         "China",
         "Swimming",
         "People's Republic of China",
         "Men's 4 x 200m Freestyle Relay",
         "2023-10-27 14:34"
        ],
        [
         "China",
         "Swimming",
         "People's Republic of China",
         "Mixed 4 x 100m Medley Relay",
         "2023-10-27 14:34"
        ],
        [
         "China",
         "Swimming",
         "People's Republic of China",
         "Women's 4 x 100m Freestyle Relay",
         "2023-10-27 14:34"
        ],
        [
         "China",
         "Swimming",
         "People's Republic of China",
         "Women's 4 x 100m Medley Relay",
         "2023-10-27 14:34"
        ],
        [
         "China",
         "Swimming",
         "People's Republic of China",
         "Women's 4 x 200m Freestyle Relay",
         "2023-10-27 14:34"
        ],
        [
         "Czech Republic",
         "Swimming",
         "Czech Republic",
         "Women's 4 x 100m Freestyle Relay",
         "2023-10-27 14:34"
        ],
        [
         "Denmark",
         "Swimming",
         "Denmark",
         "Women's 4 x 100m Freestyle Relay",
         "2023-10-27 14:34"
        ],
        [
         "Denmark",
         "Swimming",
         "Denmark",
         "Women's 4 x 100m Medley Relay",
         "2023-10-27 14:34"
        ],
        [
         "France",
         "Swimming",
         "France",
         "Men's 4 x 100m Freestyle Relay",
         "2023-10-27 14:34"
        ],
        [
         "France",
         "Swimming",
         "France",
         "Men's 4 x 100m Medley Relay",
         "2023-10-27 14:34"
        ],
        [
         "France",
         "Swimming",
         "France",
         "Men's 4 x 200m Freestyle Relay",
         "2023-10-27 14:34"
        ],
        [
         "France",
         "Swimming",
         "France",
         "Women's 4 x 100m Freestyle Relay",
         "2023-10-27 14:34"
        ],
        [
         "France",
         "Swimming",
         "France",
         "Women's 4 x 200m Freestyle Relay",
         "2023-10-27 14:34"
        ],
        [
         "Germany",
         "Swimming",
         "Germany",
         "Men's 4 x 100m Freestyle Relay",
         "2023-10-27 14:34"
        ],
        [
         "Germany",
         "Swimming",
         "Germany",
         "Men's 4 x 100m Medley Relay",
         "2023-10-27 14:34"
        ],
        [
         "Germany",
         "Swimming",
         "Germany",
         "Men's 4 x 200m Freestyle Relay",
         "2023-10-27 14:34"
        ],
        [
         "Germany",
         "Swimming",
         "Germany",
         "Mixed 4 x 100m Medley Relay",
         "2023-10-27 14:34"
        ],
        [
         "Germany",
         "Swimming",
         "Germany",
         "Women's 4 x 100m Freestyle Relay",
         "2023-10-27 14:34"
        ],
        [
         "Germany",
         "Swimming",
         "Germany",
         "Women's 4 x 100m Medley Relay",
         "2023-10-27 14:34"
        ],
        [
         "Germany",
         "Swimming",
         "Germany",
         "Women's 4 x 200m Freestyle Relay",
         "2023-10-27 14:34"
        ],
        [
         "Great Britain",
         "Swimming",
         "Great Britain",
         "Men's 4 x 100m Freestyle Relay",
         "2023-10-27 14:34"
        ],
        [
         "Great Britain",
         "Swimming",
         "Great Britain",
         "Men's 4 x 100m Medley Relay",
         "2023-10-27 14:34"
        ],
        [
         "Great Britain",
         "Swimming",
         "Great Britain",
         "Men's 4 x 200m Freestyle Relay",
         "2023-10-27 14:34"
        ],
        [
         "Great Britain",
         "Swimming",
         "Great Britain",
         "Mixed 4 x 100m Medley Relay",
         "2023-10-27 14:34"
        ],
        [
         "Great Britain",
         "Swimming",
         "Great Britain",
         "Women's 4 x 100m Freestyle Relay",
         "2023-10-27 14:34"
        ],
        [
         "Great Britain",
         "Swimming",
         "Great Britain",
         "Women's 4 x 100m Medley Relay",
         "2023-10-27 14:34"
        ],
        [
         "Greece",
         "Swimming",
         "Greece",
         "Men's 4 x 100m Freestyle Relay",
         "2023-10-27 14:34"
        ],
        [
         "Greece",
         "Swimming",
         "Greece",
         "Men's 4 x 100m Medley Relay",
         "2023-10-27 14:34"
        ],
        [
         "Greece",
         "Swimming",
         "Greece",
         "Mixed 4 x 100m Medley Relay",
         "2023-10-27 14:34"
        ],
        [
         "Hong Kong, China",
         "Swimming",
         "Hong Kong, China",
         "Women's 4 x 100m Freestyle Relay",
         "2023-10-27 14:34"
        ],
        [
         "Hong Kong, China",
         "Swimming",
         "Hong Kong, China",
         "Women's 4 x 100m Medley Relay",
         "2023-10-27 14:34"
        ],
        [
         "Hong Kong, China",
         "Swimming",
         "Hong Kong, China",
         "Women's 4 x 200m Freestyle Relay",
         "2023-10-27 14:34"
        ],
        [
         "Hungary",
         "Swimming",
         "Hungary",
         "Men's 4 x 100m Freestyle Relay",
         "2023-10-27 14:34"
        ],
        [
         "Hungary",
         "Swimming",
         "Hungary",
         "Men's 4 x 100m Medley Relay",
         "2023-10-27 14:34"
        ],
        [
         "Hungary",
         "Swimming",
         "Hungary",
         "Men's 4 x 200m Freestyle Relay",
         "2023-10-27 14:34"
        ],
        [
         "Hungary",
         "Swimming",
         "Hungary",
         "Mixed 4 x 100m Medley Relay",
         "2023-10-27 14:34"
        ],
        [
         "Hungary",
         "Swimming",
         "Hungary",
         "Women's 4 x 200m Freestyle Relay",
         "2023-10-27 14:34"
        ],
        [
         "Ireland",
         "Swimming",
         "Ireland",
         "Men's 4 x 200m Freestyle Relay",
         "2023-10-27 14:34"
        ],
        [
         "Israel",
         "Swimming",
         "Israel",
         "Men's 4 x 200m Freestyle Relay",
         "2023-10-27 14:34"
        ],
        [
         "Israel",
         "Swimming",
         "Israel",
         "Mixed 4 x 100m Medley Relay",
         "2023-10-27 14:34"
        ],
        [
         "Italy",
         "Swimming",
         "Italy",
         "Men's 4 x 100m Freestyle Relay",
         "2023-10-27 14:34"
        ],
        [
         "Italy",
         "Swimming",
         "Italy",
         "Men's 4 x 100m Medley Relay",
         "2023-10-27 14:34"
        ],
        [
         "Italy",
         "Swimming",
         "Italy",
         "Men's 4 x 200m Freestyle Relay",
         "2023-10-27 14:34"
        ],
        [
         "Italy",
         "Swimming",
         "Italy",
         "Mixed 4 x 100m Medley Relay",
         "2023-10-27 14:34"
        ],
        [
         "Italy",
         "Swimming",
         "Italy",
         "Women's 4 x 100m Medley Relay",
         "2023-10-27 14:34"
        ],
        [
         "Italy",
         "Swimming",
         "Italy",
         "Women's 4 x 200m Freestyle Relay",
         "2023-10-27 14:34"
        ],
        [
         "Japan",
         "Swimming",
         "Japan",
         "Men's 4 x 100m Freestyle Relay",
         "2023-10-27 14:34"
        ],
        [
         "Japan",
         "Swimming",
         "Japan",
         "Men's 4 x 100m Medley Relay",
         "2023-10-27 14:34"
        ],
        [
         "Japan",
         "Swimming",
         "Japan",
         "Men's 4 x 200m Freestyle Relay",
         "2023-10-27 14:34"
        ],
        [
         "Japan",
         "Swimming",
         "Japan",
         "Mixed 4 x 100m Medley Relay",
         "2023-10-27 14:34"
        ],
        [
         "Japan",
         "Swimming",
         "Japan",
         "Women's 4 x 100m Freestyle Relay",
         "2023-10-27 14:34"
        ],
        [
         "Japan",
         "Swimming",
         "Japan",
         "Women's 4 x 100m Medley Relay",
         "2023-10-27 14:34"
        ],
        [
         "Japan",
         "Swimming",
         "Japan",
         "Women's 4 x 200m Freestyle Relay",
         "2023-10-27 14:34"
        ],
        [
         "Lithuania",
         "Swimming",
         "Lithuania",
         "Men's 4 x 100m Medley Relay",
         "2023-10-27 14:34"
        ],
        [
         "Netherlands",
         "Swimming",
         "Netherlands",
         "Men's 4 x 100m Freestyle Relay",
         "2023-10-27 14:34"
        ],
        [
         "Netherlands",
         "Swimming",
         "Netherlands",
         "Mixed 4 x 100m Medley Relay",
         "2023-10-27 14:34"
        ],
        [
         "Netherlands",
         "Swimming",
         "Netherlands",
         "Women's 4 x 100m Freestyle Relay",
         "2023-10-27 14:34"
        ],
        [
         "Netherlands",
         "Swimming",
         "Netherlands",
         "Women's 4 x 100m Medley Relay",
         "2023-10-27 14:34"
        ],
        [
         "New Zealand",
         "Swimming",
         "New Zealand",
         "Women's 4 x 200m Freestyle Relay",
         "2023-10-27 14:34"
        ],
        [
         "Poland",
         "Swimming",
         "Poland",
         "Men's 4 x 100m Freestyle Relay",
         "2023-10-27 14:34"
        ],
        [
         "Poland",
         "Swimming",
         "Poland",
         "Men's 4 x 100m Medley Relay",
         "2023-10-27 14:34"
        ],
        [
         "Poland",
         "Swimming",
         "Poland",
         "Men's 4 x 200m Freestyle Relay",
         "2023-10-27 14:34"
        ],
        [
         "Poland",
         "Swimming",
         "Poland",
         "Mixed 4 x 100m Medley Relay",
         "2023-10-27 14:34"
        ],
        [
         "Poland",
         "Swimming",
         "Poland",
         "Women's 4 x 100m Freestyle Relay",
         "2023-10-27 14:34"
        ],
        [
         "Poland",
         "Swimming",
         "Poland",
         "Women's 4 x 200m Freestyle Relay",
         "2023-10-27 14:34"
        ],
        [
         "Republic of Korea",
         "Swimming",
         "Republic of Korea",
         "Men's 4 x 200m Freestyle Relay",
         "2023-10-27 14:34"
        ],
        [
         "Republic of Korea",
         "Swimming",
         "Republic of Korea",
         "Women's 4 x 200m Freestyle Relay",
         "2023-10-27 14:34"
        ],
        [
         "ROC",
         "Swimming",
         "ROC",
         "Men's 4 x 100m Freestyle Relay",
         "2023-10-27 14:34"
        ],
        [
         "ROC",
         "Swimming",
         "ROC",
         "Men's 4 x 100m Medley Relay",
         "2023-10-27 14:34"
        ],
        [
         "ROC",
         "Swimming",
         "ROC",
         "Men's 4 x 200m Freestyle Relay",
         "2023-10-27 14:34"
        ],
        [
         "ROC",
         "Swimming",
         "ROC",
         "Mixed 4 x 100m Medley Relay",
         "2023-10-27 14:34"
        ],
        [
         "ROC",
         "Swimming",
         "ROC",
         "Women's 4 x 100m Freestyle Relay",
         "2023-10-27 14:34"
        ],
        [
         "ROC",
         "Swimming",
         "ROC",
         "Women's 4 x 100m Medley Relay",
         "2023-10-27 14:34"
        ],
        [
         "ROC",
         "Swimming",
         "ROC",
         "Women's 4 x 200m Freestyle Relay",
         "2023-10-27 14:34"
        ],
        [
         "Serbia",
         "Swimming",
         "Serbia",
         "Men's 4 x 100m Freestyle Relay",
         "2023-10-27 14:34"
        ],
        [
         "South Africa",
         "Swimming",
         "South Africa",
         "Women's 4 x 100m Medley Relay",
         "2023-10-27 14:34"
        ],
        [
         "South Africa",
         "Swimming",
         "South Africa",
         "Women's 4 x 200m Freestyle Relay",
         "2023-10-27 14:34"
        ],
        [
         "Spain",
         "Swimming",
         "Spain",
         "Women's 4 x 100m Medley Relay",
         "2023-10-27 14:34"
        ],
        [
         "Sweden",
         "Swimming",
         "Sweden",
         "Women's 4 x 100m Freestyle Relay",
         "2023-10-27 14:34"
        ],
        [
         "Sweden",
         "Swimming",
         "Sweden",
         "Women's 4 x 100m Medley Relay",
         "2023-10-27 14:34"
        ],
        [
         "Switzerland",
         "Swimming",
         "Switzerland",
         "Men's 4 x 100m Freestyle Relay",
         "2023-10-27 14:34"
        ],
        [
         "Switzerland",
         "Swimming",
         "Switzerland",
         "Men's 4 x 200m Freestyle Relay",
         "2023-10-27 14:34"
        ],
        [
         "Turkey",
         "Swimming",
         "Turkey",
         "Women's 4 x 200m Freestyle Relay",
         "2023-10-27 14:34"
        ],
        [
         "United States",
         "Swimming",
         "United States of America",
         "Men's 4 x 100m Freestyle Relay",
         "2023-10-27 14:34"
        ],
        [
         "United States",
         "Swimming",
         "United States of America",
         "Men's 4 x 100m Medley Relay",
         "2023-10-27 14:34"
        ],
        [
         "United States",
         "Swimming",
         "United States of America",
         "Men's 4 x 200m Freestyle Relay",
         "2023-10-27 14:34"
        ],
        [
         "United States",
         "Swimming",
         "United States of America",
         "Mixed 4 x 100m Medley Relay",
         "2023-10-27 14:34"
        ],
        [
         "United States",
         "Swimming",
         "United States of America",
         "Women's 4 x 100m Freestyle Relay",
         "2023-10-27 14:34"
        ],
        [
         "United States",
         "Swimming",
         "United States of America",
         "Women's 4 x 100m Medley Relay",
         "2023-10-27 14:34"
        ],
        [
         "United States",
         "Swimming",
         "United States of America",
         "Women's 4 x 200m Freestyle Relay",
         "2023-10-27 14:34"
        ],
        [
         "Australia",
         "Table Tennis",
         "Australia",
         "Men's Team",
         "2023-10-27 14:34"
        ],
        [
         "HU Heming / TAPPER Melissa",
         "Table Tennis",
         "Australia",
         "Mixed Doubles",
         "2023-10-27 14:34"
        ],
        [
         "Australia",
         "Table Tennis",
         "Australia",
         "Women's Team",
         "2023-10-27 14:34"
        ],
        [
         "FEGERL Stefan / POLCANOVA Sofia",
         "Table Tennis",
         "Austria",
         "Mixed Doubles",
         "2023-10-27 14:34"
        ],
        [
         "Austria",
         "Table Tennis",
         "Austria",
         "Women's Team",
         "2023-10-27 14:34"
        ],
        [
         "Brazil",
         "Table Tennis",
         "Brazil",
         "Men's Team",
         "2023-10-27 14:34"
        ],
        [
         "Brazil",
         "Table Tennis",
         "Brazil",
         "Women's Team",
         "2023-10-27 14:34"
        ],
        [
         "WANG Zhen / ZHANG Mo",
         "Table Tennis",
         "Canada",
         "Mixed Doubles",
         "2023-10-27 14:34"
        ],
        [
         "China",
         "Table Tennis",
         "People's Republic of China",
         "Men's Team",
         "2023-10-27 14:34"
        ],
        [
         "XU Xin / LIU Shiwen",
         "Table Tennis",
         "People's Republic of China",
         "Mixed Doubles",
         "2023-10-27 14:34"
        ],
        [
         "China",
         "Table Tennis",
         "People's Republic of China",
         "Women's Team",
         "2023-10-27 14:34"
        ],
        [
         "Chinese Taipei",
         "Table Tennis",
         "Chinese Taipei",
         "Men's Team",
         "2023-10-27 14:34"
        ],
        [
         "LIN Yun Ju / CHENG I Ching",
         "Table Tennis",
         "Chinese Taipei",
         "Mixed Doubles",
         "2023-10-27 14:34"
        ],
        [
         "Chinese Taipei",
         "Table Tennis",
         "Chinese Taipei",
         "Women's Team",
         "2023-10-27 14:34"
        ],
        [
         "Croatia",
         "Table Tennis",
         "Croatia",
         "Men's Team",
         "2023-10-27 14:34"
        ],
        [
         "CAMPOS Jorge / FONSECA Daniela",
         "Table Tennis",
         "Cuba",
         "Mixed Doubles",
         "2023-10-27 14:34"
        ],
        [
         "Egypt",
         "Table Tennis",
         "Egypt",
         "Men's Team",
         "2023-10-27 14:34"
        ],
        [
         "ASSAR Omar / MESHREF Dina",
         "Table Tennis",
         "Egypt",
         "Mixed Doubles",
         "2023-10-27 14:34"
        ],
        [
         "Egypt",
         "Table Tennis",
         "Egypt",
         "Women's Team",
         "2023-10-27 14:34"
        ],
        [
         "France",
         "Table Tennis",
         "France",
         "Men's Team",
         "2023-10-27 14:34"
        ],
        [
         "LEBESSON Emmanuel / YUAN Jia Nan",
         "Table Tennis",
         "France",
         "Mixed Doubles",
         "2023-10-27 14:34"
        ],
        [
         "France",
         "Table Tennis",
         "France",
         "Women's Team",
         "2023-10-27 14:34"
        ],
        [
         "Germany",
         "Table Tennis",
         "Germany",
         "Men's Team",
         "2023-10-27 14:34"
        ],
        [
         "FRANZISKA Patrick / SOLJA Petrissa",
         "Table Tennis",
         "Germany",
         "Mixed Doubles",
         "2023-10-27 14:34"
        ],
        [
         "Germany",
         "Table Tennis",
         "Germany",
         "Women's Team",
         "2023-10-27 14:34"
        ],
        [
         "Hong Kong, China",
         "Table Tennis",
         "Hong Kong, China",
         "Men's Team",
         "2023-10-27 14:34"
        ],
        [
         "WONG Chun Ting / DOO Hoi Kem",
         "Table Tennis",
         "Hong Kong, China",
         "Mixed Doubles",
         "2023-10-27 14:34"
        ],
        [
         "Hong Kong, China",
         "Table Tennis",
         "Hong Kong, China",
         "Women's Team",
         "2023-10-27 14:34"
        ],
        [
         "SZUDI Adam / PERGEL Szandra",
         "Table Tennis",
         "Hungary",
         "Mixed Doubles",
         "2023-10-27 14:34"
        ],
        [
         "Hungary",
         "Table Tennis",
         "Hungary",
         "Women's Team",
         "2023-10-27 14:34"
        ],
        [
         "ACHANTA Kamal / BATRA Manika",
         "Table Tennis",
         "India",
         "Mixed Doubles",
         "2023-10-27 14:34"
        ],
        [
         "Japan",
         "Table Tennis",
         "Japan",
         "Men's Team",
         "2023-10-27 14:34"
        ],
        [
         "MIZUTANI Jun / ITO Mima",
         "Table Tennis",
         "Japan",
         "Mixed Doubles",
         "2023-10-27 14:34"
        ],
        [
         "Japan",
         "Table Tennis",
         "Japan",
         "Women's Team",
         "2023-10-27 14:34"
        ],
        [
         "Poland",
         "Table Tennis",
         "Poland",
         "Women's Team",
         "2023-10-27 14:34"
        ],
        [
         "Portugal",
         "Table Tennis",
         "Portugal",
         "Men's Team",
         "2023-10-27 14:34"
        ],
        [
         "Republic of Korea",
         "Table Tennis",
         "Republic of Korea",
         "Men's Team",
         "2023-10-27 14:34"
        ],
        [
         "LEE Sangsu / JEON Jihee",
         "Table Tennis",
         "Republic of Korea",
         "Mixed Doubles",
         "2023-10-27 14:34"
        ],
        [
         "Republic of Korea",
         "Table Tennis",
         "Republic of Korea",
         "Women's Team",
         "2023-10-27 14:34"
        ],
        [
         "IONESCU Ovidiu / SZOCS Bernadette",
         "Table Tennis",
         "Romania",
         "Mixed Doubles",
         "2023-10-27 14:34"
        ],
        [
         "Romania",
         "Table Tennis",
         "Romania",
         "Women's Team",
         "2023-10-27 14:34"
        ],
        [
         "Serbia",
         "Table Tennis",
         "Serbia",
         "Men's Team",
         "2023-10-27 14:34"
        ],
        [
         "Singapore",
         "Table Tennis",
         "Singapore",
         "Women's Team",
         "2023-10-27 14:34"
        ],
        [
         "PISTEJ Lubomir / BALAZOVA Barbora",
         "Table Tennis",
         "Slovakia",
         "Mixed Doubles",
         "2023-10-27 14:34"
        ],
        [
         "Slovenia",
         "Table Tennis",
         "Slovenia",
         "Men's Team",
         "2023-10-27 14:34"
        ],
        [
         "Sweden",
         "Table Tennis",
         "Sweden",
         "Men's Team",
         "2023-10-27 14:34"
        ],
        [
         "United States",
         "Table Tennis",
         "United States of America",
         "Men's Team",
         "2023-10-27 14:34"
        ],
        [
         "United States",
         "Table Tennis",
         "United States of America",
         "Women's Team",
         "2023-10-27 14:34"
        ],
        [
         "Australia",
         "Triathlon",
         "Australia",
         "Mixed Relay",
         "2023-10-27 14:34"
        ],
        [
         "Austria",
         "Triathlon",
         "Austria",
         "Mixed Relay",
         "2023-10-27 14:34"
        ],
        [
         "Belgium",
         "Triathlon",
         "Belgium",
         "Mixed Relay",
         "2023-10-27 14:34"
        ],
        [
         "Canada",
         "Triathlon",
         "Canada",
         "Mixed Relay",
         "2023-10-27 14:34"
        ],
        [
         "France",
         "Triathlon",
         "France",
         "Mixed Relay",
         "2023-10-27 14:34"
        ],
        [
         "Germany",
         "Triathlon",
         "Germany",
         "Mixed Relay",
         "2023-10-27 14:34"
        ],
        [
         "Great Britain",
         "Triathlon",
         "Great Britain",
         "Mixed Relay",
         "2023-10-27 14:34"
        ],
        [
         "Hungary",
         "Triathlon",
         "Hungary",
         "Mixed Relay",
         "2023-10-27 14:34"
        ],
        [
         "Italy",
         "Triathlon",
         "Italy",
         "Mixed Relay",
         "2023-10-27 14:34"
        ],
        [
         "Japan",
         "Triathlon",
         "Japan",
         "Mixed Relay",
         "2023-10-27 14:34"
        ],
        [
         "Mexico",
         "Triathlon",
         "Mexico",
         "Mixed Relay",
         "2023-10-27 14:34"
        ],
        [
         "Netherlands",
         "Triathlon",
         "Netherlands",
         "Mixed Relay",
         "2023-10-27 14:34"
        ],
        [
         "New Zealand",
         "Triathlon",
         "New Zealand",
         "Mixed Relay",
         "2023-10-27 14:34"
        ],
        [
         "ROC",
         "Triathlon",
         "ROC",
         "Mixed Relay",
         "2023-10-27 14:34"
        ],
        [
         "South Africa",
         "Triathlon",
         "South Africa",
         "Mixed Relay",
         "2023-10-27 14:34"
        ],
        [
         "Spain",
         "Triathlon",
         "Spain",
         "Mixed Relay",
         "2023-10-27 14:34"
        ],
        [
         "Switzerland",
         "Triathlon",
         "Switzerland",
         "Mixed Relay",
         "2023-10-27 14:34"
        ],
        [
         "United States",
         "Triathlon",
         "United States of America",
         "Mixed Relay",
         "2023-10-27 14:34"
        ],
        [
         "Argentina",
         "Volleyball",
         "Argentina",
         "Men",
         "2023-10-27 14:34"
        ],
        [
         "Argentina",
         "Volleyball",
         "Argentina",
         "Women",
         "2023-10-27 14:34"
        ],
        [
         "Brazil",
         "Volleyball",
         "Brazil",
         "Men",
         "2023-10-27 14:34"
        ],
        [
         "Brazil",
         "Volleyball",
         "Brazil",
         "Women",
         "2023-10-27 14:34"
        ],
        [
         "Canada",
         "Volleyball",
         "Canada",
         "Men",
         "2023-10-27 14:34"
        ],
        [
         "China",
         "Volleyball",
         "People's Republic of China",
         "Women",
         "2023-10-27 14:34"
        ],
        [
         "Dominican Rep.",
         "Volleyball",
         "Dominican Republic",
         "Women",
         "2023-10-27 14:34"
        ],
        [
         "France",
         "Volleyball",
         "France",
         "Men",
         "2023-10-27 14:34"
        ],
        [
         "Islamic Rep. of Iran",
         "Volleyball",
         "Islamic Republic of Iran",
         "Men",
         "2023-10-27 14:34"
        ],
        [
         "Italy",
         "Volleyball",
         "Italy",
         "Men",
         "2023-10-27 14:34"
        ],
        [
         "Italy",
         "Volleyball",
         "Italy",
         "Women",
         "2023-10-27 14:34"
        ],
        [
         "Japan",
         "Volleyball",
         "Japan",
         "Men",
         "2023-10-27 14:34"
        ],
        [
         "Japan",
         "Volleyball",
         "Japan",
         "Women",
         "2023-10-27 14:34"
        ],
        [
         "Kenya",
         "Volleyball",
         "Kenya",
         "Women",
         "2023-10-27 14:34"
        ],
        [
         "Poland",
         "Volleyball",
         "Poland",
         "Men",
         "2023-10-27 14:34"
        ],
        [
         "Republic of Korea",
         "Volleyball",
         "Republic of Korea",
         "Women",
         "2023-10-27 14:34"
        ],
        [
         "ROC",
         "Volleyball",
         "ROC",
         "Men",
         "2023-10-27 14:34"
        ],
        [
         "ROC",
         "Volleyball",
         "ROC",
         "Women",
         "2023-10-27 14:34"
        ],
        [
         "Serbia",
         "Volleyball",
         "Serbia",
         "Women",
         "2023-10-27 14:34"
        ],
        [
         "Tunisia",
         "Volleyball",
         "Tunisia",
         "Men",
         "2023-10-27 14:34"
        ],
        [
         "Turkey",
         "Volleyball",
         "Turkey",
         "Women",
         "2023-10-27 14:34"
        ],
        [
         "United States",
         "Volleyball",
         "United States of America",
         "Men",
         "2023-10-27 14:34"
        ],
        [
         "United States",
         "Volleyball",
         "United States of America",
         "Women",
         "2023-10-27 14:34"
        ],
        [
         "Venezuela",
         "Volleyball",
         "Venezuela",
         "Men",
         "2023-10-27 14:34"
        ],
        [
         "Australia",
         "Water Polo",
         "Australia",
         "Men",
         "2023-10-27 14:34"
        ],
        [
         "Australia",
         "Water Polo",
         "Australia",
         "Women",
         "2023-10-27 14:34"
        ],
        [
         "Canada",
         "Water Polo",
         "Canada",
         "Women",
         "2023-10-27 14:34"
        ],
        [
         "China",
         "Water Polo",
         "People's Republic of China",
         "Women",
         "2023-10-27 14:34"
        ],
        [
         "Croatia",
         "Water Polo",
         "Croatia",
         "Men",
         "2023-10-27 14:34"
        ],
        [
         "Greece",
         "Water Polo",
         "Greece",
         "Men",
         "2023-10-27 14:34"
        ],
        [
         "Hungary",
         "Water Polo",
         "Hungary",
         "Men",
         "2023-10-27 14:34"
        ],
        [
         "Hungary",
         "Water Polo",
         "Hungary",
         "Women",
         "2023-10-27 14:34"
        ],
        [
         "Italy",
         "Water Polo",
         "Italy",
         "Men",
         "2023-10-27 14:34"
        ],
        [
         "Japan",
         "Water Polo",
         "Japan",
         "Men",
         "2023-10-27 14:34"
        ],
        [
         "Japan",
         "Water Polo",
         "Japan",
         "Women",
         "2023-10-27 14:34"
        ],
        [
         "Kazakhstan",
         "Water Polo",
         "Kazakhstan",
         "Men",
         "2023-10-27 14:34"
        ],
        [
         "Montenegro",
         "Water Polo",
         "Montenegro",
         "Men",
         "2023-10-27 14:34"
        ],
        [
         "Netherlands",
         "Water Polo",
         "Netherlands",
         "Women",
         "2023-10-27 14:34"
        ],
        [
         "ROC",
         "Water Polo",
         "ROC",
         "Women",
         "2023-10-27 14:34"
        ],
        [
         "Serbia",
         "Water Polo",
         "Serbia",
         "Men",
         "2023-10-27 14:34"
        ],
        [
         "South Africa",
         "Water Polo",
         "South Africa",
         "Men",
         "2023-10-27 14:34"
        ],
        [
         "South Africa",
         "Water Polo",
         "South Africa",
         "Women",
         "2023-10-27 14:34"
        ],
        [
         "Spain",
         "Water Polo",
         "Spain",
         "Men",
         "2023-10-27 14:34"
        ],
        [
         "Spain",
         "Water Polo",
         "Spain",
         "Women",
         "2023-10-27 14:34"
        ],
        [
         "United States",
         "Water Polo",
         "United States of America",
         "Men",
         "2023-10-27 14:34"
        ],
        [
         "United States",
         "Water Polo",
         "United States of America",
         "Women",
         "2023-10-27 14:34"
        ]
       ],
       "datasetInfos": [],
       "dbfsResultPath": null,
       "isJsonSchema": true,
       "metadata": {},
       "overflow": false,
       "plotOptions": {
        "customPlotOptions": {},
        "displayType": "table",
        "pivotAggregation": null,
        "pivotColumns": null,
        "xColumns": null,
        "yColumns": null
       },
       "removedWidgets": [],
       "schema": [
        {
         "metadata": "{}",
         "name": "team_name",
         "type": "\"string\""
        },
        {
         "metadata": "{}",
         "name": "discipline",
         "type": "\"string\""
        },
        {
         "metadata": "{}",
         "name": "country",
         "type": "\"string\""
        },
        {
         "metadata": "{}",
         "name": "event",
         "type": "\"string\""
        },
        {
         "metadata": "{}",
         "name": "etl_date",
         "type": "\"string\""
        }
       ],
       "type": "table"
      }
     },
     "output_type": "display_data"
    }
   ],
   "source": [
    "df_final.display()"
   ]
  },
  {
   "cell_type": "code",
   "execution_count": 0,
   "metadata": {
    "application/vnd.databricks.v1+cell": {
     "cellMetadata": {
      "byteLimit": 2048000,
      "rowLimit": 10000
     },
     "inputWidgets": {},
     "nuid": "109a4aed-9394-4306-9544-e88af37f9cbd",
     "showTitle": false,
     "title": ""
    }
   },
   "outputs": [],
   "source": [
    "df_final.write.format('parquet').mode('overwrite').save('/mnt/tokyoolymic/transformed-data/teams')"
   ]
  }
 ],
 "metadata": {
  "application/vnd.databricks.v1+notebook": {
   "dashboards": [],
   "language": "python",
   "notebookMetadata": {
    "mostRecentlyExecutedCommandWithImplicitDF": {
     "commandId": 97374714683857,
     "dataframes": [
      "_sqldf"
     ]
    },
    "pythonIndentUnit": 4
   },
   "notebookName": "1_PZ_CZ_Teams",
   "widgets": {}
  }
 },
 "nbformat": 4,
 "nbformat_minor": 0
}
